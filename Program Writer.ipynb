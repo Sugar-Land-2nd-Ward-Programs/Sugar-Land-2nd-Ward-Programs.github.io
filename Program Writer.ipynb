{
 "cells": [
  {
   "cell_type": "markdown",
   "id": "81f29a21",
   "metadata": {},
   "source": [
    "# Template for Creating Sacrament Meeting Programs\n",
    "\n",
    "## Uses MarkupPy to generate the HTML"
   ]
  },
  {
   "cell_type": "code",
   "execution_count": 205,
   "id": "aa66d71d",
   "metadata": {},
   "outputs": [],
   "source": [
    "#\n",
    "# Sugar Land 2nd Ward HTML Program Writer\n",
    "#\n",
    "# Pete Slater\n",
    "# June 2022\n",
    "\n",
    "import hymndict # Titles and links to hymns\n",
    "import htmlpy # Local copy of source code\n",
    "from htmlpy import oneliner as e\n",
    "import artlinks # Links to artwork\n",
    "import sundays # Sunday schedule\n",
    "import sys\n",
    "import datetime as dt\n",
    "import calendar"
   ]
  },
  {
   "cell_type": "markdown",
   "id": "77d10844",
   "metadata": {},
   "source": [
    "# Customized functions to create the HTML for standard agenda items"
   ]
  },
  {
   "cell_type": "code",
   "execution_count": 206,
   "id": "49433c25",
   "metadata": {},
   "outputs": [],
   "source": [
    "'''\n",
    "Define functions for formatting each of the items that can appear in a program.\n",
    "Build the program in the main script by calling the functions.\n",
    "\n",
    "'''\n",
    "def officer(role, officer, page):\n",
    "    page.p(e.b(role+\":\")+\" \"+officer,align=\"center\")\n",
    "\n",
    "def pagetitle(unit, meeting, meetdate,page):\n",
    "    page.h1(unit, align=\"center\")\n",
    "    page.h2(meeting, align=\"center\")\n",
    "    page.h2(meetdate, align=\"center\")\n",
    "\n",
    "def speaker(name, page):\n",
    "    page.h2(\"Speaker\", align=\"center\")\n",
    "    page.p(name,align=\"center\")\n",
    "def prayer(name, description, page):\n",
    "    page.h2(description, align=\"center\")\n",
    "    page.p(name,align=\"center\")    \n",
    "    \n",
    "def testimony(name, page):\n",
    "    page.h2(\"Testimony\", align=\"center\")\n",
    "    page.p(name,align=\"center\")\n",
    "    \n",
    "def testimonies(page):\n",
    "    page.h2(\"Bearing of Testimonies\", align=\"center\")\n",
    "\n",
    "def music(number, description, page):\n",
    "    page.h2(description,align=\"center\")\n",
    "    [hymntitle, hymnurl] = hymndict.hymns[number]\n",
    "    page.p(e.a(\"#\" + str(number)+\", \"+hymntitle, href=hymnurl),align=\"center\")\n",
    "    \n",
    "def specialmusic(performers,page,title=None,accompanist=None):\n",
    "    page.h2(\"Special Musical Number\",align=\"center\")\n",
    "    if title != None:\n",
    "        page.p(e.i(title),align=\"center\")\n",
    "    page.p(performers,align=\"center\")\n",
    "    if accompanist != None:\n",
    "        page.p(\"Acc. by \" + accompanist, align=\"center\")\n",
    "        \n",
    "def thought(text, author, page):\n",
    "    page.hr()\n",
    "    page.p(text, align=\"center\")\n",
    "    page.p(\"- \"+author,align=\"center\")\n",
    " \n",
    "# Announcements are passed as a list of text strings\n",
    "def announcements(textlist,page):\n",
    "    page.hr()\n",
    "    page.h1(\"Announcements\", align=\"center\")\n",
    "    for txt in textlist:\n",
    "        page.p(txt,align=\"center\")\n",
    "        \n",
    "# Calendar items are passed as a list of text strings\n",
    "def print_calendar(textlist,page):\n",
    "    page.hr()\n",
    "    page.h1(\"Calendar Items\", align=\"center\")\n",
    "    for txt in textlist:\n",
    "        page.p(txt,align=\"center\")\n",
    "\n",
    "# Custom section for Preparedness Corner, etc.\n",
    "def custom(title, txtlist, linklist, page):\n",
    "    page.hr()\n",
    "    page.h1(title, align=\"center\")\n",
    "    if txtlist != None:\n",
    "        for txt in txtlist:\n",
    "            page.p(txt,align=\"center\")\n",
    "    if linklist != None:\n",
    "        for link in linklist:\n",
    "            page.p(e.a(link[0], href=link[1], target=\"_blank\", rel=\"noreferrer noopener\"),align=\"center\")\n",
    "        \n",
    "# Place some links, passed as a list containing text and url\n",
    "def links(linklist, page):\n",
    "    page.hr()\n",
    "    page.h1(\"Links\", align=\"center\")\n",
    "    for link in linklist:\n",
    "        page.p(e.a(link[0], href=link[1], target=\"_blank\", rel=\"noreferrer noopener\"),align=\"center\")\n",
    "        \n",
    "# Print credits at the bottom of the page\n",
    "def credit(editor, page):\n",
    "#'''Print credits and datestamp ''' \n",
    "    today = dt.date.today()\n",
    "    page.hr()\n",
    "    text = today.strftime(\"Edited %B %d, %Y by \") + editor\n",
    "    page.small(text,align=\"center\")        \n",
    "    "
   ]
  },
  {
   "cell_type": "markdown",
   "id": "3925b3d1",
   "metadata": {},
   "source": [
    "## Functions for the cleaning calendar"
   ]
  },
  {
   "cell_type": "code",
   "execution_count": 207,
   "id": "72930085",
   "metadata": {},
   "outputs": [],
   "source": [
    "# Enable of checking of whether a date is in our ward's turn\n",
    "start_turn = dt.date(2023,7,1)\n",
    "end_turn = dt.date(2024,6,30)\n",
    "\n",
    "def our_turn(check):\n",
    "    if check >= start_turn and check <= end_turn:\n",
    "        return True\n",
    "    else:\n",
    "        return False\n",
    "    \n",
    "def nextsunday(n):\n",
    "#\"\"\" Return next n Sundays, including today if it's Sunday\"\"\"\n",
    " today = dt.date.today()\n",
    " daynum = today.weekday() # Sunday is day #6\n",
    "\n",
    " if daynum == 6:\n",
    "  basedate = today \n",
    " else:\n",
    "  basedate = today + dt.timedelta(6-daynum)\n",
    "    \n",
    " sundays = []\n",
    " for i in range(n):\n",
    "  nxtSunday = basedate + dt.timedelta(i*7)\n",
    "  #sundays.append(nxtSunday.strftime(\"%B %d, %Y\"))\n",
    "  sundays.append(nxtSunday.strftime(\"%B %d\"))\n",
    " return sundays\n",
    "\n",
    "def nextsaturday(n):\n",
    "#\"\"\" Return next n Saturdays, including today if it's Saturday\"\"\"\n",
    " today = dt.date.today()\n",
    " daynum = today.weekday() # Saturday is day #5\n",
    "\n",
    " if daynum == 5:\n",
    "  basedate = today \n",
    " else:\n",
    "  basedate = today + dt.timedelta(5-daynum)\n",
    "    \n",
    " saturdays = []\n",
    " for i in range(n):\n",
    "  nxtSaturday = basedate + dt.timedelta(i*7)\n",
    "  if our_turn(nxtSaturday):\n",
    "      saturdays.append(nxtSaturday.strftime(\"%B %d\"))\n",
    " return saturdays\n",
    "\n"
   ]
  },
  {
   "cell_type": "markdown",
   "id": "ba5c281e",
   "metadata": {},
   "source": [
    "## Functions for the recurring ward temple days, which as of September 2024, was the 2nd Saturday"
   ]
  },
  {
   "cell_type": "code",
   "execution_count": 208,
   "id": "ab1ad165",
   "metadata": {},
   "outputs": [],
   "source": [
    "# Uses an example from www.w3resource.com\n",
    "\n",
    "def second_saturday(year, month):\n",
    "    \"\"\"get the second Saturday of the month\"\"\"\n",
    "    cal = calendar.monthcalendar(year, month)\n",
    "    first_week = cal[0]\n",
    "    second_week = cal[1]\n",
    "    third_week = cal[2]\n",
    "\n",
    "    if first_week[calendar.SATURDAY]:\n",
    "        second_saturday = second_week[calendar.SATURDAY]\n",
    "    else:\n",
    "            second_saturday = third_week[calendar.SATURDAY]\n",
    "\n",
    "    \n",
    "    #s = \"{0} {1}\\n\".format(calendar.month_name[month], second_saturday)\n",
    "    \n",
    "    return dt.date(year, month, second_saturday)\n",
    "\n",
    "def upcoming_Saturdays(n):\n",
    "     \"\"\"return the next n upcoming 2nd Saturdays\"\"\"\n",
    "     \n",
    "     # Check the date and determine if we're past this month's temple day\n",
    "     today = dt.datetime.today()\n",
    "     thismonth = today.month\n",
    "     thisyear = today.year\n",
    "     thisdate = today.day\n",
    "     thismonth_templeday = second_saturday(thisyear, thismonth)\n",
    "     if (thismonth_templeday.day < thisdate): # This month's temple day is past\n",
    "          thismonth += 1 # Look at next month\n",
    "          if thismonth == 13: # Fix potential run into next year\n",
    "               thismonth = 1\n",
    "               thisyear += 1\n",
    "    \n",
    "    # Get set to return a list of upcoming dates\n",
    "     result = []\n",
    "\n",
    "    # Now look at months month ahead, fixing year overflow if necessary\n",
    "     for i in range(n):\n",
    "        nextmonth = thismonth+i\n",
    "        if nextmonth > 12:\n",
    "            nextmonth -= 12\n",
    "        if nextmonth < thismonth:\n",
    "            nextyear = thisyear + 1\n",
    "        else:\n",
    "            nextyear = thisyear\n",
    "        result.append(second_saturday(nextyear, nextmonth))\n",
    "\n",
    "     output = [\"{0} {1}\".format(calendar.month_name[trip.month], trip.day) for trip in result]\n",
    "     output2 = \"Upcoming temple days: \" + \", \".join(output)\n",
    "\n",
    "     return(result, output2)"
   ]
  },
  {
   "cell_type": "markdown",
   "id": "05d3fa30",
   "metadata": {},
   "source": [
    "### Cleaning Roster for 2023-24 "
   ]
  },
  {
   "cell_type": "code",
   "execution_count": 209,
   "id": "93082aa1",
   "metadata": {},
   "outputs": [],
   "source": [
    "roster = {\n",
    "    \"June 24\" : \"Sugar Land 1st\",\n",
    "    \"July 01\" : \"Bradford, Arnold, Emerson, Markwalter\",\n",
    "    \"July 08\" : \"Clark, Lambert, Blackburn, Ganci, Martin, Robinson\",\n",
    "    \"July 15\" : \"Crandall, Blanco, Garcia, Moline, Thibault\",\n",
    "    \"July 22\" : \"Crosby, Boyer, Griffin, Mike & Dawnette Moore, MacKinnon\",\n",
    "    \"July 29\" : \"Maplewood 3rd Branch\",\n",
    "    \"August 05\" : \"Draney, Buchanan, Hettinger, Morton, Tracey\",\n",
    "    \"August 12\" : \"Leavitt, Chen, Hintze, Ozomah, Seegmiller\",\n",
    "    \"August 19\" : \"Powell, Clements, Horowitz, Quam, Wightman\",\n",
    "    \"August 26\" : \"Kaye Reynolds, Debow, Jeffery, Rasmussen, Winningham\",\n",
    "    \"September 02\" : \"Roskelley, Ekstrom, Ocampo, Juarez, Jason & Deann Moore, Slater\",\n",
    "    \"September 09\" : \"Arnold, Bradford, Emerson, Markwalter\",\n",
    "    \"September 16\" : \"Blackburn, Clark, Ganci, Lambert, Martin, Robinson\",\n",
    "    \"September 23\" : \"Blanco, Crandall, Garcia, Moline, Thibault\",\n",
    "    \"September 30\" : \"Maplewood 3rd Branch\",\n",
    "    \"October 07\" : \"Boyer, Crosby, Griffin, MacKinnon, Mike & Dawnette Moore\",\n",
    "    \"October 14\" : \"Buchanan, Draney, Hettinger, Morton, Tracey\",\n",
    "    \"October 21\" : \"Chen, Hintze, Leavitt, Ozomah, Seegmiller\",\n",
    "    \"October 28\" : \"Clements, Horowitz, Powell, Quam, Wightman\",\n",
    "    \"November 04\" : \"Debow, Jeffery, Rasmussen, Kay Reynolds, Winningham\",\n",
    "    \"November 11\" : \"Ekstrom, Juarez, Jason & Deann Moore, Ocampo, Roskelley, Slater\",\n",
    "    \"November 18\" : \"Arnold, Bradford, Emerson, Markwalter\",\n",
    "    \"November 25\" : \"Blackburn, Clark, Ganci, Lambert, Martin, Robinson\",\n",
    "    \"December 02\" : \"Blanco, Crandall, Garcia, Moline, Thibault\",\n",
    "    \"December 09\" : \"Boyer, Crosby, Griffin, MacKinnon, Mike & Dawnette Moore\",\n",
    "    \"December 16\" : \"Buchanan, Draney, Hettinger, Morton, Tracey\",\n",
    "    \"December 23\" : \"Chen, Hintze, Leavitt, Ozomah, Seegmiller\",\n",
    "    \"December 30\" : \"Maplewood 3rd Branch\",\n",
    "    \"January 06\" : \"Clements, Horowitz, Powell, Quam, Wightman\",\n",
    "    \"January 13\" : \"Debow, Jeffery, Rasmussen, Kay Reynolds, Winningham\",\n",
    "    \"January 20\" : \"Ekstrom, Juarez, Jason & Deann Moore, Ocampo, Roskelley, Slater\",\n",
    "    \"January 27\" : \"Yet to be assigned\",\n",
    "    \"February 03\" : \"Yet to be assigned\",\n",
    "    \"February 10\" : \"Yet to be assigned\",\n",
    "    \"February 17\" : \"Yet to be assigned\",\n",
    "    \"January 27\" : \"Bradford,  Arnold, Gutiérrez,  Markwalter,  Scott\",\n",
    "    \"February 03\" : \"Clark,  Lambert,  Blackburn,  Martin,  Quam,  Robinson\",\n",
    "    \"February 10\" : \"Crandall,  Blanco,  Ganci,  Garcia,  Moline,  Thibault\",\n",
    "    \"February 17\" : \"Crosby,  Boyer,  Griffin, Mike & Dawnette Moore,  Thomas\",\n",
    "    \"February 24\" : \"Draney,  Buchanan,  Hettinger,  Morton,  Tracey\",\n",
    "    \"March 02\" : \"Leavitt,  Chen,  Hintze,  Ozomah,  Seegmiller\",\n",
    "    \"March 09\" : \"Powell,  Clements,  Horowitz,  Rellaford,  Wightman\",\n",
    "    \"March 16\" : \"Kaye  Reynolds,  Debow,  Jeffery,  Rasmussen,  Winningham\",\n",
    "    \"March 23\" : \"Roskelley,  Ekstrom,  Ocampo,  Evans, Kyle & Vanessaa Moore,  Slater\",\n",
    "    \"March 30\" : \"Maplewood 3rd  Branch\",\n",
    "    \"April 06\" : \"Bradford,  Arnold,  Guiterrez,  Markwalter,  Scott\",\n",
    "    \"April 13\" : \"Clark,  Lambert,  Blackburn,  Martin,  Quam,  Robinson\",\n",
    "    \"April 20\" : \"Crandall,  Blanco,  Ganci,  Garcia,  Moline,  Thibault\",\n",
    "    \"April 27\" : \"Crosby,  Boyer,  Griffin, Mike & Dawnette Moore,  Thomas\",\n",
    "    \"May 04\" : \"Draney,  Buchanan,  Hettinger,  Morton,  Tracey\",\n",
    "    \"May 11\" : \"Leavitt,  Chen,  Hintze,  Ozomah,  Seegmiller\",\n",
    "    \"May 18\" : \"Powell,  Clements,  Horowitz,  Rellaford,  Wightman\",\n",
    "    \"May 25\" : \"Kaye  Reynolds,  Debow,  Jeffery,  Rasmussen,  Winningham\",\n",
    "    \"June 01\" : \"Roskelley,  Ekstrom,  Ocampo,  Evans, Kyle & Vanessaa Moore,  Slater\",\n",
    "    \"June 08\" : \"Bradford, Arnold, Markwalter, Scott\",\n",
    "    \"June 15\" : \"Clark, Blackburn, Martin, Quam, Robinson\",\n",
    "    \"June 22\" : \"Crandall, Blanco, Ganci, Garcia, Moline, Thibault\",\n",
    "    \"June 29\" : \"Maplewood 3rd Branch\",\n",
    "    \"July 07\" : \"Sugar Land 1st Ward\",\n",
    "    \"July 14\" : \"Sugar Land 1st Ward\",\n",
    "    \"July 21\" : \"Sugar Land 1st Ward\",\n",
    "    \"ZZZ\" : \"End of List\"\n",
    "}"
   ]
  },
  {
   "cell_type": "markdown",
   "id": "3bdadcfe",
   "metadata": {},
   "source": [
    "# Determine the Sunday date and what type of meeting"
   ]
  },
  {
   "cell_type": "code",
   "execution_count": 210,
   "id": "d6b5f52a",
   "metadata": {},
   "outputs": [],
   "source": [
    "keydate = nextsunday(1)[0]\n",
    "[meeting, format_date] = sundays.sunday_type(keydate)"
   ]
  },
  {
   "cell_type": "markdown",
   "id": "d49f71d2",
   "metadata": {},
   "source": [
    "# Format the agenda items that are always present\n",
    "Customize for each week with date and type of meeting, i.e. sacrament, fast and testimony, ward conference"
   ]
  },
  {
   "cell_type": "markdown",
   "id": "0b4b83aa",
   "metadata": {},
   "source": [
    "## Set this week's hymns here"
   ]
  },
  {
   "cell_type": "code",
   "execution_count": 211,
   "id": "86917059",
   "metadata": {},
   "outputs": [],
   "source": [
    "hymn_open = 203\n",
    "hymn_sacrament = 196\n",
    "hymn_rest = 209\n",
    "hymn_close = 210"
   ]
  },
  {
   "cell_type": "code",
   "execution_count": 212,
   "id": "1d48a03c",
   "metadata": {},
   "outputs": [],
   "source": [
    "title_choices = {'Sacrament Meeting': \"Sugar Land Second Ward\", 'Stake Conference': \"Houston Texas South Stake\", \n",
    "                 \"Primary Program\" : \"Sugar Land Second Ward\"}\n",
    "Title = title_choices.get(meeting, 'Sugar Land Second Ward')\n",
    "\n",
    "#header_choices = {'Normal': \"Sacrament Meeting\", 'Fast': \"Fast and Testimony Meeting\",\n",
    "#                  'Stake': \"Stake Conference\", \"General\" : \"General Conference\", \"Ward\" : \"Ward Conference\"}\n",
    "#header = header_choices.get(meeting, 'Sacrament Meeting')\n",
    "\n",
    "footer = \"\"\n",
    "styles = ( 'layout.css', 'alt.css', 'images.css' )\n",
    "\n",
    "page = htmlpy.page( )\n",
    "page.init()\n",
    "page.br( )\n",
    " \n",
    "# Make sure it will look good on all devices\n",
    "page.meta(name=\"viewport\", content=\"width=device-width, initial-scale=1.0\")\n",
    "\n",
    "# Define the elements on the current week's programs here\n",
    "\n",
    "pagetitle(Title, meeting, format_date, page)"
   ]
  },
  {
   "cell_type": "markdown",
   "id": "f4ed3987",
   "metadata": {},
   "source": [
    "## Artwork\n",
    "Pick an artwork from the defined list of links in artlinks.py and enter the number here\n",
    "\n",
    "Christmas-themed keys are \"Nativity1\", \"Annunc\", \"Birth\", \"Simon\""
   ]
  },
  {
   "cell_type": "code",
   "execution_count": 213,
   "id": "5eca8859",
   "metadata": {},
   "outputs": [],
   "source": [
    "# Place an artwork from the imported dictionary of links\n",
    "#page.p(e.img(width=299, height=300*0.8, src=artlinks.art[2]), align=\"center\")\n",
    "page.p(e.img(style=\"max-width:50%;height:auto;\", src=artlinks.art['Birth']), align=\"center\")"
   ]
  },
  {
   "cell_type": "markdown",
   "id": "5a299af0",
   "metadata": {},
   "source": [
    "## Officers"
   ]
  },
  {
   "cell_type": "code",
   "execution_count": 214,
   "id": "4b61ed5a",
   "metadata": {},
   "outputs": [],
   "source": [
    "if meeting in ['Sacrament Meeting','Fast and Testimony Meeting', 'Primary Program']:\n",
    "    #officer(\"Presiding\",\"President Travis Bird\", page)\n",
    "    #officer(\"Presiding\",\"President Mike Kennington\", page)\n",
    "    #officer(\"Presiding\",\"President Ernie Carrasquillo\", page)\n",
    "    officer(\"Presiding\",\"Bishop Joey Powell\", page)\n",
    "    #officer(\"Conducting\",\"Bishop Joey Powell\", page)\n",
    "    #officer(\"Presiding\",\"Brother Jared Draney\", page)\n",
    "    #officer(\"Conducting\",\"Brother Jared Draney\", page)\n",
    "    #officer(\"Presiding\",\"Brother Brent Leavitt\", page)\n",
    "    officer(\"Conducting\",\"Brother Brent Leavitt\", page)\n"
   ]
  },
  {
   "cell_type": "markdown",
   "id": "88a662c8",
   "metadata": {},
   "source": [
    "## Opening and sacrament hymns"
   ]
  },
  {
   "cell_type": "code",
   "execution_count": 215,
   "id": "4883fb5d",
   "metadata": {},
   "outputs": [],
   "source": [
    "if meeting in [\"Sacrament Meeting\", \"Fast and Testimony Meeting\", \"Ward Conference\", \"Easter Service\", 'Primary Program']:\n",
    "    music(hymn_open,\"Opening Hymn\",page)\n",
    "    #prayer(\"Jack Reynolds\", \"Invocation\", page)\n",
    "    music(hymn_sacrament,\"Sacrament Hymn\", page) "
   ]
  },
  {
   "cell_type": "markdown",
   "id": "b9aa0b92",
   "metadata": {},
   "source": [
    "## Variable part of the program"
   ]
  },
  {
   "cell_type": "markdown",
   "id": "5c036916",
   "metadata": {},
   "source": [
    "### Fast and Testimony meeting"
   ]
  },
  {
   "cell_type": "code",
   "execution_count": 216,
   "id": "7d5e22dd",
   "metadata": {},
   "outputs": [],
   "source": [
    "# Uncomment this line for fast and testimony meeting - logic should now handle this\n",
    "if meeting == \"Fast and Testimony Meeting\":\n",
    "    testimonies(page)"
   ]
  },
  {
   "cell_type": "markdown",
   "id": "acc7f590",
   "metadata": {},
   "source": [
    "### Sacrament meeting or ward conference"
   ]
  },
  {
   "cell_type": "code",
   "execution_count": 217,
   "id": "f9673d16",
   "metadata": {},
   "outputs": [],
   "source": [
    "if meeting in [\"Sacrament Meeting\", \"Ward Conference\", \"Easter Service\"]:\n",
    "    # Use lines like these to form the speaking part of the program\n",
    "\n",
    "    txtlist = (\n",
    "        \"Narration by Rupert Tracey and Dana Blackburn\",\n",
    "        \"Direction by Kyle Moore\"\n",
    "    )\n",
    "    custom(\"Christmas Program\",txtlist, None, page)\n",
    "\n",
    "    specialmusic(\"Robinson Family\", page, title=\"When Joseph Went to Bethlehem\")\n",
    "    specialmusic(\"Diana Quam\", page, title=\"O Little Town of Bethlehem\")\n",
    "    specialmusic(\"Primary Children\", page, title=\"Away in a Manger\")\n",
    "    specialmusic(\"Peter Slater\", page, title=\"Stille Nacht\", accompanist=\"Jared Draney\")\n",
    "    specialmusic(\"Ting Chen\", page, \"Far, Far Away on Judea's Plains\")\n",
    "\n",
    "    music(209,\"Congregational Hymn\",page)\n",
    "    music(201,\"Congregational Hymn\",page)\n",
    "\n",
    "    specialmusic(\"Draney Family\", page, title=\"We Three Kings of Orient Are\")\n",
    "\n",
    "    speaker(\"Bishop Joey Powell\", page)\n",
    "\n",
    "\n",
    "\n",
    "\n",
    "    #speaker(\"Aaron Ozomah\", page)\n",
    "    #speaker(\"Brent Leavitt\",page)\n",
    "\n",
    "    #specialmusic(\"David Portz\",page, title=\"Gethsemane\")\n",
    "    #music(hymn_rest,\"Intermediate Hymn\", page)\n",
    "    \n",
    "    #speaker(\"Javier Garcia\",page)"
   ]
  },
  {
   "cell_type": "markdown",
   "id": "8c155193",
   "metadata": {},
   "source": [
    "### Stake Conference"
   ]
  },
  {
   "cell_type": "code",
   "execution_count": 218,
   "id": "0362fecd",
   "metadata": {},
   "outputs": [],
   "source": [
    "if meeting == \"Stake Conference\":\n",
    "    # Special Code for Stake Conference\n",
    "    txtlist = (\n",
    "        \"All members of Stake and Ward Councils and their presidencies, secretaries, and clerks are invited to attend.\",\n",
    "        \"This includes: Bishoprics; Elders quorum presidencies; Aaronic Priesthood quorum and Young Women class advisers; Relief Society, Young Women, Primary and Sunday School presidencies, and secretaries.\",\n",
    "        \"In-person at Lexington\"\n",
    "    )\n",
    "    linklist = None\n",
    "\n",
    "    custom(\"Leadership Session, Saturday 4:00-5:45 pm\", txtlist, linklist, page)\n",
    "\n",
    "    txtlist = (\n",
    "         \"All Adults\",\n",
    "         \"In-person at Lexington\"\n",
    "    )\n",
    "    linklist = None\n",
    "\n",
    "    custom(\"Adult Session, Saturday 7:00-8:45 pm\", txtlist, linklist, page)\n",
    "\n",
    "    txtlist = (\n",
    "        \"In-person at Lexington\",\n",
    "        \"Via Zoom at Sienna and Rosenberg\"\n",
    "    )\n",
    "    linklist = None\n",
    "\n",
    "    custom(\"General Session, Sunday 10:00 am - 12:00 pm\", txtlist, linklist, page)"
   ]
  },
  {
   "cell_type": "markdown",
   "id": "b39600eb",
   "metadata": {},
   "source": [
    "### General Conference"
   ]
  },
  {
   "cell_type": "code",
   "execution_count": 219,
   "id": "f406cbee",
   "metadata": {},
   "outputs": [],
   "source": [
    "if meeting == \"General Conference\":\n",
    "    # Special Code for General Conference\n",
    "    txtlist = (\n",
    "        \"Everyone of all faiths, beliefs, and background is invited to watch, listen, and participate in General Conference.\",\n",
    "        \"\",\n",
    "    )\n",
    "    \n",
    "    \n",
    "    page.h1(\"General Conference\", align=\"center\")\n",
    "    page.h2(txtlist, align = \"center\")\n",
    "       \n",
    "\n",
    "    txtlist = (\n",
    "         \"Saturday Morning Session - 11:00 am CDT\",\n",
    "         \"Saturday Afternoon Session - 3:00 pm CDT\",\n",
    "         \"Saturday Evening Session - 7:00 pm CDT\",\n",
    "         \"Sunday Morning Session - 11:00 am CDT\",\n",
    "         \"Sunday Afternoon Session - 3:00 pm CDT\",\n",
    "    )\n",
    "    linklist = {\n",
    "        (\"Choose a stream to watch or listen\",\"https://www.churchofjesuschrist.org/feature/general-conference?lang=eng\")\n",
    "    }\n",
    "    custom(\"Join General Conference\", txtlist, linklist, page)\n",
    "\n",
    "    "
   ]
  },
  {
   "cell_type": "markdown",
   "id": "3a839597",
   "metadata": {},
   "source": [
    "### Primary Program"
   ]
  },
  {
   "cell_type": "code",
   "execution_count": 220,
   "id": "62e3bb3a",
   "metadata": {},
   "outputs": [],
   "source": [
    "if meeting == \"Primary Program\": \n",
    "# Special code for the Primary and Christmas Programs\n",
    "    txtlist = (\n",
    "        'Words and Music Testifying of the Book of Mormon, Another Testament of Jesus Christ',\n",
    "        'Directed by Dawnette Moore, Accompanied by Dana Blackburn',\n",
    "        'Primary Choir with Porter Wrightman, Maggie Moore, Ryan Boyer, Livia Moore, Evangelina Garcia, Theodore Rellaford, Boston Robinson, Piper Wrightman, Bella Moore, Sebastian Garcia, Gresham Robinson, Eliza Moore, Leonor Chen, Ioanna Ozomah, Dylan Moore, Henrie Rellaford',\n",
    "        'Concluding remarks by Bishop Joey Powell'\n",
    "        )\n",
    "    linklist = None\n",
    "\n",
    "    custom(\"Primary Program\", txtlist,linklist, page)"
   ]
  },
  {
   "cell_type": "markdown",
   "id": "aa869bd8",
   "metadata": {},
   "source": [
    "### Closing hymn and prayer"
   ]
  },
  {
   "cell_type": "code",
   "execution_count": 221,
   "id": "fb6df9fc",
   "metadata": {
    "scrolled": true
   },
   "outputs": [],
   "source": [
    "if meeting in [\"Sacrament Meeting\", \"Fast and Testimony Meeting\", \"Ward Conference\", \"Easter Service\", \"Primary Program\"]:\n",
    "    music(hymn_close,\"Closing Hymn\",page)\n",
    "    #prayer(\"\",\"Benediction\",page)"
   ]
  },
  {
   "cell_type": "markdown",
   "id": "c6564ff0",
   "metadata": {},
   "source": [
    "## End matter - thought, announcements, calendar, links"
   ]
  },
  {
   "cell_type": "code",
   "execution_count": 222,
   "id": "6969936f",
   "metadata": {},
   "outputs": [],
   "source": [
    "# Spiritual thought\n",
    "#quote = (\"The Lord isn't asking us to load up a handcart; He's asking us to fortify our faith.\")\n",
    "#author = 'Elder M. Russell Ballard'\n",
    "#quote = \"General conference provides an opportunity to receive personal revelation as general Church leaders give counsel and direction from the Lord. We encourage all to listen to, study, ponder, and apply the counsel and direction given\"\n",
    "#author = \"The First Presidency, September 5, 2024\"\n",
    "#quote = \"Tithing is a principle that is fundamental to the personal happiness and well-being of the Church members worldwide, both rich and poor. Tithing is a principle of sacrifice and a key to the opening of the windows of heaven.\"\n",
    "#author = \"James E. Faust\"\n",
    "quote = \"When so many around us are burdened with fear and uncertainty, I invite you to make room in your heart for those around you who may be struggling to see the light of the Savior and to feel His love. No gifts will mean as much as acts of pure love you offer to the lonely, the worn down and the weary. These are gifts that remind us and them of the true reason for the season: the gift of God’s Son, Jesus Christ, who was born to cast out all fear and bring everlasting light and joy to all who follow Him\"\n",
    "author = \"Russell M. Nelson\"\n",
    "\n",
    "\n",
    "thought(quote, author, page)\n",
    "\n",
    "# Make a list of announcements, then post to the page\n",
    "txtlist = (\n",
    "        \"Volleyball Wednesdays - Come join us on Wednesdays at 9PM and have fun!!!\",  \n",
    "        \"Send announcements to bvl2clerk@gmail.com\")\n",
    "announcements(txtlist, page)\n",
    "\n",
    "# Post a Flyer\n",
    "# Houston South Stake puts out a monthly flyer with calendar items. We post the updates to the same file when they arrive\n",
    "#page.p(e.img(style=\"max-width:50%;height:auto;\", src='https://sugar-land-2nd-ward-programs.github.io/SL2%20Fall%20Festival%202024.jpg'), align=\"center\")\n",
    "#page.p(e.img(style=\"max-width:50%;height:auto;\", src='https://sugar-land-2nd-ward-programs.github.io/The%20Bonner%20Family%20Christmas%20Concert.jpg'), align=\"center\")\n",
    "#page.p(e.img(style=\"max-width:50%;height:auto;\", src='https://sugar-land-2nd-Ward-Programs.github.io/Christmas%202024%20Save%20Date-Join.jpg'), align=\"center\")\n",
    "\n",
    "\n",
    "#age.p(e.a(\"Sign up for the Christmas Party on December 7\", href=\"https://www.signupgenius.com/go/10C0448A9A82EAB9-53466299-christmas\"),align=\"center\")\n",
    "\n",
    "# Ward temple days now get their own line item\n",
    "upcoming, string_result = upcoming_Saturdays(6)\n",
    "\n",
    "callist = (\n",
    "    string_result,\n",
    "    \"Stake YM/YW Campout at Camp Mauritz, Link below, Jan 3-4\",\n",
    "    \"Sleep in Heavenly Peace Bed Projects, Links Below, Jan 18\"       \n",
    "            )\n",
    "print_calendar(callist, page)\n"
   ]
  },
  {
   "cell_type": "markdown",
   "id": "c89dda30",
   "metadata": {},
   "source": [
    "# Cleaning Assignments"
   ]
  },
  {
   "cell_type": "code",
   "execution_count": 223,
   "id": "a23d69c3",
   "metadata": {},
   "outputs": [],
   "source": [
    "if (our_turn(dt.date.today())):\n",
    "    sats = nextsaturday(4)\n",
    "    cleaninglist = []\n",
    "    for sat in sats:\n",
    "        cleaninglist.append(sat + \": \" + roster[sat])\n",
    "    custom(\"Cleaning Assignments\",cleaninglist, None, page)"
   ]
  },
  {
   "cell_type": "markdown",
   "id": "9d58209b",
   "metadata": {},
   "source": [
    "### Preparedness Corner - under development"
   ]
  },
  {
   "cell_type": "code",
   "execution_count": 224,
   "id": "84a5da3e",
   "metadata": {},
   "outputs": [],
   "source": [
    "txtlist = (\n",
    "\"If your residence has sustained damage, below are a few useful resources for your consideration:\",\n",
    "\"Register with iSTAT to help inform disaster declaration  Individual State of Texas Assessment Tool (iSTAT)\",\n",
    "\"Register with Connectivetx.org to help understand impact and needs\",\n",
    "\"FEMA is starting to pay for lodging and food loss: Call: 1(800) 621-3362\",\n",
    "    )\n",
    "linklist = {\n",
    "    (\"Individual State of Texas Assessment Tool (iSTAT)\",\"https://survey123.arcgis.com/share/344d59d323fd47b3bab8e8cd60b64585?field:incident_id=24-0016%2007JUL%20Tropical%20Weather\"),\n",
    "    (\"Connectivetx.org\",\"https://www.connectivetx.org/\"),\n",
    "}\n",
    "#linklist = None\n",
    "#custom(\"Emergency Preparedness Corner\", txtlist,linklist, page)"
   ]
  },
  {
   "cell_type": "code",
   "execution_count": 225,
   "id": "50d50bc2",
   "metadata": {},
   "outputs": [
    {
     "name": "stderr",
     "output_type": "stream",
     "text": [
      "<>:8: SyntaxWarning: 'tuple' object is not callable; perhaps you missed a comma?\n",
      "<>:8: SyntaxWarning: 'tuple' object is not callable; perhaps you missed a comma?\n",
      "C:\\Users\\Pete\\AppData\\Local\\Temp\\ipykernel_25744\\2123393225.py:8: SyntaxWarning: 'tuple' object is not callable; perhaps you missed a comma?\n",
      "  (\"Share Activities with the Ward Web Page\",\"https://local.churchofjesuschrist.org/en/units/us/tx/sugar-land-2nd-ward?icid=actsh|cmh|web|mis|global|global\")\n",
      "C:\\Users\\Pete\\AppData\\Local\\Temp\\ipykernel_25744\\2123393225.py:8: SyntaxWarning: 'tuple' object is not callable; perhaps you missed a comma?\n",
      "  (\"Share Activities with the Ward Web Page\",\"https://local.churchofjesuschrist.org/en/units/us/tx/sugar-land-2nd-ward?icid=actsh|cmh|web|mis|global|global\")\n",
      "C:\\Users\\Pete\\AppData\\Local\\Temp\\ipykernel_25744\\2123393225.py:8: SyntaxWarning: 'tuple' object is not callable; perhaps you missed a comma?\n",
      "  (\"Share Activities with the Ward Web Page\",\"https://local.churchofjesuschrist.org/en/units/us/tx/sugar-land-2nd-ward?icid=actsh|cmh|web|mis|global|global\")\n"
     ]
    },
    {
     "ename": "TypeError",
     "evalue": "'tuple' object is not callable",
     "output_type": "error",
     "traceback": [
      "\u001b[1;31m---------------------------------------------------------------------------\u001b[0m",
      "\u001b[1;31mTypeError\u001b[0m                                 Traceback (most recent call last)",
      "Input \u001b[1;32mIn [225]\u001b[0m, in \u001b[0;36m<cell line: 3>\u001b[1;34m()\u001b[0m\n\u001b[0;32m      1\u001b[0m \u001b[38;5;66;03m# Make a list of links, then post\u001b[39;00m\n\u001b[0;32m      2\u001b[0m linklist \u001b[38;5;241m=\u001b[39m (\n\u001b[0;32m      3\u001b[0m         (\u001b[38;5;124m\"\u001b[39m\u001b[38;5;124mDonate to the Lexington Building Nursery\u001b[39m\u001b[38;5;124m\"\u001b[39m,\u001b[38;5;124m\"\u001b[39m\u001b[38;5;124mhttps://m.signupgenius.com/#!/showSignUp/10C094AA4AC29A0FBC25-52705417-nursery\u001b[39m\u001b[38;5;124m\"\u001b[39m),\n\u001b[0;32m      4\u001b[0m         (\u001b[38;5;124m\"\u001b[39m\u001b[38;5;124mStake YM/YW Campout, Jan 3-4\u001b[39m\u001b[38;5;124m\"\u001b[39m, \u001b[38;5;124m\"\u001b[39m\u001b[38;5;124mhttps://houstonsouthstake.org/events/2024-01-04-youth-campout/\u001b[39m\u001b[38;5;124m\"\u001b[39m),\n\u001b[0;32m      5\u001b[0m         (\u001b[38;5;124m\"\u001b[39m\u001b[38;5;124mSleep in Heavenly Peace Bed Delivery Project\u001b[39m\u001b[38;5;124m\"\u001b[39m,\u001b[38;5;124m\"\u001b[39m\u001b[38;5;124mhttps://volunteer.shpbeds.org/opportunities/zSqsxBCz6Y\u001b[39m\u001b[38;5;124m\"\u001b[39m),\n\u001b[0;32m      6\u001b[0m         (\u001b[38;5;124m\"\u001b[39m\u001b[38;5;124mSleep in Heavenly Peace Bed Assembly Project\u001b[39m\u001b[38;5;124m\"\u001b[39m,\u001b[38;5;124m\"\u001b[39m\u001b[38;5;124mhttps://volunteer.shpbeds.org/opportunities/J2cDssLx9m?\u001b[39m\u001b[38;5;124m%\u001b[39m\u001b[38;5;124m24web_only=true\u001b[39m\u001b[38;5;124m\"\u001b[39m),\n\u001b[0;32m      7\u001b[0m         (\u001b[38;5;124m\"\u001b[39m\u001b[38;5;124mWatch the Light the World Video\u001b[39m\u001b[38;5;124m\"\u001b[39m,\u001b[38;5;124m\"\u001b[39m\u001b[38;5;124mhttps://www.youtube.com/watch?v=0_Ntv6zQ70M&authuser=1\u001b[39m\u001b[38;5;124m\"\u001b[39m),\n\u001b[1;32m----> 8\u001b[0m         \u001b[43m(\u001b[49m\u001b[38;5;124;43m\"\u001b[39;49m\u001b[38;5;124;43mShare Activities with the Ward Web Page\u001b[39;49m\u001b[38;5;124;43m\"\u001b[39;49m\u001b[43m,\u001b[49m\u001b[38;5;124;43m\"\u001b[39;49m\u001b[38;5;124;43mhttps://local.churchofjesuschrist.org/en/units/us/tx/sugar-land-2nd-ward?icid=actsh|cmh|web|mis|global|global\u001b[39;49m\u001b[38;5;124;43m\"\u001b[39;49m\u001b[43m)\u001b[49m\n\u001b[0;32m      9\u001b[0m \u001b[43m        \u001b[49m\u001b[43m(\u001b[49m\u001b[38;5;124;43m\"\u001b[39;49m\u001b[38;5;124;43mLet the missionaries know when you are available to help teach\u001b[39;49m\u001b[38;5;124;43m\"\u001b[39;49m\u001b[43m,\u001b[49m\u001b[38;5;124;43m\"\u001b[39;49m\u001b[38;5;124;43mhttps://docs.google.com/forms/d/1cVhEINFFESai0MLbgBA8euTyiMQsM8R1Sur_EQsyUrw/edit?usp=drive_web\u001b[39;49m\u001b[38;5;124;43m\"\u001b[39;49m\u001b[43m)\u001b[49m,\n\u001b[0;32m     10\u001b[0m         (\u001b[38;5;124m\"\u001b[39m\u001b[38;5;124mGet started with Temple and Family History work\u001b[39m\u001b[38;5;124m\"\u001b[39m,\u001b[38;5;124m\"\u001b[39m\u001b[38;5;124mhttps://sugar-land-2nd-ward-programs.github.io/TempleandFamilyHistoryGettingStarted.html\u001b[39m\u001b[38;5;124m\"\u001b[39m),\n\u001b[0;32m     11\u001b[0m         (\u001b[38;5;124m\"\u001b[39m\u001b[38;5;124mSee to Succeed a Houston South Stake service project\u001b[39m\u001b[38;5;124m\"\u001b[39m,\u001b[38;5;124m\"\u001b[39m\u001b[38;5;124mhttps://www.houstonhealth.org/services/clinical/see-to-succeed\u001b[39m\u001b[38;5;124m\"\u001b[39m),\n\u001b[0;32m     12\u001b[0m         (\u001b[38;5;124m\"\u001b[39m\u001b[38;5;124mSign up to feed the missionaries\u001b[39m\u001b[38;5;124m\"\u001b[39m,\u001b[38;5;124m\"\u001b[39m\u001b[38;5;124mhttps://www.signupgenius.com/go/10c0e4baca82ea7fb6-dinner2\u001b[39m\u001b[38;5;124m\"\u001b[39m),\n\u001b[0;32m     13\u001b[0m         (\u001b[38;5;124m\"\u001b[39m\u001b[38;5;124mSign up to prepare a meal with Fort Bend Family Promise\u001b[39m\u001b[38;5;124m\"\u001b[39m,\u001b[38;5;124m\"\u001b[39m\u001b[38;5;124mhttps://www.signupgenius.com/go/10c0e4baca82ea7fb6-helping4#\u001b[39m\u001b[38;5;124m\"\u001b[39m),\n\u001b[0;32m     14\u001b[0m         (\u001b[38;5;124m\"\u001b[39m\u001b[38;5;124mHelp at secondmile.org\u001b[39m\u001b[38;5;124m\"\u001b[39m,\u001b[38;5;124m\"\u001b[39m\u001b[38;5;124mhttps://secondmile.org\u001b[39m\u001b[38;5;124m\"\u001b[39m), \n\u001b[0;32m     15\u001b[0m         )\n\u001b[0;32m     16\u001b[0m links(linklist, page)\n\u001b[0;32m     17\u001b[0m credit(\u001b[38;5;124m\"\u001b[39m\u001b[38;5;124mPete Slater and Andy Chen\u001b[39m\u001b[38;5;124m\"\u001b[39m, page)\n",
      "\u001b[1;31mTypeError\u001b[0m: 'tuple' object is not callable"
     ]
    }
   ],
   "source": [
    "# Make a list of links, then post\n",
    "linklist = (\n",
    "        (\"Donate to the Lexington Building Nursery\",\"https://m.signupgenius.com/#!/showSignUp/10C094AA4AC29A0FBC25-52705417-nursery\"),\n",
    "        (\"Stake YM/YW Campout, Jan 3-4\", \"https://houstonsouthstake.org/events/2024-01-04-youth-campout/\"),\n",
    "        (\"Sleep in Heavenly Peace Bed Delivery Project\",\"https://volunteer.shpbeds.org/opportunities/zSqsxBCz6Y\"),\n",
    "        (\"Sleep in Heavenly Peace Bed Assembly Project\",\"https://volunteer.shpbeds.org/opportunities/J2cDssLx9m?%24web_only=true\"),\n",
    "        (\"Watch the Light the World Video\",\"https://www.youtube.com/watch?v=0_Ntv6zQ70M&authuser=1\"),\n",
    "        (\"Share Activities with the Ward Web Page\",\"https://local.churchofjesuschrist.org/en/units/us/tx/sugar-land-2nd-ward?icid=actsh|cmh|web|mis|global|global\"),\n",
    "        (\"Let the missionaries know when you are available to help teach\",\"https://docs.google.com/forms/d/1cVhEINFFESai0MLbgBA8euTyiMQsM8R1Sur_EQsyUrw/edit?usp=drive_web\"),\n",
    "        (\"Get started with Temple and Family History work\",\"https://sugar-land-2nd-ward-programs.github.io/TempleandFamilyHistoryGettingStarted.html\"),\n",
    "        (\"See to Succeed a Houston South Stake service project\",\"https://www.houstonhealth.org/services/clinical/see-to-succeed\"),\n",
    "        (\"Sign up to feed the missionaries\",\"https://www.signupgenius.com/go/10c0e4baca82ea7fb6-dinner2\"),\n",
    "        (\"Sign up to prepare a meal with Fort Bend Family Promise\",\"https://www.signupgenius.com/go/10c0e4baca82ea7fb6-helping4#\"),\n",
    "        (\"Help at secondmile.org\",\"https://secondmile.org\"), \n",
    "        )\n",
    "links(linklist, page)\n",
    "credit(\"Pete Slater and Andy Chen\", page)"
   ]
  },
  {
   "cell_type": "code",
   "execution_count": null,
   "id": "06177fa6",
   "metadata": {},
   "outputs": [],
   "source": []
  },
  {
   "cell_type": "markdown",
   "id": "ea336a25",
   "metadata": {},
   "source": [
    "# Write out the file to Index.html, which must be posted online"
   ]
  },
  {
   "cell_type": "code",
   "execution_count": 202,
   "id": "3e60260a",
   "metadata": {},
   "outputs": [
    {
     "name": "stdout",
     "output_type": "stream",
     "text": [
      "<!DOCTYPE HTML PUBLIC '-//W3C//DTD HTML 4.01 Transitional//EN'>\n",
      "<html lang=\"en\">\n",
      "<head>\n",
      "</head>\n",
      "<body>\n",
      "<br />\n",
      "<meta name=\"viewport\" content=\"width=device-width, initial-scale=1.0\" />\n",
      "<h1 align=\"center\">Sugar Land Second Ward</h1>\n",
      "<h2 align=\"center\">Sacrament Meeting</h2>\n",
      "<h2 align=\"center\">December 22nd</h2>\n",
      "<p align=\"center\"><img style=\"max-width:50%;height:auto;\" src=\"https://www.lds.org/bc/content/shared/content/images/gospel-library/magazine/ensignlp.nfo:o:19b.jpg\" /></p>\n",
      "<p align=\"center\"><b>Presiding:</b> Bishop Joey Powell</p>\n",
      "<p align=\"center\"><b>Conducting:</b> Brother Brent Leavitt</p>\n",
      "<h2 align=\"center\">Opening Hymn</h2>\n",
      "<p align=\"center\"><a href=\"https://www.churchofjesuschrist.org/music/library/hymns/angels-we-have-heard-on-high?lang=eng&amp;#39\">#203, Angels We Have Heard on High</a></p>\n",
      "<h2 align=\"center\">Sacrament Hymn</h2>\n",
      "<p align=\"center\"><a href=\"https://www.churchofjesuschrist.org/music/library/hymns/jesus-once-of-humble-birth?lang=eng&amp;#39\">#196, Jesus, Once of Humble Birth</a></p>\n",
      "<hr />\n",
      "<h1 align=\"center\">Christmas Program</h1>\n",
      "<p align=\"center\">Narration by Rupert Tracey and Dana Blackburn</p>\n",
      "<p align=\"center\">Direction by Kyle Moore</p>\n",
      "<h2 align=\"center\">Special Musical Number</h2>\n",
      "<p align=\"center\"><i>When Joseph Went to Bethlehem</i></p>\n",
      "<p align=\"center\">Robinson Family</p>\n",
      "<h2 align=\"center\">Special Musical Number</h2>\n",
      "<p align=\"center\"><i>O Little Town of Bethlehem</i></p>\n",
      "<p align=\"center\">Diana Quam</p>\n",
      "<h2 align=\"center\">Special Musical Number</h2>\n",
      "<p align=\"center\"><i>Away in a Manger</i></p>\n",
      "<p align=\"center\">Primary Children</p>\n",
      "<h2 align=\"center\">Special Musical Number</h2>\n",
      "<p align=\"center\"><i>Stille Nacht</i></p>\n",
      "<p align=\"center\">Peter Slater</p>\n",
      "<p align=\"center\">Acc. by Jared Draney</p>\n",
      "<h2 align=\"center\">Special Musical Number</h2>\n",
      "<p align=\"center\"><i>Far, Far Away on Judea's Plains</i></p>\n",
      "<p align=\"center\">Ting Chen</p>\n",
      "<h2 align=\"center\">Congregational Hymn</h2>\n",
      "<p align=\"center\"><a href=\"https://www.churchofjesuschrist.org/music/library/hymns/hark-the-herald-angels-sing?lang=eng&amp;#39\">#209, Hark! The Herald Angels Sing</a></p>\n",
      "<h2 align=\"center\">Congregational Hymn</h2>\n",
      "<p align=\"center\"><a href=\"https://www.churchofjesuschrist.org/music/library/hymns/joy-to-the-world?lang=eng&amp;#39\">#201, Joy to the World</a></p>\n",
      "<h2 align=\"center\">Special Musical Number</h2>\n",
      "<p align=\"center\"><i>We Three Kings of Orient Are</i></p>\n",
      "<p align=\"center\">Draney Family</p>\n",
      "<h2 align=\"center\">Speaker</h2>\n",
      "<p align=\"center\">Bishop Joey Powell</p>\n",
      "<h2 align=\"center\">Closing Hymn</h2>\n",
      "<p align=\"center\"><a href=\"https://www.churchofjesuschrist.org/music/library/hymns/with-wondering-awe?lang=eng&amp;#39\">#210, With Wondering Awe</a></p>\n",
      "<hr />\n",
      "<p align=\"center\">When so many around us are burdened with fear and uncertainty, I invite you to make room in your heart for those around you who may be struggling to see the light of the Savior and to feel His love. No gifts will mean as much as acts of pure love you offer to the lonely, the worn down and the weary. These are gifts that remind us and them of the true reason for the season: the gift of God’s Son, Jesus Christ, who was born to cast out all fear and bring everlasting light and joy to all who follow Him</p>\n",
      "<p align=\"center\">- Russell M. Nelson</p>\n",
      "<hr />\n",
      "<h1 align=\"center\">Announcements</h1>\n",
      "<p align=\"center\">Volleyball Wednesdays - Come join us on Wednesdays at 9PM and have fun!!!</p>\n",
      "<p align=\"center\">Send announcements to bvl2clerk@gmail.com</p>\n",
      "<hr />\n",
      "<h1 align=\"center\">Calendar Items</h1>\n",
      "<p align=\"center\">Upcoming temple days: January 11, February 8, March 8, April 12, May 10, June 14</p>\n",
      "<p align=\"center\">Stake YM/YW Campout at Camp Mauritz, Link below, Jan 3-4</p>\n",
      "<p align=\"center\">Sleep in Heavenly Peace Bed Projects, Links Below, Jan 18</p>\n",
      "<hr />\n",
      "<h1 align=\"center\">Links</h1>\n",
      "<p align=\"center\"><a href=\"https://m.signupgenius.com/#!/showSignUp/10C094AA4AC29A0FBC25-52705417-nursery\" target=\"_blank\" rel=\"noreferrer noopener\">Donate to the Lexington Building Nursery</a></p>\n",
      "<p align=\"center\"><a href=\"https://houstonsouthstake.org/events/2024-01-04-youth-campout/\" target=\"_blank\" rel=\"noreferrer noopener\">Stake YM/YW Campout, Jan 3-4</a></p>\n",
      "<p align=\"center\"><a href=\"https://volunteer.shpbeds.org/opportunities/zSqsxBCz6Y\" target=\"_blank\" rel=\"noreferrer noopener\">Sleep in Heavenly Peace Bed Delivery Project</a></p>\n",
      "<p align=\"center\"><a href=\"https://volunteer.shpbeds.org/opportunities/J2cDssLx9m?%24web_only=true\" target=\"_blank\" rel=\"noreferrer noopener\">Sleep in Heavenly Peace Bed Assembly Project</a></p>\n",
      "<p align=\"center\"><a href=\"https://www.youtube.com/watch?v=0_Ntv6zQ70M&amp;authuser=1\" target=\"_blank\" rel=\"noreferrer noopener\">Watch the Light the World Video</a></p>\n",
      "<p align=\"center\"><a href=\"https://docs.google.com/forms/d/1cVhEINFFESai0MLbgBA8euTyiMQsM8R1Sur_EQsyUrw/edit?usp=drive_web\" target=\"_blank\" rel=\"noreferrer noopener\">Let the missionaries know when you are available to help teach</a></p>\n",
      "<p align=\"center\"><a href=\"https://sugar-land-2nd-ward-programs.github.io/TempleandFamilyHistoryGettingStarted.html\" target=\"_blank\" rel=\"noreferrer noopener\">Get started with Temple and Family History work</a></p>\n",
      "<p align=\"center\"><a href=\"https://www.houstonhealth.org/services/clinical/see-to-succeed\" target=\"_blank\" rel=\"noreferrer noopener\">See to Succeed a Houston South Stake service project</a></p>\n",
      "<p align=\"center\"><a href=\"https://www.signupgenius.com/go/10c0e4baca82ea7fb6-dinner2\" target=\"_blank\" rel=\"noreferrer noopener\">Sign up to feed the missionaries</a></p>\n",
      "<p align=\"center\"><a href=\"https://www.signupgenius.com/go/10c0e4baca82ea7fb6-helping4#\" target=\"_blank\" rel=\"noreferrer noopener\">Sign up to prepare a meal with Fort Bend Family Promise</a></p>\n",
      "<p align=\"center\"><a href=\"https://secondmile.org\" target=\"_blank\" rel=\"noreferrer noopener\">Help at secondmile.org</a></p>\n",
      "<hr />\n",
      "<small align=\"center\">Edited December 21, 2024 by Pete Slater and Andy Chen</small>\n",
      "</body>\n",
      "</html>\n"
     ]
    },
    {
     "data": {
      "text/plain": [
       "'\\nEnd of script\\n'"
      ]
     },
     "execution_count": 202,
     "metadata": {},
     "output_type": "execute_result"
    }
   ],
   "source": [
    "print (page)# -*- coding: utf-8 -*\n",
    "\n",
    "original_stdout = sys.stdout\n",
    "with open('Index.html', 'w') as f:\n",
    "    sys.stdout = f # Change the standard output to the file we created.\n",
    "    print(page)\n",
    "    sys.stdout = original_stdout # Reset the standard output to its original value\n",
    "\"\"\"\n",
    "End of script\n",
    "\"\"\""
   ]
  },
  {
   "cell_type": "code",
   "execution_count": 203,
   "id": "af7c5d55",
   "metadata": {},
   "outputs": [
    {
     "data": {
      "text/plain": [
       "'Sacrament Meeting'"
      ]
     },
     "execution_count": 203,
     "metadata": {},
     "output_type": "execute_result"
    }
   ],
   "source": [
    "meeting"
   ]
  },
  {
   "cell_type": "code",
   "execution_count": 204,
   "id": "f4943b33",
   "metadata": {},
   "outputs": [
    {
     "data": {
      "text/plain": [
       "'December 22'"
      ]
     },
     "execution_count": 204,
     "metadata": {},
     "output_type": "execute_result"
    }
   ],
   "source": [
    "keydate"
   ]
  }
 ],
 "metadata": {
  "kernelspec": {
   "display_name": "base",
   "language": "python",
   "name": "python3"
  },
  "language_info": {
   "codemirror_mode": {
    "name": "ipython",
    "version": 3
   },
   "file_extension": ".py",
   "mimetype": "text/x-python",
   "name": "python",
   "nbconvert_exporter": "python",
   "pygments_lexer": "ipython3",
   "version": "3.9.12"
  }
 },
 "nbformat": 4,
 "nbformat_minor": 5
}
