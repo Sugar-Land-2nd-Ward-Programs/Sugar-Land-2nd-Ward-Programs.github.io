{
 "cells": [
  {
   "cell_type": "markdown",
   "id": "81f29a21",
   "metadata": {},
   "source": [
    "# Template for Creating Sacrament Meeting Programs\n",
    "\n",
    "## Uses MarkupPy to generate the HTML"
   ]
  },
  {
   "cell_type": "code",
   "execution_count": 1,
   "id": "aa66d71d",
   "metadata": {},
   "outputs": [],
   "source": [
    "#\n",
    "# Sugar Land 2nd Ward HTML Program Writer\n",
    "#\n",
    "# Pete Slater\n",
    "# June 2022\n",
    "\n",
    "import hymndict # Titles and links to hymns\n",
    "import htmlpy # Local copy of source code\n",
    "from htmlpy import oneliner as e\n",
    "import artlinks # Links to artwork\n",
    "import sys\n",
    "import datetime as dt"
   ]
  },
  {
   "cell_type": "markdown",
   "id": "77d10844",
   "metadata": {},
   "source": [
    "# Customized functions to create the HTML for standard agenda items"
   ]
  },
  {
   "cell_type": "code",
   "execution_count": 2,
   "id": "49433c25",
   "metadata": {},
   "outputs": [],
   "source": [
    "'''\n",
    "Define functions for formatting each of the items that can appear in a program.\n",
    "Build the program in the main script by calling the functions.\n",
    "\n",
    "'''\n",
    "def officer(role, officer, page):\n",
    "    page.p(e.b(role+\":\")+\" \"+officer,align=\"center\")\n",
    "\n",
    "def pagetitle(unit, meeting, meetdate,page):\n",
    "    page.h1(unit, align=\"center\")\n",
    "    page.h2(meeting, align=\"center\")\n",
    "    page.h2(meetdate, align=\"center\")\n",
    "\n",
    "def speaker(name, page):\n",
    "    page.h2(\"Speaker\", align=\"center\")\n",
    "    page.p(name,align=\"center\")\n",
    "    \n",
    "def testimonies(page):\n",
    "    page.h2(\"Bearing of Testimonies\", align=\"center\")\n",
    "\n",
    "def music(number, description, page):\n",
    "    page.h2(description,align=\"center\")\n",
    "    [hymntitle, hymnurl] = hymndict.hymns[number]\n",
    "    page.p(e.a(\"#\" + str(number)+\", \"+hymntitle, href=hymnurl),align=\"center\")\n",
    "    \n",
    "def specialmusic(performers,page,title=None,accompanist=None):\n",
    "    page.h2(\"Special Musical Number\",align=\"center\")\n",
    "    if title != None:\n",
    "        page.p(e.i(title),align=\"center\")\n",
    "    page.p(performers,align=\"center\")\n",
    "    if accompanist != None:\n",
    "        page.p(\"Acc. by \" + accompanist, align=\"center\")\n",
    "        \n",
    "def thought(text, author, page):\n",
    "    page.hr()\n",
    "    page.p(text, align=\"center\")\n",
    "    page.p(\"- \"+author,align=\"center\")\n",
    " \n",
    "# Announcements are passed as a list of text strings\n",
    "def announcements(textlist,page):\n",
    "    page.hr()\n",
    "    page.h1(\"Announcements\", align=\"center\")\n",
    "    for txt in textlist:\n",
    "        page.p(txt,align=\"center\")\n",
    "\n",
    "# Custom section for Preparedness Corner, etc.\n",
    "def custom(title, txtlist, linklist, page):\n",
    "    page.hr()\n",
    "    page.h1(title, align=\"center\")\n",
    "    if txtlist != None:\n",
    "        for txt in txtlist:\n",
    "            page.p(txt,align=\"center\")\n",
    "    if linklist != None:\n",
    "        for link in linklist:\n",
    "            page.p(e.a(link[0], href=link[1], target=\"_blank\", rel=\"noreferrer noopener\"),align=\"center\")\n",
    "        \n",
    "# Place some links, passed as a list containing text and url\n",
    "def links(linklist, page):\n",
    "    page.hr()\n",
    "    page.h1(\"Links\", align=\"center\")\n",
    "    for link in linklist:\n",
    "        page.p(e.a(link[0], href=link[1], target=\"_blank\", rel=\"noreferrer noopener\"),align=\"center\")\n",
    "        \n",
    "# Print credits at the bottom of the page\n",
    "def credit(editor, page):\n",
    "#'''Print credits and datestamp ''' \n",
    "    today = dt.date.today()\n",
    "    page.hr()\n",
    "    text = today.strftime(\"Edited %B %d, %Y by \") + editor\n",
    "    page.small(text,align=\"center\")        \n",
    "    "
   ]
  },
  {
   "cell_type": "markdown",
   "id": "d49f71d2",
   "metadata": {},
   "source": [
    "# Format the agenda items that are always present\n",
    "Customize for each week with date and type of meeting, i.e. sacrament, fast and testimony, ward conference"
   ]
  },
  {
   "cell_type": "code",
   "execution_count": 3,
   "id": "1d48a03c",
   "metadata": {},
   "outputs": [],
   "source": [
    "itle = \"Sugar Land Second Ward\"\n",
    "#header = \"Sacrament Meeting\"\n",
    "header = \"Fast and Testimony Meeting\"\n",
    "footer = \"\"\n",
    "styles = ( 'layout.css', 'alt.css', 'images.css' )\n",
    "\n",
    "page = htmlpy.page( )\n",
    "page.init()\n",
    "page.br( )\n",
    " \n",
    "# Make sure it will look good on all devices\n",
    "page.meta(name=\"viewport\", content=\"width=device-width, initial-scale=1.0\")\n",
    "\n",
    "# Define the elements on the current week's programs here\n",
    "\n",
    "pagetitle(\"Sugar Land 2nd Ward\", \"Fast and Testimony Meeting\", \"January 8, 2023\", page)"
   ]
  },
  {
   "cell_type": "markdown",
   "id": "f4ed3987",
   "metadata": {},
   "source": [
    "## Artwork\n",
    "Pick an artwork from the defined list of links in artlinks.py and enter the number here"
   ]
  },
  {
   "cell_type": "code",
   "execution_count": 4,
   "id": "5eca8859",
   "metadata": {},
   "outputs": [],
   "source": [
    "# Place an artwork from the imported dictionary of links\n",
    "#page.p(e.img(width=299, height=300*0.8, src=artlinks.art[2]), align=\"center\")\n",
    "page.p(e.img(style=\"max-width:50%;height:auto;\", src=artlinks.art[2]), align=\"center\")"
   ]
  },
  {
   "cell_type": "markdown",
   "id": "5a299af0",
   "metadata": {},
   "source": [
    "## Officers"
   ]
  },
  {
   "cell_type": "code",
   "execution_count": 5,
   "id": "4b61ed5a",
   "metadata": {},
   "outputs": [],
   "source": [
    "officer(\"Presiding\",\"Bishop Joey Powell\", page)\n",
    "#officer(\"Conducting\",\"Bishop Joey Powell\", page)\n",
    "officer(\"Conducting\",\"Bishop Joey Powell\", page)\n",
    "#officer(\"Conducting\",\"Brother Jared Draney\", page)"
   ]
  },
  {
   "cell_type": "markdown",
   "id": "88a662c8",
   "metadata": {},
   "source": [
    "## Opening and sacrament hymns"
   ]
  },
  {
   "cell_type": "code",
   "execution_count": 6,
   "id": "4883fb5d",
   "metadata": {},
   "outputs": [],
   "source": [
    "music(140,\"Opening Hymn\",page)\n",
    "music(172,\"Sacrament Hymn\", page) "
   ]
  },
  {
   "cell_type": "markdown",
   "id": "b9aa0b92",
   "metadata": {},
   "source": [
    "## Variable part of the program"
   ]
  },
  {
   "cell_type": "markdown",
   "id": "5c036916",
   "metadata": {},
   "source": [
    "### If it's fast and testimony meeting, uncomment this section and comment out the sacrament meeting items"
   ]
  },
  {
   "cell_type": "code",
   "execution_count": 7,
   "id": "7d5e22dd",
   "metadata": {},
   "outputs": [],
   "source": [
    "# Uncomment this line for fast and testimony meeting\n",
    "testimonies(page)"
   ]
  },
  {
   "cell_type": "markdown",
   "id": "acc7f590",
   "metadata": {},
   "source": [
    "### For a sacrament meeting or ward conference, comment out the testimonies and use these sections as needed"
   ]
  },
  {
   "cell_type": "code",
   "execution_count": 8,
   "id": "0362fecd",
   "metadata": {},
   "outputs": [],
   "source": [
    "# Use lines like these to form the speaking part of the program\n",
    "\n",
    "#speaker(\"Pete Slater\", page)\n",
    "#speaker(\"Wendy Markwalter\", page)\n",
    "\n",
    "# Special code for the Primary and Christmas Programs\n",
    "#txtlist = (\n",
    "#    'Words and Music Celebrating the Birth of Jesus Christ',\n",
    "#    'Program under the direction of Mindy Draney',\n",
    "#    'Program written by Becky Slater',\n",
    "#    'Congregation to join in singing when directed.'\n",
    "#    )\n",
    "#linklist = None\n",
    "\n",
    "#custom(\"Primary Program\", txtlist,linklist, page)\n",
    "\n",
    "#music(93,\"Intermediate Hymn\",page)\n",
    "#specialmusic(\"Schuyler and Kaylee Robinson\",page, title=\"What Child Is This?\",accompanist = \"Dallin Arnold\")\n",
    "\n",
    "#speaker(\"Brent Leavitt\", page)\n",
    "#speaker(\"Ben Powell\", page)"
   ]
  },
  {
   "cell_type": "markdown",
   "id": "aa869bd8",
   "metadata": {},
   "source": [
    "### Closing hymn"
   ]
  },
  {
   "cell_type": "code",
   "execution_count": 9,
   "id": "fb6df9fc",
   "metadata": {},
   "outputs": [],
   "source": [
    "music(109,\"Closing Hymn\",page)"
   ]
  },
  {
   "cell_type": "markdown",
   "id": "c6564ff0",
   "metadata": {},
   "source": [
    "## End matter - thought, announcements, links"
   ]
  },
  {
   "cell_type": "code",
   "execution_count": 10,
   "id": "6969936f",
   "metadata": {},
   "outputs": [],
   "source": [
    "# Spiritual thought\n",
    "quote = ('Take a private moment to reflect on your blessings, and then find ways to share them.')\n",
    "author = 'Jean B. Bingham'\n",
    "thought(quote, author, page)\n",
    "\n",
    "# Make a list of announcements, then post to the page\n",
    "txtlist = (\n",
    "        \"All Sunday meetings and classes should begin with prayers.\",\n",
    "        \"Blessings of a Mission Fireside, All youth and parents, January 8, 7:00 pm, church dress\",\n",
    "        \"Multistake Youth 16+ Conference, January 14, 12:00pm - 10:30 pm, Bering Building. Register below\",\n",
    "        \"Youth 16+ Dance, January 14, 7:30-10:30pm, Bering Building, registration not required\",\n",
    "        \"MLK Day of Service with Fort Bend Interfaith Community, January 16, 10:30am-1:00 pm, Register below\",\n",
    "        \"Send announcements to bvl2clerk@gmail.com\"\n",
    "           )\n",
    "announcements(txtlist, page)"
   ]
  },
  {
   "cell_type": "markdown",
   "id": "9d58209b",
   "metadata": {},
   "source": [
    "### Preparedness Corner - under development"
   ]
  },
  {
   "cell_type": "code",
   "execution_count": 11,
   "id": "84a5da3e",
   "metadata": {},
   "outputs": [],
   "source": [
    "#txtlist = (\n",
    "#    'Make sure you have water: one gallon per person per day. A family of four would need 12 gallons for 3 days.',\n",
    "#    ' '\n",
    "#    )\n",
    "#linklist = {\n",
    "#    (\"Learn more online\",\"https://www.churchofjesuschrist.org/study/manual/gospel-topics/food-storage?lang=eng\")\n",
    "#}\n",
    "#custom(\"Preparedness Corner\", txtlist,linklist, page)"
   ]
  },
  {
   "cell_type": "code",
   "execution_count": 12,
   "id": "50d50bc2",
   "metadata": {},
   "outputs": [],
   "source": [
    "# Make a list of links, then post\n",
    "linklist = (\n",
    "        (\"Register for the Multistake Youth Conference\",\"https://docs.google.com/forms/d/e/1FAIpQLSemFekXQ5RMTBr4FiJfSWYYAqtulaHV5i2-ZV75TS2D4zS1qw/viewform?fbclid=PAAaaNz8HUkaOYBJ_udhRx1GH2VTxCtI24ahiTuwHucYtgCKbY0J6WwTx-vFc\"),\n",
    "        (\"Register for the MLK Day of Service\",\"https://forms.gle/qb1oAQmKD2kEoG7D6\"),\n",
    "        (\"Sign up to feed the missionaries\",\"https://www.signupgenius.com/go/10c0e4baca82ea7fb6-dinner2\"),\n",
    "        (\"Sign up to prepare a meal with Fort Bend Family Promise\",\"https://www.signupgenius.com/go/10c0e4baca82ea7fb6-helping4\"),\n",
    "        (\"Help at secondmile.org\",\"https://secondmile.org\"), \n",
    "        )\n",
    "links(linklist, page)\n",
    "credit(\"Pete Slater and Andy Chen\", page)"
   ]
  },
  {
   "cell_type": "markdown",
   "id": "ea336a25",
   "metadata": {},
   "source": [
    "# Write out the file to Index.html, which must be posted online"
   ]
  },
  {
   "cell_type": "code",
   "execution_count": 13,
   "id": "3e60260a",
   "metadata": {},
   "outputs": [
    {
     "name": "stdout",
     "output_type": "stream",
     "text": [
      "<!DOCTYPE HTML PUBLIC '-//W3C//DTD HTML 4.01 Transitional//EN'>\n",
      "<html lang=\"en\">\n",
      "<head>\n",
      "</head>\n",
      "<body>\n",
      "<br />\n",
      "<meta name=\"viewport\" content=\"width=device-width, initial-scale=1.0\" />\n",
      "<h1 align=\"center\">Sugar Land 2nd Ward</h1>\n",
      "<h2 align=\"center\">Fast and Testimony Meeting</h2>\n",
      "<h2 align=\"center\">January 8, 2023</h2>\n",
      "<p align=\"center\"><img style=\"max-width:50%;height:auto;\" src=\"https://assets.ldscdn.org/cb/ed/cbed365fb314b159dbf2e34d43a50f50c96e961e/christ_doctors_temple_art_lds.jpeg\" /></p>\n",
      "<p align=\"center\"><b>Presiding:</b> Bishop Joey Powell</p>\n",
      "<p align=\"center\"><b>Conducting:</b> Bishop Joey Powell</p>\n",
      "<h2 align=\"center\">Opening Hymn</h2>\n",
      "<p align=\"center\"><a href=\"https://www.churchofjesuschrist.org/music/library/hymns/did-you-think-to-pray?lang=eng&amp;#39\">#140, Did You Think to Pray?</a></p>\n",
      "<h2 align=\"center\">Sacrament Hymn</h2>\n",
      "<p align=\"center\"><a href=\"https://www.churchofjesuschrist.org/music/library/hymns/in-humility-our-savior?lang=eng&amp;#39\">#172, In Humility, Our Savior</a></p>\n",
      "<h2 align=\"center\">Bearing of Testimonies</h2>\n",
      "<h2 align=\"center\">Closing Hymn</h2>\n",
      "<p align=\"center\"><a href=\"https://www.churchofjesuschrist.org/music/library/hymns/the-lord-my-pasture-will-prepare?lang=eng&amp;#39\">#109, The Lord My Pasture Will Prepare</a></p>\n",
      "<hr />\n",
      "<p align=\"center\">Take a private moment to reflect on your blessings, and then find ways to share them.</p>\n",
      "<p align=\"center\">- Jean B. Bingham</p>\n",
      "<hr />\n",
      "<h1 align=\"center\">Announcements</h1>\n",
      "<p align=\"center\">All Sunday meetings and classes should begin with prayers.</p>\n",
      "<p align=\"center\">Blessings of a Mission Fireside, All youth and parents, January 8, 7:00 pm, church dress</p>\n",
      "<p align=\"center\">Multistake Youth 16+ Conference, January 14, 12:00pm - 10:30 pm, Bering Building. Register below</p>\n",
      "<p align=\"center\">Youth 16+ Dance, January 14, 7:30-10:30pm, Bering Building, registration not required</p>\n",
      "<p align=\"center\">MLK Day of Service with Fort Bend Interfaith Community, January 16, 10:30am-1:00 pm, Register below</p>\n",
      "<p align=\"center\">Send announcements to bvl2clerk@gmail.com</p>\n",
      "<hr />\n",
      "<h1 align=\"center\">Links</h1>\n",
      "<p align=\"center\"><a href=\"https://docs.google.com/forms/d/e/1FAIpQLSemFekXQ5RMTBr4FiJfSWYYAqtulaHV5i2-ZV75TS2D4zS1qw/viewform?fbclid=PAAaaNz8HUkaOYBJ_udhRx1GH2VTxCtI24ahiTuwHucYtgCKbY0J6WwTx-vFc\" target=\"_blank\" rel=\"noreferrer noopener\">Register for the Multistake Youth Conference</a></p>\n",
      "<p align=\"center\"><a href=\"https://forms.gle/qb1oAQmKD2kEoG7D6\" target=\"_blank\" rel=\"noreferrer noopener\">Register for the MLK Day of Service</a></p>\n",
      "<p align=\"center\"><a href=\"https://www.signupgenius.com/go/10c0e4baca82ea7fb6-dinner2\" target=\"_blank\" rel=\"noreferrer noopener\">Sign up to feed the missionaries</a></p>\n",
      "<p align=\"center\"><a href=\"https://www.signupgenius.com/go/10c0e4baca82ea7fb6-helping4\" target=\"_blank\" rel=\"noreferrer noopener\">Sign up to prepare a meal with Fort Bend Family Promise</a></p>\n",
      "<p align=\"center\"><a href=\"https://secondmile.org\" target=\"_blank\" rel=\"noreferrer noopener\">Help at secondmile.org</a></p>\n",
      "<hr />\n",
      "<small align=\"center\">Edited January 05, 2023 by Pete Slater and Andy Chen</small>\n",
      "</body>\n",
      "</html>\n"
     ]
    },
    {
     "data": {
      "text/plain": [
       "'\\nEnd of script\\n'"
      ]
     },
     "execution_count": 13,
     "metadata": {},
     "output_type": "execute_result"
    }
   ],
   "source": [
    "print (page)# -*- coding: utf-8 -*\n",
    "\n",
    "original_stdout = sys.stdout\n",
    "with open('Index.html', 'w') as f:\n",
    "    sys.stdout = f # Change the standard output to the file we created.\n",
    "    print(page)\n",
    "    sys.stdout = original_stdout # Reset the standard output to its original value\n",
    "\"\"\"\n",
    "End of script\n",
    "\"\"\""
   ]
  },
  {
   "cell_type": "code",
   "execution_count": null,
   "id": "ead46242",
   "metadata": {},
   "outputs": [],
   "source": []
  }
 ],
 "metadata": {
  "kernelspec": {
   "display_name": "Python 3 (ipykernel)",
   "language": "python",
   "name": "python3"
  },
  "language_info": {
   "codemirror_mode": {
    "name": "ipython",
    "version": 3
   },
   "file_extension": ".py",
   "mimetype": "text/x-python",
   "name": "python",
   "nbconvert_exporter": "python",
   "pygments_lexer": "ipython3",
   "version": "3.9.12"
  }
 },
 "nbformat": 4,
 "nbformat_minor": 5
}
