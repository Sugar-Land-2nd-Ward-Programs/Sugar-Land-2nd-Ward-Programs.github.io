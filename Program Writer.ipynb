{
 "cells": [
  {
   "cell_type": "markdown",
   "id": "81f29a21",
   "metadata": {},
   "source": [
    "# Template for Creating Sacrament Meeting Programs\n",
    "\n",
    "## Uses MarkupPy to generate the HTML"
   ]
  },
  {
   "cell_type": "code",
   "execution_count": 39,
   "id": "aa66d71d",
   "metadata": {},
   "outputs": [],
   "source": [
    "#\n",
    "# Sugar Land 2nd Ward HTML Program Writer\n",
    "#\n",
    "# Pete Slater\n",
    "# June 2022\n",
    "\n",
    "import hymndict # Titles and links to hymns\n",
    "import htmlpy # Local copy of source code\n",
    "from htmlpy import oneliner as e\n",
    "import artlinks # Links to artwork\n",
    "import sundays # Sunday schedule\n",
    "import sys\n",
    "import datetime as dt"
   ]
  },
  {
   "cell_type": "markdown",
   "id": "77d10844",
   "metadata": {},
   "source": [
    "# Customized functions to create the HTML for standard agenda items"
   ]
  },
  {
   "cell_type": "code",
   "execution_count": 40,
   "id": "49433c25",
   "metadata": {},
   "outputs": [],
   "source": [
    "'''\n",
    "Define functions for formatting each of the items that can appear in a program.\n",
    "Build the program in the main script by calling the functions.\n",
    "\n",
    "'''\n",
    "def officer(role, officer, page):\n",
    "    page.p(e.b(role+\":\")+\" \"+officer,align=\"center\")\n",
    "\n",
    "def pagetitle(unit, meeting, meetdate,page):\n",
    "    page.h1(unit, align=\"center\")\n",
    "    page.h2(meeting, align=\"center\")\n",
    "    page.h2(meetdate, align=\"center\")\n",
    "\n",
    "def speaker(name, page):\n",
    "    page.h2(\"Speaker\", align=\"center\")\n",
    "    page.p(name,align=\"center\")\n",
    "def prayer(name, description, page):\n",
    "    page.h2(description, align=\"center\")\n",
    "    page.p(name,align=\"center\")    \n",
    "    \n",
    "def testimony(name, page):\n",
    "    page.h2(\"Testimony\", align=\"center\")\n",
    "    page.p(name,align=\"center\")\n",
    "    \n",
    "def testimonies(page):\n",
    "    page.h2(\"Bearing of Testimonies\", align=\"center\")\n",
    "\n",
    "def music(number, description, page):\n",
    "    page.h2(description,align=\"center\")\n",
    "    [hymntitle, hymnurl] = hymndict.hymns[number]\n",
    "    page.p(e.a(\"#\" + str(number)+\", \"+hymntitle, href=hymnurl),align=\"center\")\n",
    "    \n",
    "def specialmusic(performers,page,title=None,accompanist=None):\n",
    "    page.h2(\"Special Musical Number\",align=\"center\")\n",
    "    if title != None:\n",
    "        page.p(e.i(title),align=\"center\")\n",
    "    page.p(performers,align=\"center\")\n",
    "    if accompanist != None:\n",
    "        page.p(\"Acc. by \" + accompanist, align=\"center\")\n",
    "        \n",
    "def thought(text, author, page):\n",
    "    page.hr()\n",
    "    page.p(text, align=\"center\")\n",
    "    page.p(\"- \"+author,align=\"center\")\n",
    " \n",
    "# Announcements are passed as a list of text strings\n",
    "def announcements(textlist,page):\n",
    "    page.hr()\n",
    "    page.h1(\"Announcements\", align=\"center\")\n",
    "    for txt in textlist:\n",
    "        page.p(txt,align=\"center\")\n",
    "        \n",
    "# Calendar items are passed as a list of text strings\n",
    "def calendar(textlist,page):\n",
    "    page.hr()\n",
    "    page.h1(\"Calendar Items\", align=\"center\")\n",
    "    for txt in textlist:\n",
    "        page.p(txt,align=\"center\")\n",
    "\n",
    "# Custom section for Preparedness Corner, etc.\n",
    "def custom(title, txtlist, linklist, page):\n",
    "    page.hr()\n",
    "    page.h1(title, align=\"center\")\n",
    "    if txtlist != None:\n",
    "        for txt in txtlist:\n",
    "            page.p(txt,align=\"center\")\n",
    "    if linklist != None:\n",
    "        for link in linklist:\n",
    "            page.p(e.a(link[0], href=link[1], target=\"_blank\", rel=\"noreferrer noopener\"),align=\"center\")\n",
    "        \n",
    "# Place some links, passed as a list containing text and url\n",
    "def links(linklist, page):\n",
    "    page.hr()\n",
    "    page.h1(\"Links\", align=\"center\")\n",
    "    for link in linklist:\n",
    "        page.p(e.a(link[0], href=link[1], target=\"_blank\", rel=\"noreferrer noopener\"),align=\"center\")\n",
    "        \n",
    "# Print credits at the bottom of the page\n",
    "def credit(editor, page):\n",
    "#'''Print credits and datestamp ''' \n",
    "    today = dt.date.today()\n",
    "    page.hr()\n",
    "    text = today.strftime(\"Edited %B %d, %Y by \") + editor\n",
    "    page.small(text,align=\"center\")        \n",
    "    "
   ]
  },
  {
   "cell_type": "markdown",
   "id": "3925b3d1",
   "metadata": {},
   "source": [
    "## Functions for the cleaning calendar"
   ]
  },
  {
   "cell_type": "code",
   "execution_count": 41,
   "id": "72930085",
   "metadata": {},
   "outputs": [],
   "source": [
    "def nextsunday(n):\n",
    "#\"\"\" Return next n Sundays, including today if it's Sunday\"\"\"\n",
    " today = dt.date.today()\n",
    " daynum = today.weekday() # Sunday is day #6\n",
    "\n",
    " if daynum == 6:\n",
    "  basedate = today \n",
    " else:\n",
    "  basedate = today + dt.timedelta(6-daynum)\n",
    "    \n",
    " sundays = []\n",
    " for i in range(n):\n",
    "  nxtSunday = basedate + dt.timedelta(i*7)\n",
    "  #sundays.append(nxtSunday.strftime(\"%B %d, %Y\"))\n",
    "  sundays.append(nxtSunday.strftime(\"%B %d\"))\n",
    " return sundays\n",
    "\n",
    "def nextsaturday(n):\n",
    "#\"\"\" Return next n Saturdays, including today if it's Saturday\"\"\"\n",
    " today = dt.date.today()\n",
    " daynum = today.weekday() # Saturday is day #5\n",
    "\n",
    " if daynum == 5:\n",
    "  basedate = today \n",
    " else:\n",
    "  basedate = today + dt.timedelta(5-daynum)\n",
    "    \n",
    " saturdays = []\n",
    " for i in range(n):\n",
    "  nxtSaturday = basedate + dt.timedelta(i*7)\n",
    "  saturdays.append(nxtSaturday.strftime(\"%B %d\"))\n",
    " return saturdays"
   ]
  },
  {
   "cell_type": "code",
   "execution_count": 42,
   "id": "2360f35d",
   "metadata": {},
   "outputs": [],
   "source": [
    "roster = {\n",
    "    \"June 24\" : \"Sugar Land 1st\",\n",
    "    \"July 01\" : \"Bradford, Arnold, Emerson, Markwalter\",\n",
    "    \"July 08\" : \"Clark, Lambert, Blackburn, Ganci, Martin, Robinson\",\n",
    "    \"July 15\" : \"Crandall, Blanco, Garcia, Moline, Thibault\",\n",
    "    \"July 22\" : \"Crosby, Boyer, Griffin, Mike & Dawnette Moore, MacKinnon\",\n",
    "    \"July 29\" : \"Maplewood 3rd Branch\",\n",
    "    \"August 05\" : \"Draney, Buchanan, Hettinger, Morton, Tracey\",\n",
    "    \"August 12\" : \"Leavitt, Chen, Hintze, Ozomah, Seegmiller\",\n",
    "    \"August 19\" : \"Powell, Clements, Horowitz, Quam, Wightman\",\n",
    "    \"August 26\" : \"Kaye Reynolds, Debow, Jeffery, Rasmussen, Winningham\",\n",
    "    \"September 02\" : \"Roskelley, Ekstrom, Ocampo, Juarez, Jason & Deann Moore, Slater\",\n",
    "    \"September 09\" : \"Arnold, Bradford, Emerson, Markwalter\",\n",
    "    \"September 16\" : \"Blackburn, Clark, Ganci, Lambert, Martin, Robinson\",\n",
    "    \"September 23\" : \"Blanco, Crandall, Garcia, Moline, Thibault\",\n",
    "    \"September 30\" : \"Maplewood 3rd Branch\",\n",
    "    \"October 07\" : \"Boyer, Crosby, Griffin, MacKinnon, Mike & Dawnette Moore\",\n",
    "    \"October 14\" : \"Buchanan, Draney, Hettinger, Morton, Tracey\",\n",
    "    \"October 21\" : \"Chen, Hintze, Leavitt, Ozomah, Seegmiller\",\n",
    "    \"October 28\" : \"Clements, Horowitz, Powell, Quam, Wightman\",\n",
    "    \"November 04\" : \"Debow, Jeffery, Rasmussen, Kay Reynolds, Winningham\",\n",
    "    \"November 11\" : \"Ekstrom, Juarez, Jason & Deann Moore, Ocampo, Roskelley, Slater\",\n",
    "    \"November 18\" : \"Arnold, Bradford, Emerson, Markwalter\",\n",
    "    \"November 25\" : \"Blackburn, Clark, Ganci, Lambert, Martin, Robinson\",\n",
    "    \"December 02\" : \"Blanco, Crandall, Garcia, Moline, Thibault\",\n",
    "    \"December 09\" : \"Boyer, Crosby, Griffin, MacKinnon, Mike & Dawnette Moore\",\n",
    "    \"December 16\" : \"Buchanan, Draney, Hettinger, Morton, Tracey\",\n",
    "    \"December 23\" : \"Chen, Hintze, Leavitt, Ozomah, Seegmiller\",\n",
    "    \"December 30\" : \"Maplewood 3rd Branch\",\n",
    "    \"January 06\" : \"Clements, Horowitz, Powell, Quam, Wightman\",\n",
    "    \"January 13\" : \"Debow, Jeffery, Rasmussen, Kay Reynolds, Winningham\",\n",
    "    \"January 20\" : \"Ekstrom, Juarez, Jason & Deann Moore, Ocampo, Roskelley, Slater\",\n",
    "    \"January 27\" : \"Yet to be assigned\",\n",
    "    \"February 03\" : \"Yet to be assigned\",\n",
    "    \"February 10\" : \"Yet to be assigned\",\n",
    "    \"February 17\" : \"Yet to be assigned\",\n",
    "    \"January 27\" : \"Bradford,  Arnold, Gutiérrez,  Markwalter,  Scott\",\n",
    "    \"February 03\" : \"Clark,  Lambert,  Blackburn,  Martin,  Quam,  Robinson\",\n",
    "    \"February 10\" : \"Crandall,  Blanco,  Ganci,  Garcia,  Moline,  Thibault\",\n",
    "    \"February 17\" : \"Crosby,  Boyer,  Griffin, Mike & Dawnette Moore,  Thomas\",\n",
    "    \"February 24\" : \"Draney,  Buchanan,  Hettinger,  Morton,  Tracey\",\n",
    "    \"March 02\" : \"Leavitt,  Chen,  Hintze,  Ozomah,  Seegmiller\",\n",
    "    \"March 09\" : \"Powell,  Clements,  Horowitz,  Rellaford,  Wightman\",\n",
    "    \"March 16\" : \"Kaye  Reynolds,  Debow,  Jeffery,  Rasmussen,  Winningham\",\n",
    "    \"March 23\" : \"Roskelley,  Ekstrom,  Ocampo,  Evans, Kyle & Vanessaa Moore,  Slater\",\n",
    "    \"March 30\" : \"Maplewood 3rd  Branch\",\n",
    "    \"April 06\" : \"Bradford,  Arnold,  Guiterrez,  Markwalter,  Scott\",\n",
    "    \"April 13\" : \"Clark,  Lambert,  Blackburn,  Martin,  Quam,  Robinson\",\n",
    "    \"April 20\" : \"Crandall,  Blanco,  Ganci,  Garcia,  Moline,  Thibault\",\n",
    "    \"April 27\" : \"Crosby,  Boyer,  Griffin, Mike & Dawnette Moore,  Thomas\",\n",
    "    \"May 04\" : \"Draney,  Buchanan,  Hettinger,  Morton,  Tracey\",\n",
    "    \"May 11\" : \"Leavitt,  Chen,  Hintze,  Ozomah,  Seegmiller\",\n",
    "    \"May 18\" : \"Powell,  Clements,  Horowitz,  Rellaford,  Wightman\",\n",
    "    \"May 25\" : \"Kaye  Reynolds,  Debow,  Jeffery,  Rasmussen,  Winningham\",\n",
    "    \"June 01\" : \"Roskelley,  Ekstrom,  Ocampo,  Evans, Kyle & Vanessaa Moore,  Slater\",\n",
    "    \"ZZZ\" : \"End of List\"\n",
    "}"
   ]
  },
  {
   "cell_type": "markdown",
   "id": "3bdadcfe",
   "metadata": {},
   "source": [
    "# Determine the Sunday date and what type of meeting"
   ]
  },
  {
   "cell_type": "code",
   "execution_count": 43,
   "id": "d6b5f52a",
   "metadata": {},
   "outputs": [],
   "source": [
    "keydate = nextsunday(1)[0]\n",
    "[meeting, format_date] = sundays.sunday_type(keydate)"
   ]
  },
  {
   "cell_type": "markdown",
   "id": "d49f71d2",
   "metadata": {},
   "source": [
    "# Format the agenda items that are always present\n",
    "Customize for each week with date and type of meeting, i.e. sacrament, fast and testimony, ward conference"
   ]
  },
  {
   "cell_type": "code",
   "execution_count": 44,
   "id": "1d48a03c",
   "metadata": {},
   "outputs": [],
   "source": [
    "title_choices = {'Sacrament Meeting': \"Sugar Land Second Ward\", 'Stake Conference': \"Houston Texas South Stake\"}\n",
    "Title = title_choices.get(meeting, 'Sugar Land Second Ward')\n",
    "\n",
    "#header_choices = {'Normal': \"Sacrament Meeting\", 'Fast': \"Fast and Testimony Meeting\",\n",
    "#                  'Stake': \"Stake Conference\", \"General\" : \"General Conference\", \"Ward\" : \"Ward Conference\"}\n",
    "#header = header_choices.get(meeting, 'Sacrament Meeting')\n",
    "\n",
    "footer = \"\"\n",
    "styles = ( 'layout.css', 'alt.css', 'images.css' )\n",
    "\n",
    "page = htmlpy.page( )\n",
    "page.init()\n",
    "page.br( )\n",
    " \n",
    "# Make sure it will look good on all devices\n",
    "page.meta(name=\"viewport\", content=\"width=device-width, initial-scale=1.0\")\n",
    "\n",
    "# Define the elements on the current week's programs here\n",
    "\n",
    "#pagetitle(\"Sugar Land Second Ward\", \"General Conference\", \"October 1st, 2023\", page)\n",
    "#pagetitle(\"Sugar Land Second Ward\", \"Fast and Testimony Meeting\", \"February 4th, 2024\", page)\n",
    "#pagetitle(\"Sugar Land Second Ward\", \"Stake Conference\", \"December 2-3, 2023\", page)\n",
    "pagetitle(Title, meeting, format_date, page)"
   ]
  },
  {
   "cell_type": "markdown",
   "id": "f4ed3987",
   "metadata": {},
   "source": [
    "## Artwork\n",
    "Pick an artwork from the defined list of links in artlinks.py and enter the number here\n",
    "\n",
    "Christmas-themed keys are \"Nativity1\", \"Annunc\", \"Birth\", \"Simon\""
   ]
  },
  {
   "cell_type": "code",
   "execution_count": 45,
   "id": "5eca8859",
   "metadata": {},
   "outputs": [],
   "source": [
    "# Place an artwork from the imported dictionary of links\n",
    "#page.p(e.img(width=299, height=300*0.8, src=artlinks.art[2]), align=\"center\")\n",
    "page.p(e.img(style=\"max-width:50%;height:auto;\", src=artlinks.art[1]), align=\"center\")"
   ]
  },
  {
   "cell_type": "markdown",
   "id": "5a299af0",
   "metadata": {},
   "source": [
    "## Officers"
   ]
  },
  {
   "cell_type": "code",
   "execution_count": 46,
   "id": "4b61ed5a",
   "metadata": {},
   "outputs": [],
   "source": [
    "if meeting in ['Sacrament Meeting','Fast and Testimony Meeting']:\n",
    "    #officer(\"Presiding\",\"President Travis Bird\", page)\n",
    "    #officer(\"Presiding\",\"President Mike Kennington\", page)\n",
    "    #officer(\"Presiding\",\"President Ernie Carrasquillo\", page)\n",
    "    officer(\"Presiding\",\"Bishop Joey Powell\", page)\n",
    "    #officer(\"Presiding\",\"Bishop Joey Powell\", page)\n",
    "    #officer(\"Conducting\",\"Bishop Joey Powell\", page)\n",
    "    #officer(\"Presiding\",\"Brother Brent Leavitt\", page)\n",
    "    officer(\"Conducting\",\"Brother Jared Draney\", page)\n",
    "    #officer(\"Presiding\",\"Brother Brent Leavitt\", page)\n",
    "    #officer(\"Conducting\",\"Brother Brent Leavitt\", page)\n"
   ]
  },
  {
   "cell_type": "markdown",
   "id": "88a662c8",
   "metadata": {},
   "source": [
    "## Opening and sacrament hymns"
   ]
  },
  {
   "cell_type": "code",
   "execution_count": 47,
   "id": "4883fb5d",
   "metadata": {},
   "outputs": [],
   "source": [
    "    music(111,\"Opening Hymn\",page)\n",
    "    #prayer(\"Jack Reynolds\", \"Invocation\", page)\n",
    "    music(178,\"Sacrament Hymn\", page) "
   ]
  },
  {
   "cell_type": "markdown",
   "id": "b9aa0b92",
   "metadata": {},
   "source": [
    "## Variable part of the program"
   ]
  },
  {
   "cell_type": "markdown",
   "id": "5c036916",
   "metadata": {},
   "source": [
    "### If it's fast and testimony meeting, uncomment this section and comment out the sacrament meeting items"
   ]
  },
  {
   "cell_type": "code",
   "execution_count": 48,
   "id": "7d5e22dd",
   "metadata": {},
   "outputs": [],
   "source": [
    "#Uncomment this line for fast and testimony meeting - logic should now handle this\n",
    "if meeting == \"Fast and Testimony Meeting\":\n",
    "    testimonies(page)"
   ]
  },
  {
   "cell_type": "markdown",
   "id": "acc7f590",
   "metadata": {},
   "source": [
    "### For a sacrament meeting or ward conference, comment out the testimonies and use these sections as needed"
   ]
  },
  {
   "cell_type": "code",
   "execution_count": 49,
   "id": "f9673d16",
   "metadata": {},
   "outputs": [],
   "source": [
    "if meeting in [\"Sacrament Meeting\", \"Ward Conference\", \"Easter Service\"]:\n",
    "    # Use lines like these to form the speaking part of the program\n",
    "\n",
    "    # Special code for the Primary and Christmas Programs\n",
    "    #txtlist = (\n",
    "    #    'Words and Music Celebrating the Birth and Mission of Jesus Christ',\n",
    "    #    'Program presented by the Primary, Young Men and Young Women, Elders Quorum, and Relief Society',\n",
    "    #    )\n",
    "    #linklist = None\n",
    "\n",
    "    #custom(\"Christmas Program\", txtlist,linklist, page)\n",
    "    #specialmusic(\"Primary Children\",page, title=\"Fathers\")\n",
    "    #specialmusic(\"Primary \",page, title= \"Primary Program - I'm trying to be like Jesus\")\n",
    "\n",
    "    #specialmusic(\"Sugar Land 2nd Ward Men's Chorus\",page, accompanist=\"Dallin Arnold\", title= \"I Believe in Christ\")\n",
    "    #specialmusic(\"Ashley Parkinson\",page, accompanist=None, title= \"In Humility Our Savior\")\n",
    "    #testimony(\"President Ryman Tiu\", page)\n",
    "    #specialmusic(\"Enoch Poon\",page, accompanist=\"Sarah Poon\", title= \"&Eacutel&eacutegie\")\n",
    "    #speaker(\"Ting Chen\", page)\n",
    "    #specialmusic(\"Joy Lawson\",page, accompanist=None, title= \"He Lives\")\n",
    "    \n",
    "    #speaker(\"Emily Blanco\",page)\n",
    "    music(5,\"Intermediate Hymn\", page)\n",
    "    #speaker(\"Dale Crosby\",page)\n",
    "    \n",
    "    #prayer(\"\",\"Benediction\",page)\n",
    "    \n",
    "\n"
   ]
  },
  {
   "cell_type": "markdown",
   "id": "8c155193",
   "metadata": {},
   "source": [
    "### Stake Conference Code - usually commented out"
   ]
  },
  {
   "cell_type": "code",
   "execution_count": 50,
   "id": "0362fecd",
   "metadata": {},
   "outputs": [],
   "source": [
    "if meeting == \"Stake Conference\":\n",
    "    # Special Code for Stake Conference\n",
    "    txtlist = (\n",
    "         \"Bishopric, Ward Council, Counselors, Secretaries, and those who attend missionary and temple and family history correlation meetings\",\n",
    "         \"In-person at Lexington\"\n",
    "    )\n",
    "    linklist = None\n",
    "\n",
    "    custom(\"Leadership Session, Saturday 2:00-4:30 pm\", txtlist, linklist, page)\n",
    "\n",
    "    txtlist = (\n",
    "         \"All Adults\",\n",
    "         \"In-person at Lexington\"\n",
    "    )\n",
    "    linklist = None\n",
    "\n",
    "    custom(\"Adult Session, Saturday 7:00-8:30 pm\", txtlist, linklist, page)\n",
    "\n",
    "    txtlist = (\n",
    "        \"In-person at Lexington\",\n",
    "        \"Via Zoom at Sienna and Rosenberg\"\n",
    "    )\n",
    "    linklist = None\n",
    "\n",
    "    custom(\"General Session, Sunday 10:00 am - 12:00 pm\", txtlist, linklist, page)"
   ]
  },
  {
   "cell_type": "markdown",
   "id": "aa869bd8",
   "metadata": {},
   "source": [
    "### Closing hymn"
   ]
  },
  {
   "cell_type": "code",
   "execution_count": 51,
   "id": "fb6df9fc",
   "metadata": {
    "scrolled": true
   },
   "outputs": [],
   "source": [
    "if meeting in [\"Sacrament Meeting\", \"Fast and Testimony Meeting\", \"Ward Conference\", \"Easter Service\"]:\n",
    "    music(85,\"Closing Hymn\",page)"
   ]
  },
  {
   "cell_type": "markdown",
   "id": "c6564ff0",
   "metadata": {},
   "source": [
    "## End matter - thought, announcements, calendar, links"
   ]
  },
  {
   "cell_type": "code",
   "execution_count": 52,
   "id": "6969936f",
   "metadata": {},
   "outputs": [],
   "source": [
    "# Spiritual thought\n",
    "quote = (\"The Lord isn't asking us to load up a handcart; He's asking us to fortify our faith.\")\n",
    "author = 'Elder M. Russell Ballard'\n",
    "thought(quote, author, page)\n",
    "\n",
    "# Make a list of announcements, then post to the page\n",
    "txtlist = (\n",
    "        \"The sister missionaries have a new phone number: 346-901-8717\",\n",
    "        \"The Houston Texas South Mission seeks senior couples to work in the office\",\n",
    "        \"Volley Ball Wednesdays - Come join us on Wednesdays at 9PM and have fun!!!\",\n",
    "        \"Send announcements to bvl2clerk@gmail.com\")\n",
    "announcements(txtlist, page)\n",
    "\n",
    "callist = (\n",
    "    \"May 5th - HSS World Wide Devotional Broadcast for Young Adults at 7PM\",\n",
    "    \"May 10th thru May 17th - Deseret Industries Pod at Lexington and Sienna buildings\",\n",
    "    \"May 18th - HSS Stake Conference Adult Session 7:00 PM Lexington Building\",\n",
    "    \"May 19th - HSS Stake Conference General Session 10:00 AM Lexington and Sienna buildings\",\n",
    "    \"May 19th - Houston South Stake Seminary Graduation 6:30PM Lexington Building\",\n",
    "    \"July 10th - Astros Friends & Family Night 7PM at Minute Maid Park See link below\",\n",
    "    \"Share this event with family, friends, neighbors, co-workers and of course your ministering families!\",\n",
    "    \"This will be a great opportunity to INVITE others to join us for an evening of fun at the ballpark\",\n",
    "    \"Jully 10th-13th - Houstont Stake Young Women Camp at Caney Creek\",\n",
    "         )\n",
    "calendar(callist, page)\n"
   ]
  },
  {
   "cell_type": "markdown",
   "id": "c89dda30",
   "metadata": {},
   "source": [
    "# Cleaning Assignments"
   ]
  },
  {
   "cell_type": "code",
   "execution_count": 53,
   "id": "a23d69c3",
   "metadata": {},
   "outputs": [],
   "source": [
    "sats = nextsaturday(4)\n",
    "cleaninglist = []\n",
    "for sat in sats:\n",
    "    cleaninglist.append(sat + \": \" + roster[sat])\n",
    "custom(\"Cleaning Assignments\",cleaninglist, None, page)"
   ]
  },
  {
   "cell_type": "markdown",
   "id": "9d58209b",
   "metadata": {},
   "source": [
    "### Preparedness Corner - under development"
   ]
  },
  {
   "cell_type": "code",
   "execution_count": 54,
   "id": "84a5da3e",
   "metadata": {},
   "outputs": [],
   "source": [
    "txtlist = (\n",
    "\"Emergency preparedness is the process of planning and preparing for potential hazards and disasters. Even though hurricane season for the Houston area is pretty much over, emergencies don't pay attention to the calendar.\",\n",
    "\"This spring is as good a time as any to increase your family's preparedness. If you don't have 72-hour kits packed for everyone in your household (even if it's just you), let this guide you in your Christmas shopping!\",\n",
    "\"If you're all prepared in that sense, now is a good time to wrap your outside faucets and do all else that you need to in order to be prepared for any upcoming freezes.\",\n",
    "\"There are countless lists and resources online to give guidance and practical information on emergency preparedness. Go ahead and get started!\",\n",
    "    )\n",
    "#linklist = {\n",
    "#    (\"Learn more online\",\"https://www.churchofjesuschrist.org/study/manual/gospel-topics/food-storage?lang=eng\")\n",
    "#}\n",
    "linklist = None\n",
    "custom(\"Houston South Stake Emergency Preparedness Corner\", txtlist,linklist, page)"
   ]
  },
  {
   "cell_type": "code",
   "execution_count": 55,
   "id": "50d50bc2",
   "metadata": {},
   "outputs": [],
   "source": [
    "# Make a list of links, then post\n",
    "linklist = (\n",
    "        (\"Astros Friends and Family Night Wednesday, July 10th @7pm.\",\"https://mlb.tickets.com/schedule/?agency=MLB_MPV&orgid=18#/sales_groups;salesGroupId=4940\"),\n",
    "        (\"We need 30+ individuals for Jones Dickson Cemetery: The African American Heritage Project to help pick up trash, mow the grass, weed-eat, saw small branches, clear brush, and more. Please bring gloves and appropriate yard implements if you have them.\", \"https://www.justserve.org/projects/fb13bfc5-ea5b-4c45-89dc-47acddb2e80f\"), \n",
    "        (\"Let the missionaries know when you are available to help teach\",\"https://docs.google.com/forms/d/1cVhEINFFESai0MLbgBA8euTyiMQsM8R1Sur_EQsyUrw/edit?usp=drive_web\"),\n",
    "        (\"Get started with Temple and Family History work\",\"https://sugar-land-2nd-ward-programs.github.io/TempleandFamilyHistoryGettingStarted.html\"),\n",
    "        (\"See to Succeed a Houston South Stake service project\",\"https://www.houstonhealth.org/services/clinical/see-to-succeed\"),\n",
    "        (\"Sign up to feed the missionaries\",\"https://www.signupgenius.com/go/10c0e4baca82ea7fb6-dinner2\"),\n",
    "        (\"Sign up to prepare a meal with Fort Bend Family Promise\",\"https://www.signupgenius.com/go/10c0e4baca82ea7fb6-helping4#\"),\n",
    "        (\"Help at secondmile.org\",\"https://secondmile.org\"), \n",
    "        )\n",
    "links(linklist, page)\n",
    "credit(\"Pete Slater and Andy Chen\", page)"
   ]
  },
  {
   "cell_type": "code",
   "execution_count": null,
   "id": "06177fa6",
   "metadata": {},
   "outputs": [],
   "source": []
  },
  {
   "cell_type": "markdown",
   "id": "ea336a25",
   "metadata": {},
   "source": [
    "# Write out the file to Index.html, which must be posted online"
   ]
  },
  {
   "cell_type": "code",
   "execution_count": 56,
   "id": "3e60260a",
   "metadata": {},
   "outputs": [
    {
     "name": "stdout",
     "output_type": "stream",
     "text": [
      "<!DOCTYPE HTML PUBLIC '-//W3C//DTD HTML 4.01 Transitional//EN'>\n",
      "<html lang=\"en\">\n",
      "<head>\n",
      "</head>\n",
      "<body>\n",
      "<br />\n",
      "<meta name=\"viewport\" content=\"width=device-width, initial-scale=1.0\" />\n",
      "<h1 align=\"center\">Sugar Land Second Ward</h1>\n",
      "<h2 align=\"center\">Fast and Testimony Meeting</h2>\n",
      "<h2 align=\"center\">May 5th</h2>\n",
      "<p align=\"center\"><img style=\"max-width:50%;height:auto;\" src=\"https://assets.ldscdn.org/b2/7f/b27ffa65772bb46215dbdbc7163f6deb4011c8c2/pool_of_bethesda_carl_bloch.jpeg\" /></p>\n",
      "<p align=\"center\"><b>Presiding:</b> Bishop Joey Powell</p>\n",
      "<p align=\"center\"><b>Conducting:</b> Brother Jared Draney</p>\n",
      "<h2 align=\"center\">Opening Hymn</h2>\n",
      "<p align=\"center\"><a href=\"https://www.churchofjesuschrist.org/music/library/hymns/rock-of-ages?lang=eng&amp;#39\">#111, Rock of Ages</a></p>\n",
      "<h2 align=\"center\">Sacrament Hymn</h2>\n",
      "<p align=\"center\"><a href=\"https://www.churchofjesuschrist.org/music/library/hymns/o-lord-of-hosts?lang=eng&amp;#39\">#178, O Lord of Hosts</a></p>\n",
      "<h2 align=\"center\">Bearing of Testimonies</h2>\n",
      "<h2 align=\"center\">Closing Hymn</h2>\n",
      "<p align=\"center\"><a href=\"https://www.churchofjesuschrist.org/music/library/hymns/how-firm-a-foundation?lang=eng&amp;#39\">#85, How Firm a Foundation</a></p>\n",
      "<hr />\n",
      "<p align=\"center\">The Lord isn't asking us to load up a handcart; He's asking us to fortify our faith.</p>\n",
      "<p align=\"center\">- Elder M. Russell Ballard</p>\n",
      "<hr />\n",
      "<h1 align=\"center\">Announcements</h1>\n",
      "<p align=\"center\">The sister missionaries have a new phone number: 346-901-8717</p>\n",
      "<p align=\"center\">The Houston Texas South Mission seeks senior couples to work in the office</p>\n",
      "<p align=\"center\">Volley Ball Wednesdays - Come join us on Wednesdays at 9PM and have fun!!!</p>\n",
      "<p align=\"center\">Send announcements to bvl2clerk@gmail.com</p>\n",
      "<hr />\n",
      "<h1 align=\"center\">Calendar Items</h1>\n",
      "<p align=\"center\">May 5th - HSS World Wide Devotional Broadcast for Young Adults at 7PM</p>\n",
      "<p align=\"center\">May 10th thru May 17th - Deseret Industries Pod at Lexington and Sienna buildings</p>\n",
      "<p align=\"center\">May 18th - HSS Stake Conference Adult Session 7:00 PM Lexington Building</p>\n",
      "<p align=\"center\">May 19th - HSS Stake Conference General Session 10:00 AM Lexington and Sienna buildings</p>\n",
      "<p align=\"center\">May 19th - Houston South Stake Seminary Graduation 6:30PM Lexington Building</p>\n",
      "<p align=\"center\">July 10th - Astros Friends & Family Night 7PM at Minute Maid Park See link below</p>\n",
      "<p align=\"center\">Share this event with family, friends, neighbors, co-workers and of course your ministering families!</p>\n",
      "<p align=\"center\">This will be a great opportunity to INVITE others to join us for an evening of fun at the ballpark</p>\n",
      "<p align=\"center\">Jully 10th-13th - Houstont Stake Young Women Camp at Caney Creek</p>\n",
      "<hr />\n",
      "<h1 align=\"center\">Cleaning Assignments</h1>\n",
      "<p align=\"center\">May 04: Draney,  Buchanan,  Hettinger,  Morton,  Tracey</p>\n",
      "<p align=\"center\">May 11: Leavitt,  Chen,  Hintze,  Ozomah,  Seegmiller</p>\n",
      "<p align=\"center\">May 18: Powell,  Clements,  Horowitz,  Rellaford,  Wightman</p>\n",
      "<p align=\"center\">May 25: Kaye  Reynolds,  Debow,  Jeffery,  Rasmussen,  Winningham</p>\n",
      "<hr />\n",
      "<h1 align=\"center\">Houston South Stake Emergency Preparedness Corner</h1>\n",
      "<p align=\"center\">Emergency preparedness is the process of planning and preparing for potential hazards and disasters. Even though hurricane season for the Houston area is pretty much over, emergencies don't pay attention to the calendar.</p>\n",
      "<p align=\"center\">This spring is as good a time as any to increase your family's preparedness. If you don't have 72-hour kits packed for everyone in your household (even if it's just you), let this guide you in your Christmas shopping!</p>\n",
      "<p align=\"center\">If you're all prepared in that sense, now is a good time to wrap your outside faucets and do all else that you need to in order to be prepared for any upcoming freezes.</p>\n",
      "<p align=\"center\">There are countless lists and resources online to give guidance and practical information on emergency preparedness. Go ahead and get started!</p>\n",
      "<hr />\n",
      "<h1 align=\"center\">Links</h1>\n",
      "<p align=\"center\"><a href=\"https://mlb.tickets.com/schedule/?agency=MLB_MPV&amp;orgid=18#/sales_groups;salesGroupId=4940\" target=\"_blank\" rel=\"noreferrer noopener\">Astros Friends and Family Night Wednesday, July 10th @7pm.</a></p>\n",
      "<p align=\"center\"><a href=\"https://www.justserve.org/projects/fb13bfc5-ea5b-4c45-89dc-47acddb2e80f\" target=\"_blank\" rel=\"noreferrer noopener\">We need 30+ individuals for Jones Dickson Cemetery: The African American Heritage Project to help pick up trash, mow the grass, weed-eat, saw small branches, clear brush, and more. Please bring gloves and appropriate yard implements if you have them.</a></p>\n",
      "<p align=\"center\"><a href=\"https://docs.google.com/forms/d/1cVhEINFFESai0MLbgBA8euTyiMQsM8R1Sur_EQsyUrw/edit?usp=drive_web\" target=\"_blank\" rel=\"noreferrer noopener\">Let the missionaries know when you are available to help teach</a></p>\n",
      "<p align=\"center\"><a href=\"https://sugar-land-2nd-ward-programs.github.io/TempleandFamilyHistoryGettingStarted.html\" target=\"_blank\" rel=\"noreferrer noopener\">Get started with Temple and Family History work</a></p>\n",
      "<p align=\"center\"><a href=\"https://www.houstonhealth.org/services/clinical/see-to-succeed\" target=\"_blank\" rel=\"noreferrer noopener\">See to Succeed a Houston South Stake service project</a></p>\n",
      "<p align=\"center\"><a href=\"https://www.signupgenius.com/go/10c0e4baca82ea7fb6-dinner2\" target=\"_blank\" rel=\"noreferrer noopener\">Sign up to feed the missionaries</a></p>\n",
      "<p align=\"center\"><a href=\"https://www.signupgenius.com/go/10c0e4baca82ea7fb6-helping4#\" target=\"_blank\" rel=\"noreferrer noopener\">Sign up to prepare a meal with Fort Bend Family Promise</a></p>\n",
      "<p align=\"center\"><a href=\"https://secondmile.org\" target=\"_blank\" rel=\"noreferrer noopener\">Help at secondmile.org</a></p>\n",
      "<hr />\n",
      "<small align=\"center\">Edited May 04, 2024 by Pete Slater and Andy Chen</small>\n",
      "</body>\n",
      "</html>\n"
     ]
    },
    {
     "data": {
      "text/plain": [
       "'\\nEnd of script\\n'"
      ]
     },
     "execution_count": 56,
     "metadata": {},
     "output_type": "execute_result"
    }
   ],
   "source": [
    "print (page)# -*- coding: utf-8 -*\n",
    "\n",
    "original_stdout = sys.stdout\n",
    "with open('Index.html', 'w') as f:\n",
    "    sys.stdout = f # Change the standard output to the file we created.\n",
    "    print(page)\n",
    "    sys.stdout = original_stdout # Reset the standard output to its original value\n",
    "\"\"\"\n",
    "End of script\n",
    "\"\"\""
   ]
  },
  {
   "cell_type": "code",
   "execution_count": 57,
   "id": "af7c5d55",
   "metadata": {},
   "outputs": [
    {
     "data": {
      "text/plain": [
       "'Fast and Testimony Meeting'"
      ]
     },
     "execution_count": 57,
     "metadata": {},
     "output_type": "execute_result"
    }
   ],
   "source": [
    "meeting"
   ]
  }
 ],
 "metadata": {
  "kernelspec": {
   "display_name": "Python 3 (ipykernel)",
   "language": "python",
   "name": "python3"
  },
  "language_info": {
   "codemirror_mode": {
    "name": "ipython",
    "version": 3
   },
   "file_extension": ".py",
   "mimetype": "text/x-python",
   "name": "python",
   "nbconvert_exporter": "python",
   "pygments_lexer": "ipython3",
   "version": "3.9.12"
  }
 },
 "nbformat": 4,
 "nbformat_minor": 5
}
