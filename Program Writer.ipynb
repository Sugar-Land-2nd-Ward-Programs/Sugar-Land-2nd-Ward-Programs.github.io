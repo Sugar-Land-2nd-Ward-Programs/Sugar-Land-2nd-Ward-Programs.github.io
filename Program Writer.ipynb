{
 "cells": [
  {
   "cell_type": "markdown",
   "id": "81f29a21",
   "metadata": {},
   "source": [
    "# Template for Creating Sacrament Meeting Programs\n",
    "\n",
    "## Uses MarkupPy to generate the HTML"
   ]
  },
  {
   "cell_type": "code",
   "execution_count": 1,
   "id": "aa66d71d",
   "metadata": {},
   "outputs": [],
   "source": [
    "#\n",
    "# Sugar Land 2nd Ward HTML Program Writer\n",
    "#\n",
    "# Pete Slater\n",
    "# June 2022\n",
    "\n",
    "import hymndict # Titles and links to hymns\n",
    "import htmlpy # Local copy of source code\n",
    "from htmlpy import oneliner as e\n",
    "import artlinks # Links to artwork\n",
    "import sys\n",
    "import datetime as dt"
   ]
  },
  {
   "cell_type": "markdown",
   "id": "77d10844",
   "metadata": {},
   "source": [
    "# Customized functions to create the HTML for standard agenda items"
   ]
  },
  {
   "cell_type": "code",
   "execution_count": 2,
   "id": "49433c25",
   "metadata": {},
   "outputs": [],
   "source": [
    "'''\n",
    "Define functions for formatting each of the items that can appear in a program.\n",
    "Build the program in the main script by calling the functions.\n",
    "\n",
    "'''\n",
    "def officer(role, officer, page):\n",
    "    page.p(e.b(role+\":\")+\" \"+officer,align=\"center\")\n",
    "\n",
    "def pagetitle(unit, meeting, meetdate,page):\n",
    "    page.h1(unit, align=\"center\")\n",
    "    page.h2(meeting, align=\"center\")\n",
    "    page.h2(meetdate, align=\"center\")\n",
    "\n",
    "def speaker(name, page):\n",
    "    page.h2(\"Speaker\", align=\"center\")\n",
    "    page.p(name,align=\"center\")\n",
    "    \n",
    "def testimonies(page):\n",
    "    page.h2(\"Bearing of Testimonies\", align=\"center\")\n",
    "\n",
    "def music(number, description, page):\n",
    "    page.h2(description,align=\"center\")\n",
    "    [hymntitle, hymnurl] = hymndict.hymns[number]\n",
    "    page.p(e.a(\"#\" + str(number)+\", \"+hymntitle, href=hymnurl),align=\"center\")\n",
    "    \n",
    "def specialmusic(performers,page,title=None,accompanist=None):\n",
    "    page.h2(\"Special Musical Number\",align=\"center\")\n",
    "    if title != None:\n",
    "        page.p(e.i(title),align=\"center\")\n",
    "    page.p(performers,align=\"center\")\n",
    "    if accompanist != None:\n",
    "        page.p(\"Acc. by \" + accompanist, align=\"center\")\n",
    "        \n",
    "def thought(text, author, page):\n",
    "    page.hr()\n",
    "    page.p(text, align=\"center\")\n",
    "    page.p(\"- \"+author,align=\"center\")\n",
    " \n",
    "# Announcements are passed as a list of text strings\n",
    "def announcements(textlist,page):\n",
    "    page.hr()\n",
    "    page.h1(\"Announcements\", align=\"center\")\n",
    "    for txt in textlist:\n",
    "        page.p(txt,align=\"center\")\n",
    "\n",
    "# Custom section for Preparedness Corner, etc.\n",
    "def custom(title, txtlist, linklist, page):\n",
    "    page.hr()\n",
    "    page.h1(title, align=\"center\")\n",
    "    if txtlist != None:\n",
    "        for txt in txtlist:\n",
    "            page.p(txt,align=\"center\")\n",
    "    if linklist != None:\n",
    "        for link in linklist:\n",
    "            page.p(e.a(link[0], href=link[1], target=\"_blank\", rel=\"noreferrer noopener\"),align=\"center\")\n",
    "        \n",
    "# Place some links, passed as a list containing text and url\n",
    "def links(linklist, page):\n",
    "    page.hr()\n",
    "    page.h1(\"Links\", align=\"center\")\n",
    "    for link in linklist:\n",
    "        page.p(e.a(link[0], href=link[1], target=\"_blank\", rel=\"noreferrer noopener\"),align=\"center\")\n",
    "        \n",
    "# Print credits at the bottom of the page\n",
    "def credit(editor, page):\n",
    "#'''Print credits and datestamp ''' \n",
    "    today = dt.date.today()\n",
    "    page.hr()\n",
    "    text = today.strftime(\"Edited %B %d, %Y by \") + editor\n",
    "    page.small(text,align=\"center\")        \n",
    "    "
   ]
  },
  {
   "cell_type": "markdown",
   "id": "d49f71d2",
   "metadata": {},
   "source": [
    "# Format the agenda items that are always present\n",
    "Customize for each week with date and type of meeting, i.e. sacrament, fast and testimony, ward conference"
   ]
  },
  {
   "cell_type": "code",
   "execution_count": 3,
   "id": "1d48a03c",
   "metadata": {},
   "outputs": [],
   "source": [
    "Title = \"Sugar Land Second Ward\"\n",
    "#header = \"Sacrament Meeting\"\n",
    "header = \"Fast and Testimony Meeting\"\n",
    "footer = \"\"\n",
    "styles = ( 'layout.css', 'alt.css', 'images.css' )\n",
    "\n",
    "page = htmlpy.page( )\n",
    "page.init()\n",
    "page.br( )\n",
    " \n",
    "# Make sure it will look good on all devices\n",
    "page.meta(name=\"viewport\", content=\"width=device-width, initial-scale=1.0\")\n",
    "\n",
    "# Define the elements on the current week's programs here\n",
    "\n",
    "pagetitle(\"Sugar Land 2nd Ward\", \"Fast and Testimony Meeting\", \"February 5th, 2023\", page)"
   ]
  },
  {
   "cell_type": "markdown",
   "id": "f4ed3987",
   "metadata": {},
   "source": [
    "## Artwork\n",
    "Pick an artwork from the defined list of links in artlinks.py and enter the number here"
   ]
  },
  {
   "cell_type": "code",
   "execution_count": 4,
   "id": "5eca8859",
   "metadata": {},
   "outputs": [],
   "source": [
    "# Place an artwork from the imported dictionary of links\n",
    "#page.p(e.img(width=299, height=300*0.8, src=artlinks.art[2]), align=\"center\")\n",
    "page.p(e.img(style=\"max-width:50%;height:auto;\", src=artlinks.art[2]), align=\"center\")"
   ]
  },
  {
   "cell_type": "markdown",
   "id": "5a299af0",
   "metadata": {},
   "source": [
    "## Officers"
   ]
  },
  {
   "cell_type": "code",
   "execution_count": 5,
   "id": "4b61ed5a",
   "metadata": {},
   "outputs": [],
   "source": [
    "officer(\"Presiding\",\"Bishop Joey Powell\", page)\n",
    "#officer(\"Conducting\",\"Bishop Joey Powell\", page)\n",
    "officer(\"Conducting\",\"Brother Dale Crosby\", page)\n",
    "#officer(\"Conducting\",\"Brother Jared Draney\", page)"
   ]
  },
  {
   "cell_type": "markdown",
   "id": "88a662c8",
   "metadata": {},
   "source": [
    "## Opening and sacrament hymns"
   ]
  },
  {
   "cell_type": "code",
   "execution_count": 6,
   "id": "4883fb5d",
   "metadata": {},
   "outputs": [],
   "source": [
    "music(98,\"Opening Hymn\",page)\n",
    "music(195,\"Sacrament Hymn\", page) "
   ]
  },
  {
   "cell_type": "markdown",
   "id": "b9aa0b92",
   "metadata": {},
   "source": [
    "## Variable part of the program"
   ]
  },
  {
   "cell_type": "markdown",
   "id": "5c036916",
   "metadata": {},
   "source": [
    "### If it's fast and testimony meeting, uncomment this section and comment out the sacrament meeting items"
   ]
  },
  {
   "cell_type": "code",
   "execution_count": 7,
   "id": "7d5e22dd",
   "metadata": {},
   "outputs": [],
   "source": [
    "# Uncomment this line for fast and testimony meeting\n",
    "testimonies(page)"
   ]
  },
  {
   "cell_type": "markdown",
   "id": "acc7f590",
   "metadata": {},
   "source": [
    "### For a sacrament meeting or ward conference, comment out the testimonies and use these sections as needed"
   ]
  },
  {
   "cell_type": "code",
   "execution_count": 8,
   "id": "0362fecd",
   "metadata": {},
   "outputs": [],
   "source": [
    "# Use lines like these to form the speaking part of the program\n",
    "\n",
    "#speaker(\"Gladis Martin\", page)\n",
    "#speaker(\"Carrie Leavitt\", page)\n",
    "\n",
    "# Special code for the Primary and Christmas Programs\n",
    "#txtlist = (\n",
    "#    'Words and Music Celebrating the Birth of Jesus Christ',\n",
    "#    'Program under the direction of Mindy Draney',\n",
    "#    'Program written by Becky Slater',\n",
    "#    'Congregation to join in singing when directed.'\n",
    "#    )\n",
    "#linklist = None\n",
    "\n",
    "#custom(\"Primary Program\", txtlist,linklist, page)\n",
    "\n",
    "#music(85,\"Intermediate Hymn\",page)\n",
    "#specialmusic(\"Schuyler and Kaylee Robinson\",page, title=\"What Child Is This?\",accompanist = \"Dallin Arnold\")\n",
    "\n",
    "#speaker(\"Chris Martin\", page)\n",
    "#speaker(\"Ben Powell\", page)"
   ]
  },
  {
   "cell_type": "markdown",
   "id": "aa869bd8",
   "metadata": {},
   "source": [
    "### Closing hymn"
   ]
  },
  {
   "cell_type": "code",
   "execution_count": 9,
   "id": "fb6df9fc",
   "metadata": {},
   "outputs": [],
   "source": [
    "music(304,\"Closing Hymn\",page)"
   ]
  },
  {
   "cell_type": "markdown",
   "id": "c6564ff0",
   "metadata": {},
   "source": [
    "## End matter - thought, announcements, links"
   ]
  },
  {
   "cell_type": "code",
   "execution_count": 10,
   "id": "6969936f",
   "metadata": {},
   "outputs": [
    {
     "ename": "SyntaxError",
     "evalue": "EOL while scanning string literal (2538989359.py, line 9)",
     "output_type": "error",
     "traceback": [
      "\u001b[1;36m  Input \u001b[1;32mIn [10]\u001b[1;36m\u001b[0m\n\u001b[1;33m    \"FEBRUARY 11 - African American Heritage Project: Jones Dickson Cemetery 8:30 - 11:00 AM,\u001b[0m\n\u001b[1;37m                                                                                             ^\u001b[0m\n\u001b[1;31mSyntaxError\u001b[0m\u001b[1;31m:\u001b[0m EOL while scanning string literal\n"
     ]
    }
   ],
   "source": [
    "# Spiritual thought\n",
    "quote = ('Perhaps you have already fallen short of the goals and resolutions you set for the new year. Please remember, you do not need to wait until January 1, 2024, to try again. Because of Jesus Christ, you can start again today and every day.')\n",
    "author = 'David A Bednar'\n",
    "thought(quote, author, page)\n",
    "\n",
    "# Make a list of announcements, then post to the page\n",
    "txtlist = (\n",
    "        \"All Sunday meetings and classes should begin with prayers.\",\n",
    "        \"FEBRUARY 11 - African American Heritage Project: Jones Dickson Cemetery 8:30 - 11:00 AM\",\n",
    "        \"FEBRUARY 11th - 18thDeseret Industries PODS @ Lexington and Sienna Buildings\",\n",
    "        \"FEBRUARY 18 - African American Heritage Project: Jones Dickson Cemetery 8:30 - 11:00 AM\",\n",
    "        \"FEBRUARY 18 -  Stake YM Volleyball Clinics Begin 2:00 PM -4:00 PM @ Lexington Building\",\n",
    "        \"FEBRUARY 18 -  Single Adult Valentine's Dance 7:30 PM -10:30 PM @ Houston West Road Building\",\n",
    "        \"FEBRUARY 19 -  Self Reliance Emotional Resilience and Personal Finances classes begin\",\n",
    "        \"FEBRUARY 24 -  Stake Youth Latin Dance Class\",\n",
    "        \"FEBRUARY 25 - Multi-Stake Youth Dance 7:30-10:30 PM @ Friendswood\",\n",
    "        \"FEBRUARY 26 - Stake New Member Missionary Fireside 6:00 PM @ Lexington\",\n",
    "        \"MARCH 2nd-4th - RootsTech Family History Conf. @online\",\n",
    "        \"MARCH 25th - Stake Primary Day Camp @ Lexington\",       \n",
    "        \"Send announcements to bvl2clerk@gmail.com\"\n",
    "           )\n",
    "announcements(txtlist, page)"
   ]
  },
  {
   "cell_type": "markdown",
   "id": "9d58209b",
   "metadata": {},
   "source": [
    "### Preparedness Corner - under development"
   ]
  },
  {
   "cell_type": "code",
   "execution_count": null,
   "id": "84a5da3e",
   "metadata": {},
   "outputs": [],
   "source": [
    "#txtlist = (\n",
    "#    'Make sure you have water: one gallon per person per day. A family of four would need 12 gallons for 3 days.',\n",
    "#    ' '\n",
    "#    )\n",
    "#linklist = {\n",
    "#    (\"Learn more online\",\"https://www.churchofjesuschrist.org/study/manual/gospel-topics/food-storage?lang=eng\")\n",
    "#}\n",
    "#custom(\"Preparedness Corner\", txtlist,linklist, page)"
   ]
  },
  {
   "cell_type": "code",
   "execution_count": null,
   "id": "50d50bc2",
   "metadata": {},
   "outputs": [],
   "source": [
    "# Make a list of links, then post\n",
    "linklist = (\n",
    "        (\"Sign up to feed the missionaries\",\"https://www.signupgenius.com/go/10c0e4baca82ea7fb6-dinner2\"),\n",
    "        (\"Sign up to prepare a meal with Fort Bend Family Promise\",\"https://www.signupgenius.com/go/10c0e4baca82ea7fb6-helping4#\"),\n",
    "        (\"Help at secondmile.org\",\"https://secondmile.org\"), \n",
    "        )\n",
    "links(linklist, page)\n",
    "credit(\"Pete Slater and Andy Chen\", page)"
   ]
  },
  {
   "cell_type": "markdown",
   "id": "ea336a25",
   "metadata": {},
   "source": [
    "# Write out the file to Index.html, which must be posted online"
   ]
  },
  {
   "cell_type": "code",
   "execution_count": null,
   "id": "3e60260a",
   "metadata": {},
   "outputs": [],
   "source": [
    "print (page)# -*- coding: utf-8 -*\n",
    "\n",
    "original_stdout = sys.stdout\n",
    "with open('Index.html', 'w') as f:\n",
    "    sys.stdout = f # Change the standard output to the file we created.\n",
    "    print(page)\n",
    "    sys.stdout = original_stdout # Reset the standard output to its original value\n",
    "\"\"\"\n",
    "End of script\n",
    "\"\"\""
   ]
  },
  {
   "cell_type": "code",
   "execution_count": null,
   "id": "ead46242",
   "metadata": {},
   "outputs": [],
   "source": []
  },
  {
   "cell_type": "code",
   "execution_count": null,
   "id": "e8efc2f7",
   "metadata": {},
   "outputs": [],
   "source": []
  },
  {
   "cell_type": "code",
   "execution_count": null,
   "id": "1c2a4336",
   "metadata": {},
   "outputs": [],
   "source": []
  },
  {
   "cell_type": "code",
   "execution_count": null,
   "id": "cd235ba4",
   "metadata": {},
   "outputs": [],
   "source": []
  },
  {
   "cell_type": "code",
   "execution_count": null,
   "id": "fd024a37",
   "metadata": {},
   "outputs": [],
   "source": []
  }
 ],
 "metadata": {
  "kernelspec": {
   "display_name": "Python 3 (ipykernel)",
   "language": "python",
   "name": "python3"
  },
  "language_info": {
   "codemirror_mode": {
    "name": "ipython",
    "version": 3
   },
   "file_extension": ".py",
   "mimetype": "text/x-python",
   "name": "python",
   "nbconvert_exporter": "python",
   "pygments_lexer": "ipython3",
   "version": "3.9.12"
  }
 },
 "nbformat": 4,
 "nbformat_minor": 5
}
