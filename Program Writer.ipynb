{
 "cells": [
  {
   "cell_type": "markdown",
   "id": "81f29a21",
   "metadata": {},
   "source": [
    "# Template for Creating Sacrament Meeting Programs\n",
    "\n",
    "## Uses MarkupPy to generate the HTML"
   ]
  },
  {
   "cell_type": "code",
   "execution_count": 141,
   "id": "aa66d71d",
   "metadata": {},
   "outputs": [],
   "source": [
    "#\n",
    "# Sugar Land 2nd Ward HTML Program Writer\n",
    "#\n",
    "# Pete Slater\n",
    "# June 2022\n",
    "\n",
    "import hymndict # Titles and links to hymns\n",
    "import htmlpy # Local copy of source code\n",
    "from htmlpy import oneliner as e\n",
    "import artlinks # Links to artwork\n",
    "import sys\n",
    "import datetime as dt"
   ]
  },
  {
   "cell_type": "markdown",
   "id": "77d10844",
   "metadata": {},
   "source": [
    "# Customized functions to create the HTML for standard agenda items"
   ]
  },
  {
   "cell_type": "code",
   "execution_count": 142,
   "id": "49433c25",
   "metadata": {},
   "outputs": [],
   "source": [
    "'''\n",
    "Define functions for formatting each of the items that can appear in a program.\n",
    "Build the program in the main script by calling the functions.\n",
    "\n",
    "'''\n",
    "def officer(role, officer, page):\n",
    "    page.p(e.b(role+\":\")+\" \"+officer,align=\"center\")\n",
    "\n",
    "def pagetitle(unit, meeting, meetdate,page):\n",
    "    page.h1(unit, align=\"center\")\n",
    "    page.h2(meeting, align=\"center\")\n",
    "    page.h2(meetdate, align=\"center\")\n",
    "\n",
    "def speaker(name, page):\n",
    "    page.h2(\"Speaker\", align=\"center\")\n",
    "    page.p(name,align=\"center\")\n",
    "    \n",
    "def testimonies(page):\n",
    "    page.h2(\"Bearing of Testimonies\", align=\"center\")\n",
    "\n",
    "def music(number, description, page):\n",
    "    page.h2(description,align=\"center\")\n",
    "    [hymntitle, hymnurl] = hymndict.hymns[number]\n",
    "    page.p(e.a(\"#\" + str(number)+\", \"+hymntitle, href=hymnurl),align=\"center\")\n",
    "    \n",
    "def specialmusic(performers,page,title=None,accompanist=None):\n",
    "    page.h2(\"Special Musical Number\",align=\"center\")\n",
    "    if title != None:\n",
    "        page.p(e.i(title),align=\"center\")\n",
    "    page.p(performers,align=\"center\")\n",
    "    if accompanist != None:\n",
    "        page.p(\"Acc. by \" + accompanist, align=\"center\")\n",
    "        \n",
    "def thought(text, author, page):\n",
    "    page.hr()\n",
    "    page.p(text, align=\"center\")\n",
    "    page.p(\"- \"+author,align=\"center\")\n",
    " \n",
    "# Announcements are passed as a list of text strings\n",
    "def announcements(textlist,page):\n",
    "    page.hr()\n",
    "    page.h1(\"Announcements\", align=\"center\")\n",
    "    for txt in textlist:\n",
    "        page.p(txt,align=\"center\")\n",
    "\n",
    "# Custom section for Preparedness Corner, etc.\n",
    "def custom(title, txtlist, linklist, page):\n",
    "    page.hr()\n",
    "    page.h1(title, align=\"center\")\n",
    "    if txtlist != None:\n",
    "        for txt in txtlist:\n",
    "            page.p(txt,align=\"center\")\n",
    "    if linklist != None:\n",
    "        for link in linklist:\n",
    "            page.p(e.a(link[0], href=link[1], target=\"_blank\", rel=\"noreferrer noopener\"),align=\"center\")\n",
    "        \n",
    "# Place some links, passed as a list containing text and url\n",
    "def links(linklist, page):\n",
    "    page.hr()\n",
    "    page.h1(\"Links\", align=\"center\")\n",
    "    for link in linklist:\n",
    "        page.p(e.a(link[0], href=link[1], target=\"_blank\", rel=\"noreferrer noopener\"),align=\"center\")\n",
    "        \n",
    "# Print credits at the bottom of the page\n",
    "def credit(editor, page):\n",
    "#'''Print credits and datestamp ''' \n",
    "    today = dt.date.today()\n",
    "    page.hr()\n",
    "    text = today.strftime(\"Edited %B %d, %Y by \") + editor\n",
    "    page.small(text,align=\"center\")        \n",
    "    "
   ]
  },
  {
   "cell_type": "markdown",
   "id": "3925b3d1",
   "metadata": {},
   "source": [
    "## Functions for the cleaning calendar"
   ]
  },
  {
   "cell_type": "code",
   "execution_count": 143,
   "id": "72930085",
   "metadata": {},
   "outputs": [],
   "source": [
    "def nextsunday(n):\n",
    "#\"\"\" Return next n Sundays, including today if it's Sunday\"\"\"\n",
    " today = dt.date.today()\n",
    " daynum = today.weekday() # Sunday is day #6\n",
    "\n",
    " if daynum == 6:\n",
    "  basedate = today \n",
    " else:\n",
    "  basedate = today + dt.timedelta(6-daynum)\n",
    "    \n",
    " sundays = []\n",
    " for i in range(n):\n",
    "  nxtSunday = basedate + dt.timedelta(i*7)\n",
    "  sundays.append(nxtSunday.strftime(\"%B %d, %Y\"))\n",
    " return sundays\n",
    "\n",
    "def nextsaturday(n):\n",
    "#\"\"\" Return next n Saturdays, including today if it's Saturday\"\"\"\n",
    " today = dt.date.today()\n",
    " daynum = today.weekday() # Saturday is day #5\n",
    "\n",
    " if daynum == 5:\n",
    "  basedate = today \n",
    " else:\n",
    "  basedate = today + dt.timedelta(5-daynum)\n",
    "    \n",
    " saturdays = []\n",
    " for i in range(n):\n",
    "  nxtSaturday = basedate + dt.timedelta(i*7)\n",
    "  saturdays.append(nxtSaturday.strftime(\"%B %d\"))\n",
    " return saturdays"
   ]
  },
  {
   "cell_type": "code",
   "execution_count": 144,
   "id": "2360f35d",
   "metadata": {},
   "outputs": [],
   "source": [
    "roster = {\n",
    "    \"June 24\" : \"Sugar Land 1st\",\n",
    "    \"July 01\" : \"Bradford, Arnold, Emerson, Markwalter\",\n",
    "    \"July 08\" : \"Clark, Lambert, Blackburn, Ganci, Martin, Robinson\",\n",
    "    \"July 15\" : \"Crandall, Blanco, Garcia, Moline, Thibault\",\n",
    "    \"July 22\" : \"Crosby, Boyer, Griffin, Mike & Dawnette Moore, MacKinnon\",\n",
    "    \"July 29\" : \"Maplewood 3rd Branch\",\n",
    "    \"August 05\" : \"Draney, Buchanan, Hettinger, Morton, Tracey\",\n",
    "    \"August 12\" : \"Leavitt, Chen, Hintze, Ozomah, Seegmiller\",\n",
    "    \"August 19\" : \"Powell, Clements, Horowitz, Quam, Wightman\",\n",
    "    \"August 26\" : \"Kaye Reynolds, Debow, Jeffery, Rasmussen, Winningham\",\n",
    "    \"September 02\" : \"Roskelley, Ekstrom, Ocampo, Juarez, Jason & Deann Moore, Slater\"\n",
    "}"
   ]
  },
  {
   "cell_type": "markdown",
   "id": "d49f71d2",
   "metadata": {},
   "source": [
    "# Format the agenda items that are always present\n",
    "Customize for each week with date and type of meeting, i.e. sacrament, fast and testimony, ward conference"
   ]
  },
  {
   "cell_type": "code",
   "execution_count": 145,
   "id": "1d48a03c",
   "metadata": {},
   "outputs": [],
   "source": [
    "Title = \"Sugar Land Second Ward\"\n",
    "Title = \"Houston Texas South Stake\"\n",
    "header = \"Sacrament Meeting\"\n",
    "#header = \"Fast and Testimony Meeting\"\n",
    "#header = \"Stake Conference\"\n",
    "footer = \"\"\n",
    "styles = ( 'layout.css', 'alt.css', 'images.css' )\n",
    "\n",
    "page = htmlpy.page( )\n",
    "page.init()\n",
    "page.br( )\n",
    " \n",
    "# Make sure it will look good on all devices\n",
    "page.meta(name=\"viewport\", content=\"width=device-width, initial-scale=1.0\")\n",
    "\n",
    "# Define the elements on the current week's programs here\n",
    "\n",
    "pagetitle(\"Sugar Land Second Ward\", \"Sacrament Meeting\", \"July 9th, 2023\", page)"
   ]
  },
  {
   "cell_type": "markdown",
   "id": "f4ed3987",
   "metadata": {},
   "source": [
    "## Artwork\n",
    "Pick an artwork from the defined list of links in artlinks.py and enter the number here"
   ]
  },
  {
   "cell_type": "code",
   "execution_count": 146,
   "id": "5eca8859",
   "metadata": {},
   "outputs": [],
   "source": [
    "# Place an artwork from the imported dictionary of links\n",
    "#page.p(e.img(width=299, height=300*0.8, src=artlinks.art[2]), align=\"center\")\n",
    "page.p(e.img(style=\"max-width:50%;height:auto;\", src=artlinks.art[6]), align=\"center\")"
   ]
  },
  {
   "cell_type": "markdown",
   "id": "5a299af0",
   "metadata": {},
   "source": [
    "## Officers"
   ]
  },
  {
   "cell_type": "code",
   "execution_count": 147,
   "id": "4b61ed5a",
   "metadata": {},
   "outputs": [],
   "source": [
    "officer(\"Presiding\",\"Bishop Joey Powell\", page)\n",
    "officer(\"Conducting\",\"Bishop Joey Powell\", page)\n",
    "#officer(\"Presiding\",\"Brother Dale Crosby\", page)\n",
    "#officer(\"Conducting\",\"Brother Dale Crosby\", page)\n",
    "#officer(\"Conducting\",\"Brother Jared Draney\", page)"
   ]
  },
  {
   "cell_type": "markdown",
   "id": "88a662c8",
   "metadata": {},
   "source": [
    "## Opening and sacrament hymns"
   ]
  },
  {
   "cell_type": "code",
   "execution_count": 148,
   "id": "4883fb5d",
   "metadata": {},
   "outputs": [],
   "source": [
    "music(140,\"Opening Hymn\",page)\n",
    "music(192,\"Sacrament Hymn\", page) "
   ]
  },
  {
   "cell_type": "markdown",
   "id": "b9aa0b92",
   "metadata": {},
   "source": [
    "## Variable part of the program"
   ]
  },
  {
   "cell_type": "markdown",
   "id": "5c036916",
   "metadata": {},
   "source": [
    "### If it's fast and testimony meeting, uncomment this section and comment out the sacrament meeting items"
   ]
  },
  {
   "cell_type": "code",
   "execution_count": 149,
   "id": "7d5e22dd",
   "metadata": {},
   "outputs": [],
   "source": [
    "# Uncomment this line for fast and testimony meeting\n",
    "#testimonies(page)"
   ]
  },
  {
   "cell_type": "markdown",
   "id": "acc7f590",
   "metadata": {},
   "source": [
    "### For a sacrament meeting or ward conference, comment out the testimonies and use these sections as needed"
   ]
  },
  {
   "cell_type": "code",
   "execution_count": 150,
   "id": "0362fecd",
   "metadata": {},
   "outputs": [],
   "source": [
    "# Use lines like these to form the speaking part of the program\n",
    "\n",
    "# Special code for the Primary and Christmas Programs\n",
    "#txtlist = (\n",
    "#    'Words and Music Celebrating the Birth of Jesus Christ',\n",
    "#    'Program under the direction of Mindy Draney',\n",
    "#    'Program written by Becky Slater',\n",
    "#    'Congregation to join in singing when directed.'\n",
    "#    )\n",
    "#linklist = None\n",
    "\n",
    "#custom(\"Primary Program\", txtlist,linklist, page)\n",
    "#specialmusic(\"Primary Children\",page, title=\"Fathers\")\n",
    "#specialmusic(\"Primary Children\",page, title=\"Daddy's Homecoming\")\n",
    "\n",
    "speaker(\"Speaker 1\", page)\n",
    "\n",
    "#music(98,\"Rest Hymn\",page)\n",
    "#specialmusic(\"Elder Caleb Short and Brother Jared Draney\",page, title= \"Joseph Smith's First Prayer\")\n",
    "#specialmusic(\"Walk-Up Choir\",page, title=\"Christ The Lord is Risen Today\")\n",
    "\n",
    "speaker(\"Speaker 2\", page)\n"
   ]
  },
  {
   "cell_type": "markdown",
   "id": "aa869bd8",
   "metadata": {},
   "source": [
    "### Closing hymn"
   ]
  },
  {
   "cell_type": "code",
   "execution_count": 151,
   "id": "fb6df9fc",
   "metadata": {
    "scrolled": true
   },
   "outputs": [
    {
     "ename": "KeyError",
     "evalue": "124",
     "output_type": "error",
     "traceback": [
      "\u001b[1;31m---------------------------------------------------------------------------\u001b[0m",
      "\u001b[1;31mKeyError\u001b[0m                                  Traceback (most recent call last)",
      "Input \u001b[1;32mIn [151]\u001b[0m, in \u001b[0;36m<cell line: 1>\u001b[1;34m()\u001b[0m\n\u001b[1;32m----> 1\u001b[0m \u001b[43mmusic\u001b[49m\u001b[43m(\u001b[49m\u001b[38;5;241;43m124\u001b[39;49m\u001b[43m,\u001b[49m\u001b[38;5;124;43m\"\u001b[39;49m\u001b[38;5;124;43mClosing Hymn\u001b[39;49m\u001b[38;5;124;43m\"\u001b[39;49m\u001b[43m,\u001b[49m\u001b[43mpage\u001b[49m\u001b[43m)\u001b[49m\n",
      "Input \u001b[1;32mIn [142]\u001b[0m, in \u001b[0;36mmusic\u001b[1;34m(number, description, page)\u001b[0m\n\u001b[0;32m     21\u001b[0m \u001b[38;5;28;01mdef\u001b[39;00m \u001b[38;5;21mmusic\u001b[39m(number, description, page):\n\u001b[0;32m     22\u001b[0m     page\u001b[38;5;241m.\u001b[39mh2(description,align\u001b[38;5;241m=\u001b[39m\u001b[38;5;124m\"\u001b[39m\u001b[38;5;124mcenter\u001b[39m\u001b[38;5;124m\"\u001b[39m)\n\u001b[1;32m---> 23\u001b[0m     [hymntitle, hymnurl] \u001b[38;5;241m=\u001b[39m \u001b[43mhymndict\u001b[49m\u001b[38;5;241;43m.\u001b[39;49m\u001b[43mhymns\u001b[49m\u001b[43m[\u001b[49m\u001b[43mnumber\u001b[49m\u001b[43m]\u001b[49m\n\u001b[0;32m     24\u001b[0m     page\u001b[38;5;241m.\u001b[39mp(e\u001b[38;5;241m.\u001b[39ma(\u001b[38;5;124m\"\u001b[39m\u001b[38;5;124m#\u001b[39m\u001b[38;5;124m\"\u001b[39m \u001b[38;5;241m+\u001b[39m \u001b[38;5;28mstr\u001b[39m(number)\u001b[38;5;241m+\u001b[39m\u001b[38;5;124m\"\u001b[39m\u001b[38;5;124m, \u001b[39m\u001b[38;5;124m\"\u001b[39m\u001b[38;5;241m+\u001b[39mhymntitle, href\u001b[38;5;241m=\u001b[39mhymnurl),align\u001b[38;5;241m=\u001b[39m\u001b[38;5;124m\"\u001b[39m\u001b[38;5;124mcenter\u001b[39m\u001b[38;5;124m\"\u001b[39m)\n",
      "\u001b[1;31mKeyError\u001b[0m: 124"
     ]
    }
   ],
   "source": [
    "music(124,\"Closing Hymn\",page)"
   ]
  },
  {
   "cell_type": "markdown",
   "id": "c6564ff0",
   "metadata": {},
   "source": [
    "## End matter - thought, announcements, links"
   ]
  },
  {
   "cell_type": "code",
   "execution_count": null,
   "id": "6969936f",
   "metadata": {},
   "outputs": [],
   "source": [
    "# Spiritual thought\n",
    "quote = ('No one of us is less treasured or cherished of God than another. I testify that He loves each of us insecurities, anxieties, self-image, and all.')\n",
    "author = 'Elder Jeffrey R. Holland Of the Quorum of the Twelve Apostles April 2002'\n",
    "thought(quote, author, page)\n",
    "\n",
    "# Make a list of announcements, then post to the page\n",
    "txtlist = (\n",
    "        \"Just Serve : Houston South Stake - Back to School Clothing and Supply Drive for Fort Bend ISD & Lamar CISD\",\n",
    "                        \"July 1st thru 30th Contact MeliaBoyer@justserve.org\",\n",
    "        \"July 8th, 2023 - Surfers & Bikers Regional Youth Dance at Lake Jackson 6:00 PM to 9:00 PM\",\n",
    "        \"July 22nd, 2023 - Single Adult Game Night @ Lexington Building 7:00 PM to 9:00 PM\",\n",
    "        \"July 23rd, 2023 - FSY Wrap-Up Fireside  @ Lexington Building 7:00 PM to 9:00 PM\",\n",
    "        \"Houston Texas South Stake : We are collecting information from those who may be interested in participating in one or both of the following choir opportunities:\",\n",
    "                        \"9/11 Day of Service and Remembrance Ceremony Community Choir at the Houston National Cemetery on Saturday, September 9\",\n",
    "        \"Send announcements to bvl2clerk@gmail.com\"\n",
    "           )\n",
    "announcements(txtlist, page)"
   ]
  },
  {
   "cell_type": "markdown",
   "id": "c89dda30",
   "metadata": {},
   "source": [
    "# Cleaning Assignments"
   ]
  },
  {
   "cell_type": "code",
   "execution_count": null,
   "id": "a23d69c3",
   "metadata": {},
   "outputs": [],
   "source": [
    "sats = nextsaturday(4)\n",
    "cleaninglist = []\n",
    "for sat in sats:\n",
    "    cleaninglist.append(sat + \": \" + roster[sat])\n",
    "custom(\"Cleaning Assignments\",cleaninglist, None, page)"
   ]
  },
  {
   "cell_type": "markdown",
   "id": "9d58209b",
   "metadata": {},
   "source": [
    "### Preparedness Corner - under development"
   ]
  },
  {
   "cell_type": "code",
   "execution_count": null,
   "id": "84a5da3e",
   "metadata": {},
   "outputs": [],
   "source": [
    "#txtlist = (\n",
    "#    'Make sure you have water: one gallon per person per day. A family of four would need 12 gallons for 3 days.',\n",
    "#    ' '\n",
    "#    )\n",
    "#linklist = {\n",
    "#    (\"Learn more online\",\"https://www.churchofjesuschrist.org/study/manual/gospel-topics/food-storage?lang=eng\")\n",
    "#}\n",
    "#custom(\"Preparedness Corner\", txtlist,linklist, page)"
   ]
  },
  {
   "cell_type": "code",
   "execution_count": null,
   "id": "50d50bc2",
   "metadata": {},
   "outputs": [],
   "source": [
    "# Make a list of links, then post\n",
    "linklist = (\n",
    "        (\"9/11 Day of Service and Remembrance Ceremony Community Choir at the Houston National Cemetery on Saturday, September 9\", \"https://docs.google.com/forms/d/e/1FAIpQLSd_FPE2TJCaNZ3Md3y5dTSKCmpAU7M5w6_tiLS_J28h5Ufq9Q/viewform\"),\n",
    "        (\"Sign up to feed the missionaries\",\"https://www.signupgenius.com/go/10c0e4baca82ea7fb6-dinner2\"),\n",
    "        (\"Sign up to prepare a meal with Fort Bend Family Promise\",\"https://www.signupgenius.com/go/10c0e4baca82ea7fb6-helping4#\"),\n",
    "        (\"Help at secondmile.org\",\"https://secondmile.org\"), \n",
    "        )\n",
    "links(linklist, page)\n",
    "credit(\"Pete Slater and Andy Chen\", page)"
   ]
  },
  {
   "cell_type": "markdown",
   "id": "ea336a25",
   "metadata": {},
   "source": [
    "# Write out the file to Index.html, which must be posted online"
   ]
  },
  {
   "cell_type": "code",
   "execution_count": null,
   "id": "3e60260a",
   "metadata": {},
   "outputs": [],
   "source": [
    "print (page)# -*- coding: utf-8 -*\n",
    "\n",
    "original_stdout = sys.stdout\n",
    "with open('Index.html', 'w') as f:\n",
    "    sys.stdout = f # Change the standard output to the file we created.\n",
    "    print(page)\n",
    "    sys.stdout = original_stdout # Reset the standard output to its original value\n",
    "\"\"\"\n",
    "End of script\n",
    "\"\"\""
   ]
  },
  {
   "cell_type": "code",
   "execution_count": null,
   "id": "ead46242",
   "metadata": {},
   "outputs": [],
   "source": []
  }
 ],
 "metadata": {
  "kernelspec": {
   "display_name": "Python 3 (ipykernel)",
   "language": "python",
   "name": "python3"
  },
  "language_info": {
   "codemirror_mode": {
    "name": "ipython",
    "version": 3
   },
   "file_extension": ".py",
   "mimetype": "text/x-python",
   "name": "python",
   "nbconvert_exporter": "python",
   "pygments_lexer": "ipython3",
   "version": "3.9.12"
  }
 },
 "nbformat": 4,
 "nbformat_minor": 5
}
