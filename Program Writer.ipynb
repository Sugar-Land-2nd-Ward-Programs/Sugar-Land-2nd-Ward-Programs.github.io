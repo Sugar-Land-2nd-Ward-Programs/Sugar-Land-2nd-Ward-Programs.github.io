{
 "cells": [
  {
   "cell_type": "markdown",
   "id": "81f29a21",
   "metadata": {},
   "source": [
    "# Template for Creating Sacrament Meeting Programs\n",
    "\n",
    "## Uses MarkupPy to generate the HTML"
   ]
  },
  {
   "cell_type": "code",
   "execution_count": 17,
   "id": "aa66d71d",
   "metadata": {},
   "outputs": [],
   "source": [
    "#\n",
    "# Sugar Land 2nd Ward HTML Program Writer\n",
    "#\n",
    "# Pete Slater\n",
    "# June 2022\n",
    "\n",
    "import hymndict # Titles and links to hymns\n",
    "import htmlpy # Local copy of source code\n",
    "from htmlpy import oneliner as e\n",
    "import artlinks # Links to artwork\n",
    "import sys\n",
    "import datetime as dt"
   ]
  },
  {
   "cell_type": "markdown",
   "id": "77d10844",
   "metadata": {},
   "source": [
    "# Customized functions to create the HTML for standard agenda items"
   ]
  },
  {
   "cell_type": "code",
   "execution_count": 18,
   "id": "49433c25",
   "metadata": {},
   "outputs": [],
   "source": [
    "'''\n",
    "Define functions for formatting each of the items that can appear in a program.\n",
    "Build the program in the main script by calling the functions.\n",
    "\n",
    "'''\n",
    "def officer(role, officer, page):\n",
    "    page.p(e.b(role+\":\")+\" \"+officer,align=\"center\")\n",
    "\n",
    "def pagetitle(unit, meeting, meetdate,page):\n",
    "    page.h1(unit, align=\"center\")\n",
    "    page.h2(meeting, align=\"center\")\n",
    "    page.h2(meetdate, align=\"center\")\n",
    "\n",
    "def speaker(name, page):\n",
    "    page.h2(\"Speaker\", align=\"center\")\n",
    "    page.p(name,align=\"center\")\n",
    "    \n",
    "def testimonies(page):\n",
    "    page.h2(\"Bearing of Testimonies\", align=\"center\")\n",
    "\n",
    "def music(number, description, page):\n",
    "    page.h2(description,align=\"center\")\n",
    "    [hymntitle, hymnurl] = hymndict.hymns[number]\n",
    "    page.p(e.a(\"#\" + str(number)+\", \"+hymntitle, href=hymnurl),align=\"center\")\n",
    "    \n",
    "def specialmusic(performers,page,title=None,accompanist=None):\n",
    "    page.h2(\"Special Musical Number\",align=\"center\")\n",
    "    if title != None:\n",
    "        page.p(e.i(title),align=\"center\")\n",
    "    page.p(performers,align=\"center\")\n",
    "    if accompanist != None:\n",
    "        page.p(\"Acc. by \" + accompanist, align=\"center\")\n",
    "        \n",
    "def thought(text, author, page):\n",
    "    page.hr()\n",
    "    page.p(text, align=\"center\")\n",
    "    page.p(\"- \"+author,align=\"center\")\n",
    " \n",
    "# Announcements are passed as a list of text strings\n",
    "def announcements(textlist,page):\n",
    "    page.hr()\n",
    "    page.h1(\"Announcements\", align=\"center\")\n",
    "    for txt in textlist:\n",
    "        page.p(txt,align=\"center\")\n",
    "\n",
    "# Custom section for Preparedness Corner, etc.\n",
    "def custom(title, txtlist, linklist, page):\n",
    "    page.hr()\n",
    "    page.h1(title, align=\"center\")\n",
    "    if txtlist != None:\n",
    "        for txt in txtlist:\n",
    "            page.p(txt,align=\"center\")\n",
    "    if linklist != None:\n",
    "        for link in linklist:\n",
    "            page.p(e.a(link[0], href=link[1], target=\"_blank\", rel=\"noreferrer noopener\"),align=\"center\")\n",
    "        \n",
    "# Place some links, passed as a list containing text and url\n",
    "def links(linklist, page):\n",
    "    page.hr()\n",
    "    page.h1(\"Links\", align=\"center\")\n",
    "    for link in linklist:\n",
    "        page.p(e.a(link[0], href=link[1], target=\"_blank\", rel=\"noreferrer noopener\"),align=\"center\")\n",
    "        \n",
    "# Print credits at the bottom of the page\n",
    "def credit(editor, page):\n",
    "#'''Print credits and datestamp ''' \n",
    "    today = dt.date.today()\n",
    "    page.hr()\n",
    "    text = today.strftime(\"Edited %B %d, %Y by \") + editor\n",
    "    page.small(text,align=\"center\")        \n",
    "    "
   ]
  },
  {
   "cell_type": "markdown",
   "id": "3925b3d1",
   "metadata": {},
   "source": [
    "## Functions for the cleaning calendar"
   ]
  },
  {
   "cell_type": "code",
   "execution_count": 19,
   "id": "72930085",
   "metadata": {},
   "outputs": [],
   "source": [
    "def nextsunday(n):\n",
    "#\"\"\" Return next n Sundays, including today if it's Sunday\"\"\"\n",
    " today = dt.date.today()\n",
    " daynum = today.weekday() # Sunday is day #6\n",
    "\n",
    " if daynum == 6:\n",
    "  basedate = today \n",
    " else:\n",
    "  basedate = today + dt.timedelta(6-daynum)\n",
    "    \n",
    " sundays = []\n",
    " for i in range(n):\n",
    "  nxtSunday = basedate + dt.timedelta(i*7)\n",
    "  sundays.append(nxtSunday.strftime(\"%B %d, %Y\"))\n",
    " return sundays\n",
    "\n",
    "def nextsaturday(n):\n",
    "#\"\"\" Return next n Saturdays, including today if it's Saturday\"\"\"\n",
    " today = dt.date.today()\n",
    " daynum = today.weekday() # Saturday is day #5\n",
    "\n",
    " if daynum == 5:\n",
    "  basedate = today \n",
    " else:\n",
    "  basedate = today + dt.timedelta(5-daynum)\n",
    "    \n",
    " saturdays = []\n",
    " for i in range(n):\n",
    "  nxtSaturday = basedate + dt.timedelta(i*7)\n",
    "  saturdays.append(nxtSaturday.strftime(\"%B %d\"))\n",
    " return saturdays"
   ]
  },
  {
   "cell_type": "code",
   "execution_count": 20,
   "id": "2360f35d",
   "metadata": {},
   "outputs": [],
   "source": [
    "roster = {\n",
    "    \"June 24\" : \"Sugar Land 1st\",\n",
    "    \"July 01\" : \"Bradford, Arnold, Emerson, Markwalter\",\n",
    "    \"July 08\" : \"Clark, Lambert, Blackburn, Ganci, Martin, Robinson\",\n",
    "    \"July 15\" : \"Crandall, Blanco, Garcia, Moline, Thibault\",\n",
    "    \"July 22\" : \"Crosby, Boyer, Griffin, Mike & Dawnette Moore, MacKinnon\",\n",
    "    \"July 29\" : \"Maplewood 3rd Branch\",\n",
    "    \"August 05\" : \"Draney, Buchanan, Hettinger, Morton, Tracey\",\n",
    "    \"August 12\" : \"Leavitt, Chen, Hintze, Ozomah, Seegmiller\",\n",
    "    \"August 19\" : \"Powell, Clements, Horowitz, Quam, Wightman\",\n",
    "    \"August 26\" : \"Kaye Reynolds, Debow, Jeffery, Rasmussen, Winningham\",\n",
    "    \"September 02\" : \"Roskelley, Ekstrom, Ocampo, Juarez, Jason & Deann Moore, Slater\"\n",
    "}"
   ]
  },
  {
   "cell_type": "markdown",
   "id": "d49f71d2",
   "metadata": {},
   "source": [
    "# Format the agenda items that are always present\n",
    "Customize for each week with date and type of meeting, i.e. sacrament, fast and testimony, ward conference"
   ]
  },
  {
   "cell_type": "code",
   "execution_count": 21,
   "id": "1d48a03c",
   "metadata": {},
   "outputs": [],
   "source": [
    "Title = \"Sugar Land Second Ward\"\n",
    "Title = \"Houston Texas South Stake\"\n",
    "header = \"Sacrament Meeting\"\n",
    "#header = \"Fast and Testimony Meeting\"\n",
    "#header = \"Stake Conference\"\n",
    "footer = \"\"\n",
    "styles = ( 'layout.css', 'alt.css', 'images.css' )\n",
    "\n",
    "page = htmlpy.page( )\n",
    "page.init()\n",
    "page.br( )\n",
    " \n",
    "# Make sure it will look good on all devices\n",
    "page.meta(name=\"viewport\", content=\"width=device-width, initial-scale=1.0\")\n",
    "\n",
    "# Define the elements on the current week's programs here\n",
    "\n",
    "pagetitle(\"Sugar Land Second Ward\", \"Sacrament Meeting\", \"July 23rd, 2023\", page)"
   ]
  },
  {
   "cell_type": "markdown",
   "id": "f4ed3987",
   "metadata": {},
   "source": [
    "## Artwork\n",
    "Pick an artwork from the defined list of links in artlinks.py and enter the number here"
   ]
  },
  {
   "cell_type": "code",
   "execution_count": 22,
   "id": "5eca8859",
   "metadata": {},
   "outputs": [],
   "source": [
    "# Place an artwork from the imported dictionary of links\n",
    "#page.p(e.img(width=299, height=300*0.8, src=artlinks.art[2]), align=\"center\")\n",
    "page.p(e.img(style=\"max-width:50%;height:auto;\", src=artlinks.art[7]), align=\"center\")"
   ]
  },
  {
   "cell_type": "markdown",
   "id": "5a299af0",
   "metadata": {},
   "source": [
    "## Officers"
   ]
  },
  {
   "cell_type": "code",
   "execution_count": 23,
   "id": "4b61ed5a",
   "metadata": {},
   "outputs": [],
   "source": [
    "officer(\"Presiding\",\"President Travis Bird\", page)\n",
    "#officer(\"Conducting\",\"Bishop Joey Powell\", page)\n",
    "#officer(\"Presiding\",\"Brother Dale Crosby\", page)\n",
    "#officer(\"Conducting\",\"Brother Dale Crosby\", page)\n",
    "officer(\"Conducting\",\"Brother Jared Draney\", page)"
   ]
  },
  {
   "cell_type": "markdown",
   "id": "88a662c8",
   "metadata": {},
   "source": [
    "## Opening and sacrament hymns"
   ]
  },
  {
   "cell_type": "code",
   "execution_count": 24,
   "id": "4883fb5d",
   "metadata": {},
   "outputs": [],
   "source": [
    "music(30,\"Opening Hymn\",page)\n",
    "music(176,\"Sacrament Hymn\", page) "
   ]
  },
  {
   "cell_type": "markdown",
   "id": "b9aa0b92",
   "metadata": {},
   "source": [
    "## Variable part of the program"
   ]
  },
  {
   "cell_type": "markdown",
   "id": "5c036916",
   "metadata": {},
   "source": [
    "### If it's fast and testimony meeting, uncomment this section and comment out the sacrament meeting items"
   ]
  },
  {
   "cell_type": "code",
   "execution_count": 25,
   "id": "7d5e22dd",
   "metadata": {},
   "outputs": [],
   "source": [
    "# Uncomment this line for fast and testimony meeting\n",
    "#testimonies(page)"
   ]
  },
  {
   "cell_type": "markdown",
   "id": "acc7f590",
   "metadata": {},
   "source": [
    "### For a sacrament meeting or ward conference, comment out the testimonies and use these sections as needed"
   ]
  },
  {
   "cell_type": "code",
   "execution_count": 26,
   "id": "0362fecd",
   "metadata": {},
   "outputs": [],
   "source": [
    "# Use lines like these to form the speaking part of the program\n",
    "\n",
    "# Special code for the Primary and Christmas Programs\n",
    "#txtlist = (\n",
    "#    'Words and Music Celebrating the Birth of Jesus Christ',\n",
    "#    'Program under the direction of Mindy Draney',\n",
    "#    'Program written by Becky Slater',\n",
    "#    'Congregation to join in singing when directed.'\n",
    "#    )\n",
    "#linklist = None\n",
    "\n",
    "#custom(\"Primary Program\", txtlist,linklist, page)\n",
    "#specialmusic(\"Primary Children\",page, title=\"Fathers\")\n",
    "#specialmusic(\"Primary Children\",page, title=\"Daddy's Homecoming\")\n",
    "\n",
    "speaker(\"Asia Mecham\", page)\n",
    "\n",
    "#music(98,\"Rest Hymn\",page)\n",
    "#specialmusic(\"Elder Caleb Short and Brother Jared Draney\",page, title= \"Joseph Smith's First Prayer\")\n",
    "#specialmusic(\"Walk-Up Choir\",page, title=\"Christ The Lord is Risen Today\")\n",
    "speaker(\"Reed Bradford\", page)\n",
    "\n",
    "speaker(\"President Travis Bird\", page)\n",
    "#speaker(\"Speaker 3\", page)\n"
   ]
  },
  {
   "cell_type": "markdown",
   "id": "aa869bd8",
   "metadata": {},
   "source": [
    "### Closing hymn"
   ]
  },
  {
   "cell_type": "code",
   "execution_count": 27,
   "id": "fb6df9fc",
   "metadata": {
    "scrolled": true
   },
   "outputs": [],
   "source": [
    "music(34,\"Closing Hymn\",page)"
   ]
  },
  {
   "cell_type": "markdown",
   "id": "c6564ff0",
   "metadata": {},
   "source": [
    "## End matter - thought, announcements, links"
   ]
  },
  {
   "cell_type": "code",
   "execution_count": 28,
   "id": "6969936f",
   "metadata": {},
   "outputs": [],
   "source": [
    "# Spiritual thought\n",
    "quote = ('No one of us is less treasured or cherished of God than another. I testify that He loves each of us insecurities, anxieties, self-image, and all.')\n",
    "author = 'Elder Jeffrey R. Holland Of the Quorum of the Twelve Apostles April 2002'\n",
    "thought(quote, author, page)\n",
    "\n",
    "# Make a list of announcements, then post to the page\n",
    "txtlist = (\n",
    "        \"Ward Temple Night - Saturday, August 5th, 6pm\",\n",
    "        \"Just Serve : Houston South Stake - Back to School Clothing and Supply Drive for Fort Bend ISD & Lamar CISD\",\n",
    "                        \"July 1st thru 30th Contact MeliaBoyer@justserve.org\",\n",
    "        \"July 23rd, 2023 - FSY Wrap-Up Fireside  @ Lexington Building 7:00 PM to 9:00 PM\",\n",
    "        \"Volley Ball Wednesdays - Come join us on Wednesdays at 9PM and have fun!!!\",\n",
    "        \"Houston Texas South Stake : We are collecting information from those who may be interested in participating in one or both of the following choir opportunities:\",\n",
    "                        \"9/11 Day of Service and Remembrance Ceremony Community Choir at the Houston National Cemetery on Saturday, September 9\",\n",
    "        \"Send announcements to bvl2clerk@gmail.com\"\n",
    "           )\n",
    "announcements(txtlist, page)"
   ]
  },
  {
   "cell_type": "markdown",
   "id": "c89dda30",
   "metadata": {},
   "source": [
    "# Cleaning Assignments"
   ]
  },
  {
   "cell_type": "code",
   "execution_count": 29,
   "id": "a23d69c3",
   "metadata": {},
   "outputs": [],
   "source": [
    "sats = nextsaturday(4)\n",
    "cleaninglist = []\n",
    "for sat in sats:\n",
    "    cleaninglist.append(sat + \": \" + roster[sat])\n",
    "custom(\"Cleaning Assignments\",cleaninglist, None, page)"
   ]
  },
  {
   "cell_type": "markdown",
   "id": "9d58209b",
   "metadata": {},
   "source": [
    "### Preparedness Corner - under development"
   ]
  },
  {
   "cell_type": "code",
   "execution_count": 30,
   "id": "84a5da3e",
   "metadata": {},
   "outputs": [],
   "source": [
    "#txtlist = (\n",
    "#    'Make sure you have water: one gallon per person per day. A family of four would need 12 gallons for 3 days.',\n",
    "#    ' '\n",
    "#    )\n",
    "#linklist = {\n",
    "#    (\"Learn more online\",\"https://www.churchofjesuschrist.org/study/manual/gospel-topics/food-storage?lang=eng\")\n",
    "#}\n",
    "#custom(\"Preparedness Corner\", txtlist,linklist, page)"
   ]
  },
  {
   "cell_type": "code",
   "execution_count": 31,
   "id": "50d50bc2",
   "metadata": {},
   "outputs": [],
   "source": [
    "# Make a list of links, then post\n",
    "linklist = (\n",
    "        (\"Let the missionaries know when you are available to help teach\",\"https://docs.google.com/forms/d/1cVhEINFFESai0MLbgBA8euTyiMQsM8R1Sur_EQsyUrw/edit?usp=drive_web\"),\n",
    "        (\"9/11 Day of Service and Remembrance Ceremony Community Choir at the Houston National Cemetery on Saturday, September 9\", \"https://docs.google.com/forms/d/e/1FAIpQLSd_FPE2TJCaNZ3Md3y5dTSKCmpAU7M5w6_tiLS_J28h5Ufq9Q/viewform\"),\n",
    "        (\"Sign up to feed the missionaries\",\"https://www.signupgenius.com/go/10c0e4baca82ea7fb6-dinner2\"),\n",
    "        (\"Sign up to prepare a meal with Fort Bend Family Promise\",\"https://www.signupgenius.com/go/10c0e4baca82ea7fb6-helping4#\"),\n",
    "        (\"Help at secondmile.org\",\"https://secondmile.org\"), \n",
    "        )\n",
    "links(linklist, page)\n",
    "credit(\"Pete Slater and Andy Chen\", page)"
   ]
  },
  {
   "cell_type": "markdown",
   "id": "ea336a25",
   "metadata": {},
   "source": [
    "# Write out the file to Index.html, which must be posted online"
   ]
  },
  {
   "cell_type": "code",
   "execution_count": 32,
   "id": "3e60260a",
   "metadata": {},
   "outputs": [
    {
     "name": "stdout",
     "output_type": "stream",
     "text": [
      "<!DOCTYPE HTML PUBLIC '-//W3C//DTD HTML 4.01 Transitional//EN'>\n",
      "<html lang=\"en\">\n",
      "<head>\n",
      "</head>\n",
      "<body>\n",
      "<br />\n",
      "<meta name=\"viewport\" content=\"width=device-width, initial-scale=1.0\" />\n",
      "<h1 align=\"center\">Sugar Land Second Ward</h1>\n",
      "<h2 align=\"center\">Sacrament Meeting</h2>\n",
      "<h2 align=\"center\">July 23rd, 2023</h2>\n",
      "<p align=\"center\"><img style=\"max-width:50%;height:auto;\" src=\"https://assets.ldscdn.org/e4/40/e440b004051c60f0e7b85e8af9b5bfbca156cf2d/houston_texas_mormon_temple.jpeg\" /></p>\n",
      "<p align=\"center\"><b>Presiding:</b> President Travis Bird</p>\n",
      "<p align=\"center\"><b>Conducting:</b> Brother Jared Draney</p>\n",
      "<h2 align=\"center\">Opening Hymn</h2>\n",
      "<p align=\"center\"><a href=\"https://www.churchofjesuschrist.org/music/library/hymns/come-come-ye-saints?lang=eng&amp;#39\">#30, Come, Come, Ye Saints</a></p>\n",
      "<h2 align=\"center\">Sacrament Hymn</h2>\n",
      "<p align=\"center\"><a href=\"https://www.churchofjesuschrist.org/music/library/hymns/tis-sweet-to-sing-the-matchless-love-meredith?lang=eng&amp;#39\">#176, Tis Sweet to Sing the Matchless Love</a></p>\n",
      "<h2 align=\"center\">Speaker</h2>\n",
      "<p align=\"center\">Asia Mecham</p>\n",
      "<h2 align=\"center\">Speaker</h2>\n",
      "<p align=\"center\">Reed Bradford</p>\n",
      "<h2 align=\"center\">Speaker</h2>\n",
      "<p align=\"center\">President Travis Bird</p>\n",
      "<h2 align=\"center\">Closing Hymn</h2>\n",
      "<p align=\"center\"><a href=\"https://www.churchofjesuschrist.org/music/library/hymns/o-ye-mountains-high?lang=eng&amp;#39\">#34, O Ye Mountains High</a></p>\n",
      "<hr />\n",
      "<p align=\"center\">No one of us is less treasured or cherished of God than another. I testify that He loves each of us insecurities, anxieties, self-image, and all.</p>\n",
      "<p align=\"center\">- Elder Jeffrey R. Holland Of the Quorum of the Twelve Apostles April 2002</p>\n",
      "<hr />\n",
      "<h1 align=\"center\">Announcements</h1>\n",
      "<p align=\"center\">Ward Temple Night - Saturday, August 5th, 6pm</p>\n",
      "<p align=\"center\">Just Serve : Houston South Stake - Back to School Clothing and Supply Drive for Fort Bend ISD & Lamar CISD</p>\n",
      "<p align=\"center\">July 1st thru 30th Contact MeliaBoyer@justserve.org</p>\n",
      "<p align=\"center\">July 23rd, 2023 - FSY Wrap-Up Fireside  @ Lexington Building 7:00 PM to 9:00 PM</p>\n",
      "<p align=\"center\">Volley Ball Wednesdays - Come join us on Wednesdays at 9PM and have fun!!!</p>\n",
      "<p align=\"center\">Houston Texas South Stake : We are collecting information from those who may be interested in participating in one or both of the following choir opportunities:</p>\n",
      "<p align=\"center\">9/11 Day of Service and Remembrance Ceremony Community Choir at the Houston National Cemetery on Saturday, September 9</p>\n",
      "<p align=\"center\">Send announcements to bvl2clerk@gmail.com</p>\n",
      "<hr />\n",
      "<h1 align=\"center\">Cleaning Assignments</h1>\n",
      "<p align=\"center\">July 29: Maplewood 3rd Branch</p>\n",
      "<p align=\"center\">August 05: Draney, Buchanan, Hettinger, Morton, Tracey</p>\n",
      "<p align=\"center\">August 12: Leavitt, Chen, Hintze, Ozomah, Seegmiller</p>\n",
      "<p align=\"center\">August 19: Powell, Clements, Horowitz, Quam, Wightman</p>\n",
      "<hr />\n",
      "<h1 align=\"center\">Links</h1>\n",
      "<p align=\"center\"><a href=\"https://docs.google.com/forms/d/1cVhEINFFESai0MLbgBA8euTyiMQsM8R1Sur_EQsyUrw/edit?usp=drive_web\" target=\"_blank\" rel=\"noreferrer noopener\">Let the missionaries know when you are available to help teach</a></p>\n",
      "<p align=\"center\"><a href=\"https://docs.google.com/forms/d/e/1FAIpQLSd_FPE2TJCaNZ3Md3y5dTSKCmpAU7M5w6_tiLS_J28h5Ufq9Q/viewform\" target=\"_blank\" rel=\"noreferrer noopener\">9/11 Day of Service and Remembrance Ceremony Community Choir at the Houston National Cemetery on Saturday, September 9</a></p>\n",
      "<p align=\"center\"><a href=\"https://www.signupgenius.com/go/10c0e4baca82ea7fb6-dinner2\" target=\"_blank\" rel=\"noreferrer noopener\">Sign up to feed the missionaries</a></p>\n",
      "<p align=\"center\"><a href=\"https://www.signupgenius.com/go/10c0e4baca82ea7fb6-helping4#\" target=\"_blank\" rel=\"noreferrer noopener\">Sign up to prepare a meal with Fort Bend Family Promise</a></p>\n",
      "<p align=\"center\"><a href=\"https://secondmile.org\" target=\"_blank\" rel=\"noreferrer noopener\">Help at secondmile.org</a></p>\n",
      "<hr />\n",
      "<small align=\"center\">Edited July 28, 2023 by Pete Slater and Andy Chen</small>\n",
      "</body>\n",
      "</html>\n"
     ]
    },
    {
     "data": {
      "text/plain": [
       "'\\nEnd of script\\n'"
      ]
     },
     "execution_count": 32,
     "metadata": {},
     "output_type": "execute_result"
    }
   ],
   "source": [
    "print (page)# -*- coding: utf-8 -*\n",
    "\n",
    "original_stdout = sys.stdout\n",
    "with open('Index.html', 'w') as f:\n",
    "    sys.stdout = f # Change the standard output to the file we created.\n",
    "    print(page)\n",
    "    sys.stdout = original_stdout # Reset the standard output to its original value\n",
    "\"\"\"\n",
    "End of script\n",
    "\"\"\""
   ]
  },
  {
   "cell_type": "code",
   "execution_count": null,
   "id": "ead46242",
   "metadata": {},
   "outputs": [],
   "source": []
  }
 ],
 "metadata": {
  "kernelspec": {
   "display_name": "Python 3 (ipykernel)",
   "language": "python",
   "name": "python3"
  },
  "language_info": {
   "codemirror_mode": {
    "name": "ipython",
    "version": 3
   },
   "file_extension": ".py",
   "mimetype": "text/x-python",
   "name": "python",
   "nbconvert_exporter": "python",
   "pygments_lexer": "ipython3",
   "version": "3.9.12"
  }
 },
 "nbformat": 4,
 "nbformat_minor": 5
}
