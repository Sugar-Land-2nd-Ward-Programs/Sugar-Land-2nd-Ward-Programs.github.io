{
 "cells": [
  {
   "cell_type": "markdown",
   "id": "81f29a21",
   "metadata": {},
   "source": [
    "# Template for Creating Sacrament Meeting Programs\n",
    "\n",
    "## Uses MarkupPy to generate the HTML"
   ]
  },
  {
   "cell_type": "code",
   "execution_count": 1,
   "id": "aa66d71d",
   "metadata": {},
   "outputs": [],
   "source": [
    "#\n",
    "# Sugar Land 2nd Ward HTML Program Writer\n",
    "#\n",
    "# Pete Slater\n",
    "# June 2022\n",
    "\n",
    "import hymndict # Titles and links to hymns\n",
    "import htmlpy # Local copy of source code\n",
    "from htmlpy import oneliner as e\n",
    "import artlinks # Links to artwork\n",
    "import sys\n",
    "import datetime as dt"
   ]
  },
  {
   "cell_type": "markdown",
   "id": "77d10844",
   "metadata": {},
   "source": [
    "# Customized functions to create the HTML for standard agenda items"
   ]
  },
  {
   "cell_type": "code",
   "execution_count": 2,
   "id": "49433c25",
   "metadata": {},
   "outputs": [],
   "source": [
    "'''\n",
    "Define functions for formatting each of the items that can appear in a program.\n",
    "Build the program in the main script by calling the functions.\n",
    "\n",
    "'''\n",
    "def officer(role, officer, page):\n",
    "    page.p(e.b(role+\":\")+\" \"+officer,align=\"center\")\n",
    "\n",
    "def pagetitle(unit, meeting, meetdate,page):\n",
    "    page.h1(unit, align=\"center\")\n",
    "    page.h2(meeting, align=\"center\")\n",
    "    page.h2(meetdate, align=\"center\")\n",
    "\n",
    "def speaker(name, page):\n",
    "    page.h2(\"Speaker\", align=\"center\")\n",
    "    page.p(name,align=\"center\")\n",
    "    \n",
    "def testimonies(page):\n",
    "    page.h2(\"Bearing of Testimonies\", align=\"center\")\n",
    "\n",
    "def music(number, description, page):\n",
    "    page.h2(description,align=\"center\")\n",
    "    [hymntitle, hymnurl] = hymndict.hymns[number]\n",
    "    page.p(e.a(\"#\" + str(number)+\", \"+hymntitle, href=hymnurl),align=\"center\")\n",
    "    \n",
    "def specialmusic(performers,page,title=None,accompanist=None):\n",
    "    page.h2(\"Special Musical Number\",align=\"center\")\n",
    "    if title != None:\n",
    "        page.p(e.i(title),align=\"center\")\n",
    "    page.p(performers,align=\"center\")\n",
    "    if accompanist != None:\n",
    "        page.p(\"Acc. by \" + accompanist, align=\"center\")\n",
    "        \n",
    "def thought(text, author, page):\n",
    "    page.hr()\n",
    "    page.p(text, align=\"center\")\n",
    "    page.p(\"- \"+author,align=\"center\")\n",
    " \n",
    "# Announcements are passed as a list of text strings\n",
    "def announcements(textlist,page):\n",
    "    page.hr()\n",
    "    page.h1(\"Announcements\", align=\"center\")\n",
    "    for txt in textlist:\n",
    "        page.p(txt,align=\"center\")\n",
    "\n",
    "# Custom section for Preparedness Corner, etc.\n",
    "def custom(title, txtlist, linklist, page):\n",
    "    page.hr()\n",
    "    page.h1(title, align=\"center\")\n",
    "    if txtlist != None:\n",
    "        for txt in txtlist:\n",
    "            page.p(txt,align=\"center\")\n",
    "    if linklist != None:\n",
    "        for link in linklist:\n",
    "            page.p(e.a(link[0], href=link[1], target=\"_blank\", rel=\"noreferrer noopener\"),align=\"center\")\n",
    "        \n",
    "# Place some links, passed as a list containing text and url\n",
    "def links(linklist, page):\n",
    "    page.hr()\n",
    "    page.h1(\"Links\", align=\"center\")\n",
    "    for link in linklist:\n",
    "        page.p(e.a(link[0], href=link[1], target=\"_blank\", rel=\"noreferrer noopener\"),align=\"center\")\n",
    "        \n",
    "# Print credits at the bottom of the page\n",
    "def credit(editor, page):\n",
    "#'''Print credits and datestamp ''' \n",
    "    today = dt.date.today()\n",
    "    page.hr()\n",
    "    text = today.strftime(\"Edited %B %d, %Y by \") + editor\n",
    "    page.small(text,align=\"center\")        \n",
    "    "
   ]
  },
  {
   "cell_type": "markdown",
   "id": "d49f71d2",
   "metadata": {},
   "source": [
    "# Format the agenda items that are always present\n",
    "Customize for each week with date and type of meeting, i.e. sacrament, fast and testimony, ward conference"
   ]
  },
  {
   "cell_type": "code",
   "execution_count": 3,
   "id": "1d48a03c",
   "metadata": {},
   "outputs": [],
   "source": [
    "#Title = \"Sugar Land Second Ward\"\n",
    "Title = \"Houston Texas South Stake\"\n",
    "#header = \"Sacrament Meeting\"\n",
    "#header = \"Fast and Testimony Meeting\"\n",
    "header = \"Stake Conference\"\n",
    "footer = \"\"\n",
    "styles = ( 'layout.css', 'alt.css', 'images.css' )\n",
    "\n",
    "page = htmlpy.page( )\n",
    "page.init()\n",
    "page.br( )\n",
    " \n",
    "# Make sure it will look good on all devices\n",
    "page.meta(name=\"viewport\", content=\"width=device-width, initial-scale=1.0\")\n",
    "\n",
    "# Define the elements on the current week's programs here\n",
    "\n",
    "pagetitle(\"Houston Texas South Stake\", \"Stake Conference\", \"May 21st, 2023\", page)"
   ]
  },
  {
   "cell_type": "markdown",
   "id": "f4ed3987",
   "metadata": {},
   "source": [
    "## Artwork\n",
    "Pick an artwork from the defined list of links in artlinks.py and enter the number here"
   ]
  },
  {
   "cell_type": "code",
   "execution_count": 4,
   "id": "5eca8859",
   "metadata": {},
   "outputs": [],
   "source": [
    "# Place an artwork from the imported dictionary of links\n",
    "#page.p(e.img(width=299, height=300*0.8, src=artlinks.art[2]), align=\"center\")\n",
    "page.p(e.img(style=\"max-width:50%;height:auto;\", src=artlinks.art[8]), align=\"center\")"
   ]
  },
  {
   "cell_type": "markdown",
   "id": "5a299af0",
   "metadata": {},
   "source": [
    "## Officers"
   ]
  },
  {
   "cell_type": "code",
   "execution_count": 5,
   "id": "4b61ed5a",
   "metadata": {},
   "outputs": [],
   "source": [
    "#officer(\"Presiding\",\"Bishop Joey Powell\", page)\n",
    "#officer(\"Conducting\",\"Bishop Joey Powell\", page)\n",
    "#officer(\"Conducting\",\"Brother Dale Crosby\", page)\n",
    "#officer(\"Conducting\",\"Brother Jared Draney\", page)\n",
    "officer(\"Presiding\",\"President Travis Bird\", page)"
   ]
  },
  {
   "cell_type": "markdown",
   "id": "88a662c8",
   "metadata": {},
   "source": [
    "## Opening and sacrament hymns"
   ]
  },
  {
   "cell_type": "code",
   "execution_count": 6,
   "id": "4883fb5d",
   "metadata": {},
   "outputs": [],
   "source": [
    "#music(77,\"Opening Hymn\",page)\n",
    "#music(100,\"Sacrament Hymn\", page) "
   ]
  },
  {
   "cell_type": "markdown",
   "id": "b9aa0b92",
   "metadata": {},
   "source": [
    "## Variable part of the program"
   ]
  },
  {
   "cell_type": "markdown",
   "id": "5c036916",
   "metadata": {},
   "source": [
    "### If it's fast and testimony meeting, uncomment this section and comment out the sacrament meeting items"
   ]
  },
  {
   "cell_type": "code",
   "execution_count": 7,
   "id": "7d5e22dd",
   "metadata": {},
   "outputs": [],
   "source": [
    "# Uncomment this line for fast and testimony meeting\n",
    "#testimonies(page)"
   ]
  },
  {
   "cell_type": "markdown",
   "id": "acc7f590",
   "metadata": {},
   "source": [
    "### For a sacrament meeting or ward conference, comment out the testimonies and use these sections as needed"
   ]
  },
  {
   "cell_type": "code",
   "execution_count": 8,
   "id": "0362fecd",
   "metadata": {},
   "outputs": [],
   "source": [
    "# Use lines like these to form the speaking part of the program\n",
    "\n",
    "# Special code for the Primary and Christmas Programs\n",
    "#txtlist = (\n",
    "#    'Words and Music Celebrating the Birth of Jesus Christ',\n",
    "#    'Program under the direction of Mindy Draney',\n",
    "#    'Program written by Becky Slater',\n",
    "#    'Congregation to join in singing when directed.'\n",
    "#    )\n",
    "#linklist = None\n",
    "\n",
    "#custom(\"Primary Program\", txtlist,linklist, page)\n",
    "\n",
    "#music(116,\"Rest Hymn\",page)\n",
    "\n",
    "#speaker(\"London Williams\", page)\n",
    "\n",
    "#specialmusic(\"Primary Children\",page, title=\"Mother I love you\", accompanist=\"Ting Chen\")\n",
    "\n",
    "#speaker(\"Rider Markwalter\", page)\n",
    "\n",
    "#specialmusic(\"Elder Bennion Messenger\",page, title= \"Savior, Redeemer of My Soul\", accompanist= \"Dallin Arnold\")\n",
    "\n",
    "#specialmusic(\"Walk-Up Choir\",page, title=\"Christ The Lord is Risen Today\")\n",
    "\n",
    "#speaker(\"Steve Hintze\", page)\n",
    "\n",
    "#speaker(\"Adam Clark\", page)\n"
   ]
  },
  {
   "cell_type": "markdown",
   "id": "aa869bd8",
   "metadata": {},
   "source": [
    "### Closing hymn"
   ]
  },
  {
   "cell_type": "code",
   "execution_count": 9,
   "id": "fb6df9fc",
   "metadata": {},
   "outputs": [],
   "source": [
    "music(100,\"Closing Hymn\",page)"
   ]
  },
  {
   "cell_type": "markdown",
   "id": "c6564ff0",
   "metadata": {},
   "source": [
    "## End matter - thought, announcements, links"
   ]
  },
  {
   "cell_type": "code",
   "execution_count": 10,
   "id": "6969936f",
   "metadata": {},
   "outputs": [],
   "source": [
    "# Spiritual thought\n",
    "quote = ('No one of us is less treasured or cherished of God than another. I testify that He loves each of us insecurities, anxieties, self-image, and all.')\n",
    "author = 'Elder Jeffrey R. Holland Of the Quorum of the Twelve Apostles April 2002'\n",
    "thought(quote, author, page)\n",
    "\n",
    "# Make a list of announcements, then post to the page\n",
    "txtlist = (\n",
    "        \"May 12th thru 19th, 2023 : Houston South Stake - TWO Deseret Industries PODs will be in our Stake Boundaries \",\n",
    "                                    \"One will be located at the Lexington Building and the other at the Sienna building.\",\n",
    "                                    \"These PODS are unlocked approximately 8am-8pm for self-serve convenience.\",\n",
    "                                    \"If PODS are full mid-week, please let Brother Burhardt on the Stake Council know.\",\n",
    "        \"May 20th, 2023 - 4:00PM - 5:30PM Stake/Ward Council Leadership Meeting @ Lexington Building\",\n",
    "                     \"All members of Stake and Ward Councils and their presidencies, secretaries, and clerks are invited to attend\",  \n",
    "        \"May 20th, 2023 - 7:00PM - 8:30PM Adult Session @ Lexington Building\",\n",
    "                    \"All adult members, friends, and visitors are invited to attend\",\n",
    "        \"May 21st, 2023 - Houston South Stake Conference - General Session @ Lexington Building\",\n",
    "                    \"All members, friends, and visitors are invited to attend\",\n",
    "                    \"The meeting will be in-person @ the Lexington building and broadcast to the Sienna and Rosenberg buildings\",\n",
    "        \"May 21st, 2023 - Houston South Stake Seminary Graduation @ 3.30 pm - Lexington Building\",\n",
    "        \"May 21st, 2023 - YSA (single and or Married) Devotional with President & Sister Oaks @ 7.00 pm \",\n",
    "        \"May 27th, 2023 - African American Heritage Project; Jones Dickson Cemetery 8:30 - 11:00 am.\",\n",
    "        \"June 13th, 2023 : Astros Friend and Family Night!!! Houston Astros vs. Washington Nationals at Minute Maid Park\",\n",
    "                        \"May 30 is the deadline for purchasing specially priced reserved seating for the Astros Friends & Family Night on Tuesday, June 13.\",\n",
    "                        \"Very few seats have been purchased by our group and other seating is filling up.\",\n",
    "        \"Send announcements to bvl2clerk@gmail.com\"\n",
    "           )\n",
    "announcements(txtlist, page)"
   ]
  },
  {
   "cell_type": "markdown",
   "id": "9d58209b",
   "metadata": {},
   "source": [
    "### Preparedness Corner - under development"
   ]
  },
  {
   "cell_type": "code",
   "execution_count": 11,
   "id": "84a5da3e",
   "metadata": {},
   "outputs": [],
   "source": [
    "#txtlist = (\n",
    "#    'Make sure you have water: one gallon per person per day. A family of four would need 12 gallons for 3 days.',\n",
    "#    ' '\n",
    "#    )\n",
    "#linklist = {\n",
    "#    (\"Learn more online\",\"https://www.churchofjesuschrist.org/study/manual/gospel-topics/food-storage?lang=eng\")\n",
    "#}\n",
    "#custom(\"Preparedness Corner\", txtlist,linklist, page)"
   ]
  },
  {
   "cell_type": "code",
   "execution_count": 12,
   "id": "50d50bc2",
   "metadata": {},
   "outputs": [],
   "source": [
    "# Make a list of links, then post\n",
    "linklist = (\n",
    "        (\"African American Heritage Project; Jones Dickson Cemetery May 27, 2023 8:30 - 11:00 am.\", \"https://www.justserve.org/projects/c52cbafd-414d-4366-b7ef-6607246ea80d/african-american-heritage-project%3A-jones-dickson-cemetery?shiftId=2d8dba4b-df70-4528-9546-754b7702444f\"),\n",
    "        (\"Astros Friend and Family Night! Get your tickets by May 30th!!!\", \"https://https://mlb.tickets.com/schedule/?agency=MLB_MPV&orgid=18#/sales_groups;salesGroupId=4180\"),\n",
    "        (\"Sign up to feed the missionaries\",\"https://www.signupgenius.com/go/10c0e4baca82ea7fb6-dinner2\"),\n",
    "        (\"Sign up to prepare a meal with Fort Bend Family Promise\",\"https://www.signupgenius.com/go/10c0e4baca82ea7fb6-helping4#\"),\n",
    "        (\"Help at secondmile.org\",\"https://secondmile.org\"), \n",
    "        )\n",
    "links(linklist, page)\n",
    "credit(\"Pete Slater and Andy Chen\", page)"
   ]
  },
  {
   "cell_type": "markdown",
   "id": "ea336a25",
   "metadata": {},
   "source": [
    "# Write out the file to Index.html, which must be posted online"
   ]
  },
  {
   "cell_type": "code",
   "execution_count": 13,
   "id": "3e60260a",
   "metadata": {},
   "outputs": [
    {
     "name": "stdout",
     "output_type": "stream",
     "text": [
      "<!DOCTYPE HTML PUBLIC '-//W3C//DTD HTML 4.01 Transitional//EN'>\n",
      "<html lang=\"en\">\n",
      "<head>\n",
      "</head>\n",
      "<body>\n",
      "<br />\n",
      "<meta name=\"viewport\" content=\"width=device-width, initial-scale=1.0\" />\n",
      "<h1 align=\"center\">Houston South Stake</h1>\n",
      "<h2 align=\"center\">Stake Conference</h2>\n",
      "<h2 align=\"center\">May 21st, 2023</h2>\n",
      "<p align=\"center\"><img style=\"max-width:50%;height:auto;\" src=\"https://assets.ldscdn.org/bb/fd/bbfdc0bbf809c57b3c83887b2669287f5ee78e9c/resurrected_christ.jpeg\" /></p>\n",
      "<h2 align=\"center\">Speaker</h2>\n",
      "<p align=\"center\">London Williams</p>\n",
      "<h2 align=\"center\">Special Musical Number</h2>\n",
      "<p align=\"center\"><i>Mother I love you</i></p>\n",
      "<p align=\"center\">Primary Children</p>\n",
      "<p align=\"center\">Acc. by Ting Chen</p>\n",
      "<h2 align=\"center\">Speaker</h2>\n",
      "<p align=\"center\">Rider Markwalter</p>\n",
      "<h2 align=\"center\">Speaker</h2>\n",
      "<p align=\"center\">Steve Hintze</p>\n",
      "<h2 align=\"center\">Closing Hymn</h2>\n",
      "<p align=\"center\"><a href=\"https://www.churchofjesuschrist.org/music/library/hymns/nearer-my-god-to-thee?lang=eng&amp;#39\">#100, Nearer, My God, to Thee</a></p>\n",
      "<hr />\n",
      "<p align=\"center\">No one of us is less treasured or cherished of God than another. I testify that He loves each of us insecurities, anxieties, self-image, and all.</p>\n",
      "<p align=\"center\">- Elder Jeffrey R. Holland Of the Quorum of the Twelve Apostles April 2002</p>\n",
      "<hr />\n",
      "<h1 align=\"center\">Announcements</h1>\n",
      "<p align=\"center\">May 12th thru 19th, 2023 : Houston South Stake - TWO Deseret Industries PODs will be in our Stake Boundaries </p>\n",
      "<p align=\"center\">One will be located at the Lexington Building and the other at the Sienna building.</p>\n",
      "<p align=\"center\">These PODS are unlocked approximately 8am-8pm for self-serve convenience.</p>\n",
      "<p align=\"center\">If PODS are full mid-week, please let Brother Burhardt on the Stake Council know.</p>\n",
      "<p align=\"center\">May 20th, 2023 - 4:00PM - 5:30PM Stake/Ward Council Leadership Meeting @ Lexington Building</p>\n",
      "<p align=\"center\">All members of Stake and Ward Councils and their presidencies, secretaries, and clerks are invited to attend</p>\n",
      "<p align=\"center\">May 20th, 2023 - 7:00PM - 8:30PM Adult Session @ Lexington Building</p>\n",
      "<p align=\"center\">All adult members, friends, and visitors are invited to attend</p>\n",
      "<p align=\"center\">May 21st, 2023 - Houston South Stake Conference - General Session @ Lexington Building</p>\n",
      "<p align=\"center\">All members, friends, and visitors are invited to attend</p>\n",
      "<p align=\"center\">The meeting will be in-person @ the Lexington building and broadcast to the Sienna and Rosenberg buildings</p>\n",
      "<p align=\"center\">May 21st, 2023 - Houston South Stake Seminary Graduation @ 3.30 pm - Lexington Building</p>\n",
      "<p align=\"center\">May 21st, 2023 - YSA (single and or Married) Devotional with President & Sister Oaks @ 7.00 pm </p>\n",
      "<p align=\"center\">May 27th, 2023 - African American Heritage Project; Jones Dickson Cemetery 8:30 - 11:00 am.</p>\n",
      "<p align=\"center\">June 13th, 2023 : Astros Friend and Family Night!!! Houston Astros vs. Washington Nationals at Minute Maid Park</p>\n",
      "<p align=\"center\">May 30 is the deadline for purchasing specially priced reserved seating for the Astros Friends & Family Night on Tuesday, June 13.</p>\n",
      "<p align=\"center\">Very few seats have been purchased by our group and other seating is filling up.</p>\n",
      "<p align=\"center\">Send announcements to bvl2clerk@gmail.com</p>\n",
      "<hr />\n",
      "<h1 align=\"center\">Links</h1>\n",
      "<p align=\"center\"><a href=\"https://www.justserve.org/projects/c52cbafd-414d-4366-b7ef-6607246ea80d/african-american-heritage-project%3A-jones-dickson-cemetery?shiftId=2d8dba4b-df70-4528-9546-754b7702444f\" target=\"_blank\" rel=\"noreferrer noopener\">African American Heritage Project; Jones Dickson Cemetery May 13, 2023 & May 27, 2023 8:30 - 11:00 am.</a></p>\n",
      "<p align=\"center\"><a href=\"https://https://mlb.tickets.com/schedule/?agency=MLB_MPV&amp;orgid=18#/sales_groups;salesGroupId=4180\" target=\"_blank\" rel=\"noreferrer noopener\">Astros Friend and Family Night! Get your tickets by May 30th!!!</a></p>\n",
      "<p align=\"center\"><a href=\"https://www.signupgenius.com/go/10c0e4baca82ea7fb6-dinner2\" target=\"_blank\" rel=\"noreferrer noopener\">Sign up to feed the missionaries</a></p>\n",
      "<p align=\"center\"><a href=\"https://www.signupgenius.com/go/10c0e4baca82ea7fb6-helping4#\" target=\"_blank\" rel=\"noreferrer noopener\">Sign up to prepare a meal with Fort Bend Family Promise</a></p>\n",
      "<p align=\"center\"><a href=\"https://secondmile.org\" target=\"_blank\" rel=\"noreferrer noopener\">Help at secondmile.org</a></p>\n",
      "<hr />\n",
      "<small align=\"center\">Edited May 18, 2023 by Pete Slater and Andy Chen</small>\n",
      "</body>\n",
      "</html>\n"
     ]
    },
    {
     "data": {
      "text/plain": [
       "'\\nEnd of script\\n'"
      ]
     },
     "execution_count": 13,
     "metadata": {},
     "output_type": "execute_result"
    }
   ],
   "source": [
    "print (page)# -*- coding: utf-8 -*\n",
    "\n",
    "original_stdout = sys.stdout\n",
    "with open('Index.html', 'w') as f:\n",
    "    sys.stdout = f # Change the standard output to the file we created.\n",
    "    print(page)\n",
    "    sys.stdout = original_stdout # Reset the standard output to its original value\n",
    "\"\"\"\n",
    "End of script\n",
    "\"\"\""
   ]
  },
  {
   "cell_type": "code",
   "execution_count": null,
   "id": "ead46242",
   "metadata": {},
   "outputs": [],
   "source": []
  },
  {
   "cell_type": "code",
   "execution_count": null,
   "id": "e8efc2f7",
   "metadata": {},
   "outputs": [],
   "source": []
  },
  {
   "cell_type": "code",
   "execution_count": null,
   "id": "1c2a4336",
   "metadata": {},
   "outputs": [],
   "source": []
  },
  {
   "cell_type": "code",
   "execution_count": null,
   "id": "cd235ba4",
   "metadata": {},
   "outputs": [],
   "source": []
  },
  {
   "cell_type": "code",
   "execution_count": null,
   "id": "fd024a37",
   "metadata": {},
   "outputs": [],
   "source": []
  },
  {
   "cell_type": "code",
   "execution_count": null,
   "id": "a83d62f7",
   "metadata": {},
   "outputs": [],
   "source": []
  },
  {
   "cell_type": "code",
   "execution_count": null,
   "id": "b93c8694",
   "metadata": {},
   "outputs": [],
   "source": []
  }
 ],
 "metadata": {
  "kernelspec": {
   "display_name": "Python 3 (ipykernel)",
   "language": "python",
   "name": "python3"
  },
  "language_info": {
   "codemirror_mode": {
    "name": "ipython",
    "version": 3
   },
   "file_extension": ".py",
   "mimetype": "text/x-python",
   "name": "python",
   "nbconvert_exporter": "python",
   "pygments_lexer": "ipython3",
   "version": "3.9.12"
  }
 },
 "nbformat": 4,
 "nbformat_minor": 5
}
