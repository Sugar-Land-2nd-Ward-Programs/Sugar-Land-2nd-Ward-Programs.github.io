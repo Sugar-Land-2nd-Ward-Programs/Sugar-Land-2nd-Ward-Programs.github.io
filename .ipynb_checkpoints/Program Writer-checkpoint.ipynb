{
 "cells": [
  {
   "cell_type": "markdown",
   "id": "81f29a21",
   "metadata": {},
   "source": [
    "# Template for Creating Sacrament Meeting Programs\n",
    "\n",
    "## Uses MarkupPy to generate the HTML"
   ]
  },
  {
   "cell_type": "code",
   "execution_count": 102,
   "id": "aa66d71d",
   "metadata": {},
   "outputs": [],
   "source": [
    "#\n",
    "# Sugar Land 2nd Ward HTML Program Writer\n",
    "#\n",
    "# Pete Slater\n",
    "# June 2022\n",
    "\n",
    "import hymndict # Titles and links to hymns\n",
    "import htmlpy # Local copy of source code\n",
    "from htmlpy import oneliner as e\n",
    "import artlinks # Links to artwork\n",
    "import sys\n",
    "import datetime as dt"
   ]
  },
  {
   "cell_type": "markdown",
   "id": "77d10844",
   "metadata": {},
   "source": [
    "# Customized functions to create the HTML for standard agenda items"
   ]
  },
  {
   "cell_type": "code",
   "execution_count": 103,
   "id": "49433c25",
   "metadata": {},
   "outputs": [],
   "source": [
    "'''\n",
    "Define functions for formatting each of the items that can appear in a program.\n",
    "Build the program in the main script by calling the functions.\n",
    "\n",
    "'''\n",
    "def officer(role, officer, page):\n",
    "    page.p(e.b(role+\":\")+\" \"+officer,align=\"center\")\n",
    "\n",
    "def pagetitle(unit, meeting, meetdate,page):\n",
    "    page.h1(unit, align=\"center\")\n",
    "    page.h2(meeting, align=\"center\")\n",
    "    page.h2(meetdate, align=\"center\")\n",
    "\n",
    "def speaker(name, page):\n",
    "    page.h2(\"Speaker\", align=\"center\")\n",
    "    page.p(name,align=\"center\")\n",
    "    \n",
    "def testimonies(page):\n",
    "    page.h2(\"Bearing of Testimonies\", align=\"center\")\n",
    "\n",
    "def music(number, description, page):\n",
    "    page.h2(description,align=\"center\")\n",
    "    [hymntitle, hymnurl] = hymndict.hymns[number]\n",
    "    page.p(e.a(\"#\" + str(number)+\", \"+hymntitle, href=hymnurl),align=\"center\")\n",
    "    \n",
    "def specialmusic(performers,page,title=None,accompanist=None):\n",
    "    page.h2(\"Special Musical Number\",align=\"center\")\n",
    "    if title != None:\n",
    "        page.p(e.i(title),align=\"center\")\n",
    "    page.p(performers,align=\"center\")\n",
    "    if accompanist != None:\n",
    "        page.p(\"Acc. by \" + accompanist, align=\"center\")\n",
    "        \n",
    "def thought(text, author, page):\n",
    "    page.hr()\n",
    "    page.p(text, align=\"center\")\n",
    "    page.p(\"- \"+author,align=\"center\")\n",
    " \n",
    "# Announcements are passed as a list if text strings\n",
    "def announcements(textlist,page):\n",
    "    page.hr()\n",
    "    page.h1(\"Announcements\", align=\"center\")\n",
    "    for txt in textlist:\n",
    "        page.p(txt,align=\"center\")\n",
    "\n",
    "# Place some links, passed as a list containing text and url\n",
    "def links(linklist, page):\n",
    "    page.hr()\n",
    "    page.h1(\"Links\", align=\"center\")\n",
    "    for link in linklist:\n",
    "        page.p(e.a(link[0], href=link[1], target=\"_blank\", rel=\"noreferrer noopener\"),align=\"center\")\n",
    "        \n",
    "# Print credits at the bottom of the page\n",
    "def credit(editor, page):\n",
    "#'''Print credits and datestamp ''' \n",
    "    today = dt.date.today()\n",
    "    page.hr()\n",
    "    text = today.strftime(\"Edited %B %d, %Y by \") + editor\n",
    "    page.small(text,align=\"center\")        \n",
    "    "
   ]
  },
  {
   "cell_type": "markdown",
   "id": "d49f71d2",
   "metadata": {},
   "source": [
    "# Format the agenda items that are always present\n",
    "Customize for each week with date and type of meeting, i.e. sacrament, fast and testimony, ward conference"
   ]
  },
  {
   "cell_type": "code",
   "execution_count": 104,
   "id": "1d48a03c",
   "metadata": {},
   "outputs": [],
   "source": [
    "title = \"Sugar Land Second Ward\"\n",
    "#header = \"Sacrament Meeting\"\n",
    "header = \"Sacrament Meeting\"\n",
    "footer = \"\"\n",
    "styles = ( 'layout.css', 'alt.css', 'images.css' )\n",
    "\n",
    "page = htmlpy.page( )\n",
    "page.init()\n",
    "page.br( )\n",
    " \n",
    "# Make sure it will look good on all devices\n",
    "page.meta(name=\"viewport\", content=\"width=device-width, initial-scale=1.0\")\n",
    "\n",
    "# Define the elements on the current week's programs here\n",
    "\n",
    "pagetitle(\"Sugar Land 2nd Ward\", \"Sacrament Meeting\", \"August 14, 2022\", page)"
   ]
  },
  {
   "cell_type": "markdown",
   "id": "f4ed3987",
   "metadata": {},
   "source": [
    "## Artwork\n",
    "Pick an artwork from the defined list of links in artlinks.py and enter the number here"
   ]
  },
  {
   "cell_type": "code",
   "execution_count": 105,
   "id": "5eca8859",
   "metadata": {},
   "outputs": [],
   "source": [
    "# Place an artwork from the imported dictionary of links\n",
    "#page.p(e.img(width=299, height=300*0.8, src=artlinks.art[2]), align=\"center\")\n",
    "page.p(e.img(style=\"max-width:50%;height:auto;\", src=artlinks.art[4]), align=\"center\")"
   ]
  },
  {
   "cell_type": "markdown",
   "id": "5a299af0",
   "metadata": {},
   "source": [
    "## Officers"
   ]
  },
  {
   "cell_type": "code",
   "execution_count": 106,
   "id": "4b61ed5a",
   "metadata": {},
   "outputs": [],
   "source": [
    "officer(\"Presiding\",\"Bishop Joey Powell\", page)\n",
    "#officer(\"Conducting\",\"Bishop Joey Powell\", page)\n",
    "officer(\"Conducting\",\"Brother Dale Crosby\", page)\n",
    "#officer(\"Conducting\",\"Brother Jared Draney\", page)"
   ]
  },
  {
   "cell_type": "markdown",
   "id": "88a662c8",
   "metadata": {},
   "source": [
    "## Opening and sacrament hymns"
   ]
  },
  {
   "cell_type": "code",
   "execution_count": 107,
   "id": "4883fb5d",
   "metadata": {},
   "outputs": [],
   "source": [
    "music(131,\"Opening Hymn\",page)  \n",
    "music(170,\"Sacrament Hymn\", page) "
   ]
  },
  {
   "cell_type": "markdown",
   "id": "b9aa0b92",
   "metadata": {},
   "source": [
    "## Variable part of the program"
   ]
  },
  {
   "cell_type": "markdown",
   "id": "5c036916",
   "metadata": {},
   "source": [
    "### If it's fast and testimony meeting, uncomment this section and comment out the sacrament meeting items"
   ]
  },
  {
   "cell_type": "code",
   "execution_count": 108,
   "id": "7d5e22dd",
   "metadata": {},
   "outputs": [],
   "source": [
    "# Uncomment this line for fast and testimony meeting\n",
    "#testimonies(page)"
   ]
  },
  {
   "cell_type": "markdown",
   "id": "acc7f590",
   "metadata": {},
   "source": [
    "### For a sacrament meeting or ward conference, comment out the testimonies and use these sections as needed"
   ]
  },
  {
   "cell_type": "code",
   "execution_count": 109,
   "id": "0362fecd",
   "metadata": {},
   "outputs": [],
   "source": [
    "# Use lines like these to form the speaking part of the program\n",
    "#speaker(\"Elder Curtis Covington\", page)\n",
    "speaker(\"Mae Rencher\", page)\n",
    "\n",
    "#music(14,\"Intermediate Hymn\",page)\n",
    "#specialmusic(\"Chris Fulcher\",page, title=\"I Am a Child of God\",accompanist = \"Jared Draney\")\n",
    "\n",
    "speaker(\"Brother Stephen Calvert\", page)\n",
    "#speaker(\"Ben Powell\", page)"
   ]
  },
  {
   "cell_type": "markdown",
   "id": "aa869bd8",
   "metadata": {},
   "source": [
    "### Closing hymn"
   ]
  },
  {
   "cell_type": "code",
   "execution_count": 110,
   "id": "fb6df9fc",
   "metadata": {},
   "outputs": [],
   "source": [
    "music(128,\"Closing Hymn\",page)"
   ]
  },
  {
   "cell_type": "markdown",
   "id": "c6564ff0",
   "metadata": {},
   "source": [
    "## End matter - thought, announcements, links"
   ]
  },
  {
   "cell_type": "code",
   "execution_count": 111,
   "id": "50d50bc2",
   "metadata": {},
   "outputs": [],
   "source": [
    "# Spiritual thought\n",
    "quote = (\"It has been said that the gospel of Jesus Christ is ‘simply beautiful and beautifully simple.’ The world is not. It is complicated, complex, and filled with turmoil and strife. We are blessed as we exercise care not to allow complexity, so common in the world, to enter into the way we receive and practice the gospel\")\n",
    "author = \"Elder Gary E. Stevenson\"\n",
    "thought(quote, author, page)\n",
    "\n",
    "# Make a list of announcements, then post to the page\n",
    "txtlist = (\n",
    "            \"Stake Women's Conference, Lexington, August 20, 10:00 am - 1:00 pm\",\n",
    "            \"Multi-stake Single Adult (31+) Fireside, Richmond, August 21, 6:00 - 8:00 pm\",\n",
    "            \"Stake Family Beach Day, Saturday August 27 9:00 am - 2:00 pm, 1304 Monument Drive, Surfside\",\n",
    "            \"National 9/11 Day of Service, Houston National Cemetery, September 10, 9:00 am - 1:00 pm, More on JustServe.org\",\n",
    "            \"Stake Youth Standards Night, September 11, 6:00 - 7:15 pm\",\n",
    "            \"Emotional Resilience for Youth Devotional, September 11, 7:30 - 8:00 pm\",\n",
    "            \"Stake Youth Missionary Preparation Fireside, September 25, 7:00 - 8:00 pm\",\n",
    "            \"Send announcements to bvl2clerk@gmail.com\"\n",
    "           )\n",
    "announcements(txtlist, page)\n",
    "\n",
    "# Make a list of links, then post\n",
    "linklist = (\n",
    "        (\"Sign up to feed the missionaries\",\"https://www.signupgenius.com/go/10c0e4baca82ea7fb6-dinner2\"),\n",
    "        (\"Sign up to prepare a meal with Fort Bend Family Promise\",\"https://www.signupgenius.com/go/10c0e4baca82ea7fb6-helping4\"),\n",
    "        (\"Help at secondmile.org\",\"https://secondmile.org\"),\n",
    "        (\"Info on Day of Service at Houston National Cemetery\",\"https://www.justserve.org/projects/8f535a3e-3526-407c-ba6a-d5fb817c3d83?shiftId=60146a51-2582-4b28-8923-c182d616f509\")\n",
    "        )\n",
    "links(linklist, page)\n",
    "credit(\"Pete Slater\", page)"
   ]
  },
  {
   "cell_type": "markdown",
   "id": "ea336a25",
   "metadata": {},
   "source": [
    "# Write out the file to Index.html, which must be posted online"
   ]
  },
  {
   "cell_type": "code",
   "execution_count": 112,
   "id": "3e60260a",
   "metadata": {},
   "outputs": [
    {
     "name": "stdout",
     "output_type": "stream",
     "text": [
      "<!DOCTYPE HTML PUBLIC '-//W3C//DTD HTML 4.01 Transitional//EN'>\n",
      "<html lang=\"en\">\n",
      "<head>\n",
      "</head>\n",
      "<body>\n",
      "<br />\n",
      "<meta name=\"viewport\" content=\"width=device-width, initial-scale=1.0\" />\n",
      "<h1 align=\"center\">Sugar Land 2nd Ward</h1>\n",
      "<h2 align=\"center\">Fast and Testimony Meeting</h2>\n",
      "<h2 align=\"center\">August 7, 2022</h2>\n",
      "<p align=\"center\"><img style=\"max-width:50%;height:auto;\" src=\"https://assets.ldscdn.org/e4/40/e440b004051c60f0e7b85e8af9b5bfbca156cf2d/houston_texas_mormon_temple.jpeg\" /></p>\n",
      "<p align=\"center\"><b>Presiding:</b> Bishop Joey Powell</p>\n",
      "<p align=\"center\"><b>Conducting:</b> Brother Dale Crosby</p>\n",
      "<h2 align=\"center\">Opening Hymn</h2>\n",
      "<p align=\"center\"><a href=\"https://www.churchofjesuschrist.org/music/library/hymns/testimony?lang=eng&amp;#39\">#137, Testimony</a></p>\n",
      "<h2 align=\"center\">Sacrament Hymn</h2>\n",
      "<p align=\"center\"><a href=\"https://www.churchofjesuschrist.org/music/library/hymns/with-humble-heart?lang=eng&amp;#39\">#171, With Humble Heart</a></p>\n",
      "<h2 align=\"center\">Bearing of Testimonies</h2>\n",
      "<h2 align=\"center\">Closing Hymn</h2>\n",
      "<p align=\"center\"><a href=\"https://www.churchofjesuschrist.org/music/library/hymns/how-gentle-gods-commands?lang=eng&amp;#39\">#125, How Gentle God's Commands</a></p>\n",
      "<hr />\n",
      "<p align=\"center\">It has been said that the gospel of Jesus Christ is ‘simply beautiful and beautifully simple.’ The world is not. It is complicated, complex, and filled with turmoil and strife. We are blessed as we exercise care not to allow complexity, so common in the world, to enter into the way we receive and practice the gospel</p>\n",
      "<p align=\"center\">- Elder Gary E. Stevenson</p>\n",
      "<hr />\n",
      "<h1 align=\"center\">Announcements</h1>\n",
      "<p align=\"center\">A Deseret Industries pod will be located in the parking lot from August 9-12</p>\n",
      "<p align=\"center\">Multi-stake youth dance at Lexington, August 13, 7:30 - 10:30 pm</p>\n",
      "<p align=\"center\">Stake Women's Conference, Lexington, August 20, 10:00 am - 1:00 pm</p>\n",
      "<p align=\"center\">Multi-stake Single Adult (31+) Fireside, Richmond, August 21, 6:00 - 8:00 pm</p>\n",
      "<p align=\"center\">Stake Family Beach Day, Saturday August 27 9:00 am - 2:00 pm, 1304 Monument Drive, Surfside</p>\n",
      "<p align=\"center\">National 9/11 Day of Service, Houston National Cemetery, September 10, 9:00 am - 1:00 pm, More on JustServe.org</p>\n",
      "<p align=\"center\">Stake Youth Standards Night, September 11, 6:00 - 7:15 pm</p>\n",
      "<p align=\"center\">Emotional Resilience for Youth Devotional, September 11, 7:30 - 8:00 pm</p>\n",
      "<p align=\"center\">Stake Youth Missionary Preparation Fireside, September 25, 7:00 - 8:00 pm</p>\n",
      "<p align=\"center\">Send announcements to bvl2clerk@gmail.com</p>\n",
      "<hr />\n",
      "<h1 align=\"center\">Links</h1>\n",
      "<p align=\"center\"><a href=\"https://www.signupgenius.com/go/10c0e4baca82ea7fb6-dinner2\" target=\"_blank\" rel=\"noreferrer noopener\">Sign up to feed the missionaries</a></p>\n",
      "<p align=\"center\"><a href=\"https://www.signupgenius.com/go/10c0e4baca82ea7fb6-helping4\" target=\"_blank\" rel=\"noreferrer noopener\">Sign up to prepare a meal with Fort Bend Family Promise</a></p>\n",
      "<p align=\"center\"><a href=\"https://secondmile.org\" target=\"_blank\" rel=\"noreferrer noopener\">Help at secondmile.org</a></p>\n",
      "<p align=\"center\"><a href=\"https://www.justserve.org/projects/8f535a3e-3526-407c-ba6a-d5fb817c3d83?shiftId=60146a51-2582-4b28-8923-c182d616f509\" target=\"_blank\" rel=\"noreferrer noopener\">Info on Day of Service at Houston National Cemetery</a></p>\n",
      "<hr />\n",
      "<small align=\"center\">Edited August 07, 2022 by Pete Slater</small>\n",
      "</body>\n",
      "</html>\n"
     ]
    },
    {
     "data": {
      "text/plain": [
       "'\\nEnd of script\\n'"
      ]
     },
     "execution_count": 112,
     "metadata": {},
     "output_type": "execute_result"
    }
   ],
   "source": [
    "print (page)# -*- coding: utf-8 -*\n",
    "\n",
    "original_stdout = sys.stdout\n",
    "with open('Index.html', 'w') as f:\n",
    "    sys.stdout = f # Change the standard output to the file we created.\n",
    "    print(page)\n",
    "    sys.stdout = original_stdout # Reset the standard output to its original value\n",
    "\"\"\"\n",
    "End of script\n",
    "\"\"\""
   ]
  },
  {
   "cell_type": "code",
   "execution_count": null,
   "id": "ead46242",
   "metadata": {},
   "outputs": [],
   "source": []
  }
 ],
 "metadata": {
  "kernelspec": {
   "display_name": "Python 3 (ipykernel)",
   "language": "python",
   "name": "python3"
  },
  "language_info": {
   "codemirror_mode": {
    "name": "ipython",
    "version": 3
   },
   "file_extension": ".py",
   "mimetype": "text/x-python",
   "name": "python",
   "nbconvert_exporter": "python",
   "pygments_lexer": "ipython3",
   "version": "3.9.12"
  }
 },
 "nbformat": 4,
 "nbformat_minor": 5
}
